{
 "cells": [
  {
   "cell_type": "markdown",
   "id": "e6f661ad-b91d-4df1-adf5-9d9bdf138899",
   "metadata": {},
   "source": [
    "# 1. Formula 1 World Championship (1950 - 2024) Analysis "
   ]
  },
  {
   "cell_type": "markdown",
   "id": "44c65d67-7450-43ce-8b62-9f82c807b4b6",
   "metadata": {},
   "source": [
    "<img src=\"f1_ferrari3.png\" style=\"width:60%; border-radius:20px;\" />"
   ]
  },
  {
   "cell_type": "markdown",
   "id": "fa92d4a1-e99a-49db-b739-b5b1f30f5598",
   "metadata": {},
   "source": [
    "### 1.1 Environment Setup"
   ]
  },
  {
   "cell_type": "markdown",
   "id": "ffb03efc-aa42-4942-83bc-cde0f18afd71",
   "metadata": {},
   "source": [
    "##### Import of the packages"
   ]
  },
  {
   "cell_type": "code",
   "execution_count": 1,
   "id": "a6fe4d30-742f-4e6d-bedc-c9b42b449084",
   "metadata": {},
   "outputs": [
    {
     "name": "stdout",
     "output_type": "stream",
     "text": [
      "Requirement already satisfied: google-cloud in c:\\users\\alessandro\\appdata\\roaming\\python\\python312\\site-packages (0.34.0)\n",
      "Note: you may need to restart the kernel to use updated packages.\n",
      "Requirement already satisfied: google-cloud-monitoring in c:\\users\\alessandro\\appdata\\local\\programs\\python\\python312\\lib\\site-packages (2.27.2)\n",
      "Requirement already satisfied: google-api-core!=2.0.*,!=2.1.*,!=2.10.*,!=2.2.*,!=2.3.*,!=2.4.*,!=2.5.*,!=2.6.*,!=2.7.*,!=2.8.*,!=2.9.*,<3.0.0,>=1.34.1 in c:\\users\\alessandro\\appdata\\local\\programs\\python\\python312\\lib\\site-packages (from google-api-core[grpc]!=2.0.*,!=2.1.*,!=2.10.*,!=2.2.*,!=2.3.*,!=2.4.*,!=2.5.*,!=2.6.*,!=2.7.*,!=2.8.*,!=2.9.*,<3.0.0,>=1.34.1->google-cloud-monitoring) (2.24.2)\n",
      "Requirement already satisfied: google-auth!=2.24.0,!=2.25.0,<3.0.0,>=2.14.1 in c:\\users\\alessandro\\appdata\\local\\programs\\python\\python312\\lib\\site-packages (from google-cloud-monitoring) (2.40.0)\n",
      "Requirement already satisfied: proto-plus<2.0.0,>=1.22.3 in c:\\users\\alessandro\\appdata\\local\\programs\\python\\python312\\lib\\site-packages (from google-cloud-monitoring) (1.26.1)\n",
      "Requirement already satisfied: protobuf!=4.21.0,!=4.21.1,!=4.21.2,!=4.21.3,!=4.21.4,!=4.21.5,<7.0.0,>=3.20.2 in c:\\users\\alessandro\\appdata\\local\\programs\\python\\python312\\lib\\site-packages (from google-cloud-monitoring) (6.31.0rc2)\n",
      "Requirement already satisfied: googleapis-common-protos<2.0.0,>=1.56.2 in c:\\users\\alessandro\\appdata\\local\\programs\\python\\python312\\lib\\site-packages (from google-api-core!=2.0.*,!=2.1.*,!=2.10.*,!=2.2.*,!=2.3.*,!=2.4.*,!=2.5.*,!=2.6.*,!=2.7.*,!=2.8.*,!=2.9.*,<3.0.0,>=1.34.1->google-api-core[grpc]!=2.0.*,!=2.1.*,!=2.10.*,!=2.2.*,!=2.3.*,!=2.4.*,!=2.5.*,!=2.6.*,!=2.7.*,!=2.8.*,!=2.9.*,<3.0.0,>=1.34.1->google-cloud-monitoring) (1.70.0)\n",
      "Requirement already satisfied: requests<3.0.0,>=2.18.0 in c:\\users\\alessandro\\appdata\\local\\programs\\python\\python312\\lib\\site-packages (from google-api-core!=2.0.*,!=2.1.*,!=2.10.*,!=2.2.*,!=2.3.*,!=2.4.*,!=2.5.*,!=2.6.*,!=2.7.*,!=2.8.*,!=2.9.*,<3.0.0,>=1.34.1->google-api-core[grpc]!=2.0.*,!=2.1.*,!=2.10.*,!=2.2.*,!=2.3.*,!=2.4.*,!=2.5.*,!=2.6.*,!=2.7.*,!=2.8.*,!=2.9.*,<3.0.0,>=1.34.1->google-cloud-monitoring) (2.32.3)\n",
      "Requirement already satisfied: grpcio<2.0dev,>=1.33.2 in c:\\users\\alessandro\\appdata\\local\\programs\\python\\python312\\lib\\site-packages (from google-api-core[grpc]!=2.0.*,!=2.1.*,!=2.10.*,!=2.2.*,!=2.3.*,!=2.4.*,!=2.5.*,!=2.6.*,!=2.7.*,!=2.8.*,!=2.9.*,<3.0.0,>=1.34.1->google-cloud-monitoring) (1.72.0rc1)\n",
      "Requirement already satisfied: grpcio-status<2.0.dev0,>=1.33.2 in c:\\users\\alessandro\\appdata\\local\\programs\\python\\python312\\lib\\site-packages (from google-api-core[grpc]!=2.0.*,!=2.1.*,!=2.10.*,!=2.2.*,!=2.3.*,!=2.4.*,!=2.5.*,!=2.6.*,!=2.7.*,!=2.8.*,!=2.9.*,<3.0.0,>=1.34.1->google-cloud-monitoring) (1.72.0rc1)\n",
      "Requirement already satisfied: cachetools<6.0,>=2.0.0 in c:\\users\\alessandro\\appdata\\local\\programs\\python\\python312\\lib\\site-packages (from google-auth!=2.24.0,!=2.25.0,<3.0.0,>=2.14.1->google-cloud-monitoring) (5.5.2)\n",
      "Requirement already satisfied: pyasn1-modules>=0.2.1 in c:\\users\\alessandro\\appdata\\local\\programs\\python\\python312\\lib\\site-packages (from google-auth!=2.24.0,!=2.25.0,<3.0.0,>=2.14.1->google-cloud-monitoring) (0.4.2)\n",
      "Requirement already satisfied: rsa<5,>=3.1.4 in c:\\users\\alessandro\\appdata\\local\\programs\\python\\python312\\lib\\site-packages (from google-auth!=2.24.0,!=2.25.0,<3.0.0,>=2.14.1->google-cloud-monitoring) (4.9.1)\n",
      "Requirement already satisfied: charset-normalizer<4,>=2 in c:\\users\\alessandro\\appdata\\local\\programs\\python\\python312\\lib\\site-packages (from requests<3.0.0,>=2.18.0->google-api-core!=2.0.*,!=2.1.*,!=2.10.*,!=2.2.*,!=2.3.*,!=2.4.*,!=2.5.*,!=2.6.*,!=2.7.*,!=2.8.*,!=2.9.*,<3.0.0,>=1.34.1->google-api-core[grpc]!=2.0.*,!=2.1.*,!=2.10.*,!=2.2.*,!=2.3.*,!=2.4.*,!=2.5.*,!=2.6.*,!=2.7.*,!=2.8.*,!=2.9.*,<3.0.0,>=1.34.1->google-cloud-monitoring) (3.3.2)\n",
      "Requirement already satisfied: idna<4,>=2.5 in c:\\users\\alessandro\\appdata\\local\\programs\\python\\python312\\lib\\site-packages (from requests<3.0.0,>=2.18.0->google-api-core!=2.0.*,!=2.1.*,!=2.10.*,!=2.2.*,!=2.3.*,!=2.4.*,!=2.5.*,!=2.6.*,!=2.7.*,!=2.8.*,!=2.9.*,<3.0.0,>=1.34.1->google-api-core[grpc]!=2.0.*,!=2.1.*,!=2.10.*,!=2.2.*,!=2.3.*,!=2.4.*,!=2.5.*,!=2.6.*,!=2.7.*,!=2.8.*,!=2.9.*,<3.0.0,>=1.34.1->google-cloud-monitoring) (3.6)\n",
      "Requirement already satisfied: urllib3<3,>=1.21.1 in c:\\users\\alessandro\\appdata\\local\\programs\\python\\python312\\lib\\site-packages (from requests<3.0.0,>=2.18.0->google-api-core!=2.0.*,!=2.1.*,!=2.10.*,!=2.2.*,!=2.3.*,!=2.4.*,!=2.5.*,!=2.6.*,!=2.7.*,!=2.8.*,!=2.9.*,<3.0.0,>=1.34.1->google-api-core[grpc]!=2.0.*,!=2.1.*,!=2.10.*,!=2.2.*,!=2.3.*,!=2.4.*,!=2.5.*,!=2.6.*,!=2.7.*,!=2.8.*,!=2.9.*,<3.0.0,>=1.34.1->google-cloud-monitoring) (2.2.1)\n",
      "Requirement already satisfied: certifi>=2017.4.17 in c:\\users\\alessandro\\appdata\\local\\programs\\python\\python312\\lib\\site-packages (from requests<3.0.0,>=2.18.0->google-api-core!=2.0.*,!=2.1.*,!=2.10.*,!=2.2.*,!=2.3.*,!=2.4.*,!=2.5.*,!=2.6.*,!=2.7.*,!=2.8.*,!=2.9.*,<3.0.0,>=1.34.1->google-api-core[grpc]!=2.0.*,!=2.1.*,!=2.10.*,!=2.2.*,!=2.3.*,!=2.4.*,!=2.5.*,!=2.6.*,!=2.7.*,!=2.8.*,!=2.9.*,<3.0.0,>=1.34.1->google-cloud-monitoring) (2024.2.2)\n",
      "Requirement already satisfied: pyasn1>=0.1.3 in c:\\users\\alessandro\\appdata\\local\\programs\\python\\python312\\lib\\site-packages (from rsa<5,>=3.1.4->google-auth!=2.24.0,!=2.25.0,<3.0.0,>=2.14.1->google-cloud-monitoring) (0.6.1)\n",
      "Note: you may need to restart the kernel to use updated packages.\n",
      "Requirement already satisfied: google-cloud-storage in c:\\users\\alessandro\\appdata\\local\\programs\\python\\python312\\lib\\site-packages (3.1.0)Note: you may need to restart the kernel to use updated packages.\n",
      "\n",
      "Requirement already satisfied: google-auth<3.0dev,>=2.26.1 in c:\\users\\alessandro\\appdata\\local\\programs\\python\\python312\\lib\\site-packages (from google-cloud-storage) (2.40.0)\n",
      "Requirement already satisfied: google-api-core<3.0.0dev,>=2.15.0 in c:\\users\\alessandro\\appdata\\local\\programs\\python\\python312\\lib\\site-packages (from google-cloud-storage) (2.24.2)\n",
      "Requirement already satisfied: google-cloud-core<3.0dev,>=2.4.2 in c:\\users\\alessandro\\appdata\\local\\programs\\python\\python312\\lib\\site-packages (from google-cloud-storage) (2.4.3)\n",
      "Requirement already satisfied: google-resumable-media>=2.7.2 in c:\\users\\alessandro\\appdata\\local\\programs\\python\\python312\\lib\\site-packages (from google-cloud-storage) (2.7.2)\n",
      "Requirement already satisfied: requests<3.0.0dev,>=2.18.0 in c:\\users\\alessandro\\appdata\\local\\programs\\python\\python312\\lib\\site-packages (from google-cloud-storage) (2.32.3)\n",
      "Requirement already satisfied: google-crc32c<2.0dev,>=1.0 in c:\\users\\alessandro\\appdata\\local\\programs\\python\\python312\\lib\\site-packages (from google-cloud-storage) (1.7.1)\n",
      "Requirement already satisfied: googleapis-common-protos<2.0.0,>=1.56.2 in c:\\users\\alessandro\\appdata\\local\\programs\\python\\python312\\lib\\site-packages (from google-api-core<3.0.0dev,>=2.15.0->google-cloud-storage) (1.70.0)\n",
      "Requirement already satisfied: protobuf!=3.20.0,!=3.20.1,!=4.21.0,!=4.21.1,!=4.21.2,!=4.21.3,!=4.21.4,!=4.21.5,<7.0.0,>=3.19.5 in c:\\users\\alessandro\\appdata\\local\\programs\\python\\python312\\lib\\site-packages (from google-api-core<3.0.0dev,>=2.15.0->google-cloud-storage) (6.31.0rc2)\n",
      "Requirement already satisfied: proto-plus<2.0.0,>=1.22.3 in c:\\users\\alessandro\\appdata\\local\\programs\\python\\python312\\lib\\site-packages (from google-api-core<3.0.0dev,>=2.15.0->google-cloud-storage) (1.26.1)\n",
      "Requirement already satisfied: cachetools<6.0,>=2.0.0 in c:\\users\\alessandro\\appdata\\local\\programs\\python\\python312\\lib\\site-packages (from google-auth<3.0dev,>=2.26.1->google-cloud-storage) (5.5.2)\n",
      "Requirement already satisfied: pyasn1-modules>=0.2.1 in c:\\users\\alessandro\\appdata\\local\\programs\\python\\python312\\lib\\site-packages (from google-auth<3.0dev,>=2.26.1->google-cloud-storage) (0.4.2)\n",
      "Requirement already satisfied: rsa<5,>=3.1.4 in c:\\users\\alessandro\\appdata\\local\\programs\\python\\python312\\lib\\site-packages (from google-auth<3.0dev,>=2.26.1->google-cloud-storage) (4.9.1)\n",
      "Requirement already satisfied: charset-normalizer<4,>=2 in c:\\users\\alessandro\\appdata\\local\\programs\\python\\python312\\lib\\site-packages (from requests<3.0.0dev,>=2.18.0->google-cloud-storage) (3.3.2)\n",
      "Requirement already satisfied: idna<4,>=2.5 in c:\\users\\alessandro\\appdata\\local\\programs\\python\\python312\\lib\\site-packages (from requests<3.0.0dev,>=2.18.0->google-cloud-storage) (3.6)\n",
      "Requirement already satisfied: urllib3<3,>=1.21.1 in c:\\users\\alessandro\\appdata\\local\\programs\\python\\python312\\lib\\site-packages (from requests<3.0.0dev,>=2.18.0->google-cloud-storage) (2.2.1)\n",
      "Requirement already satisfied: certifi>=2017.4.17 in c:\\users\\alessandro\\appdata\\local\\programs\\python\\python312\\lib\\site-packages (from requests<3.0.0dev,>=2.18.0->google-cloud-storage) (2024.2.2)\n",
      "Requirement already satisfied: pyasn1>=0.1.3 in c:\\users\\alessandro\\appdata\\local\\programs\\python\\python312\\lib\\site-packages (from rsa<5,>=3.1.4->google-auth<3.0dev,>=2.26.1->google-cloud-storage) (0.6.1)\n",
      "Requirement already satisfied: google-cloud-bigquery in c:\\users\\alessandro\\appdata\\local\\programs\\python\\python312\\lib\\site-packages (3.34.0)Note: you may need to restart the kernel to use updated packages.\n",
      "\n",
      "Requirement already satisfied: google-api-core<3.0.0,>=2.11.1 in c:\\users\\alessandro\\appdata\\local\\programs\\python\\python312\\lib\\site-packages (from google-api-core[grpc]<3.0.0,>=2.11.1->google-cloud-bigquery) (2.24.2)\n",
      "Requirement already satisfied: google-auth<3.0.0,>=2.14.1 in c:\\users\\alessandro\\appdata\\local\\programs\\python\\python312\\lib\\site-packages (from google-cloud-bigquery) (2.40.0)\n",
      "Requirement already satisfied: google-cloud-core<3.0.0,>=2.4.1 in c:\\users\\alessandro\\appdata\\local\\programs\\python\\python312\\lib\\site-packages (from google-cloud-bigquery) (2.4.3)\n",
      "Requirement already satisfied: google-resumable-media<3.0.0,>=2.0.0 in c:\\users\\alessandro\\appdata\\local\\programs\\python\\python312\\lib\\site-packages (from google-cloud-bigquery) (2.7.2)\n",
      "Requirement already satisfied: packaging>=24.2.0 in c:\\users\\alessandro\\appdata\\local\\programs\\python\\python312\\lib\\site-packages (from google-cloud-bigquery) (25.0)\n",
      "Requirement already satisfied: python-dateutil<3.0.0,>=2.8.2 in c:\\users\\alessandro\\appdata\\local\\programs\\python\\python312\\lib\\site-packages (from google-cloud-bigquery) (2.9.0.post0)\n",
      "Requirement already satisfied: requests<3.0.0,>=2.21.0 in c:\\users\\alessandro\\appdata\\local\\programs\\python\\python312\\lib\\site-packages (from google-cloud-bigquery) (2.32.3)\n",
      "Requirement already satisfied: googleapis-common-protos<2.0.0,>=1.56.2 in c:\\users\\alessandro\\appdata\\local\\programs\\python\\python312\\lib\\site-packages (from google-api-core<3.0.0,>=2.11.1->google-api-core[grpc]<3.0.0,>=2.11.1->google-cloud-bigquery) (1.70.0)\n",
      "Requirement already satisfied: protobuf!=3.20.0,!=3.20.1,!=4.21.0,!=4.21.1,!=4.21.2,!=4.21.3,!=4.21.4,!=4.21.5,<7.0.0,>=3.19.5 in c:\\users\\alessandro\\appdata\\local\\programs\\python\\python312\\lib\\site-packages (from google-api-core<3.0.0,>=2.11.1->google-api-core[grpc]<3.0.0,>=2.11.1->google-cloud-bigquery) (6.31.0rc2)\n",
      "Requirement already satisfied: proto-plus<2.0.0,>=1.22.3 in c:\\users\\alessandro\\appdata\\local\\programs\\python\\python312\\lib\\site-packages (from google-api-core<3.0.0,>=2.11.1->google-api-core[grpc]<3.0.0,>=2.11.1->google-cloud-bigquery) (1.26.1)\n",
      "Requirement already satisfied: grpcio<2.0dev,>=1.33.2 in c:\\users\\alessandro\\appdata\\local\\programs\\python\\python312\\lib\\site-packages (from google-api-core[grpc]<3.0.0,>=2.11.1->google-cloud-bigquery) (1.72.0rc1)\n",
      "Requirement already satisfied: grpcio-status<2.0.dev0,>=1.33.2 in c:\\users\\alessandro\\appdata\\local\\programs\\python\\python312\\lib\\site-packages (from google-api-core[grpc]<3.0.0,>=2.11.1->google-cloud-bigquery) (1.72.0rc1)\n",
      "Requirement already satisfied: cachetools<6.0,>=2.0.0 in c:\\users\\alessandro\\appdata\\local\\programs\\python\\python312\\lib\\site-packages (from google-auth<3.0.0,>=2.14.1->google-cloud-bigquery) (5.5.2)\n",
      "Requirement already satisfied: pyasn1-modules>=0.2.1 in c:\\users\\alessandro\\appdata\\local\\programs\\python\\python312\\lib\\site-packages (from google-auth<3.0.0,>=2.14.1->google-cloud-bigquery) (0.4.2)\n",
      "Requirement already satisfied: rsa<5,>=3.1.4 in c:\\users\\alessandro\\appdata\\local\\programs\\python\\python312\\lib\\site-packages (from google-auth<3.0.0,>=2.14.1->google-cloud-bigquery) (4.9.1)\n",
      "Requirement already satisfied: google-crc32c<2.0dev,>=1.0 in c:\\users\\alessandro\\appdata\\local\\programs\\python\\python312\\lib\\site-packages (from google-resumable-media<3.0.0,>=2.0.0->google-cloud-bigquery) (1.7.1)\n",
      "Requirement already satisfied: six>=1.5 in c:\\users\\alessandro\\appdata\\local\\programs\\python\\python312\\lib\\site-packages (from python-dateutil<3.0.0,>=2.8.2->google-cloud-bigquery) (1.16.0)\n",
      "Requirement already satisfied: charset-normalizer<4,>=2 in c:\\users\\alessandro\\appdata\\local\\programs\\python\\python312\\lib\\site-packages (from requests<3.0.0,>=2.21.0->google-cloud-bigquery) (3.3.2)\n",
      "Requirement already satisfied: idna<4,>=2.5 in c:\\users\\alessandro\\appdata\\local\\programs\\python\\python312\\lib\\site-packages (from requests<3.0.0,>=2.21.0->google-cloud-bigquery) (3.6)\n",
      "Requirement already satisfied: urllib3<3,>=1.21.1 in c:\\users\\alessandro\\appdata\\local\\programs\\python\\python312\\lib\\site-packages (from requests<3.0.0,>=2.21.0->google-cloud-bigquery) (2.2.1)\n",
      "Requirement already satisfied: certifi>=2017.4.17 in c:\\users\\alessandro\\appdata\\local\\programs\\python\\python312\\lib\\site-packages (from requests<3.0.0,>=2.21.0->google-cloud-bigquery) (2024.2.2)\n",
      "Requirement already satisfied: pyasn1>=0.1.3 in c:\\users\\alessandro\\appdata\\local\\programs\\python\\python312\\lib\\site-packages (from rsa<5,>=3.1.4->google-auth<3.0.0,>=2.14.1->google-cloud-bigquery) (0.6.1)\n",
      "Requirement already satisfied: google-cloud-bigquery-storage in c:\\users\\alessandro\\appdata\\local\\programs\\python\\python312\\lib\\site-packages (2.32.0)\n",
      "Requirement already satisfied: google-api-core!=2.0.*,!=2.1.*,!=2.10.*,!=2.2.*,!=2.3.*,!=2.4.*,!=2.5.*,!=2.6.*,!=2.7.*,!=2.8.*,!=2.9.*,<3.0.0,>=1.34.0 in c:\\users\\alessandro\\appdata\\local\\programs\\python\\python312\\lib\\site-packages (from google-api-core[grpc]!=2.0.*,!=2.1.*,!=2.10.*,!=2.2.*,!=2.3.*,!=2.4.*,!=2.5.*,!=2.6.*,!=2.7.*,!=2.8.*,!=2.9.*,<3.0.0,>=1.34.0->google-cloud-bigquery-storage) (2.24.2)\n",
      "Requirement already satisfied: google-auth<3.0.0,>=2.14.1 in c:\\users\\alessandro\\appdata\\local\\programs\\python\\python312\\lib\\site-packages (from google-cloud-bigquery-storage) (2.40.0)\n",
      "Requirement already satisfied: proto-plus<2.0.0,>=1.22.0 in c:\\users\\alessandro\\appdata\\local\\programs\\python\\python312\\lib\\site-packages (from google-cloud-bigquery-storage) (1.26.1)\n",
      "Requirement already satisfied: protobuf!=3.20.0,!=3.20.1,!=4.21.0,!=4.21.1,!=4.21.2,!=4.21.3,!=4.21.4,!=4.21.5,<7.0.0,>=3.20.2 in c:\\users\\alessandro\\appdata\\local\\programs\\python\\python312\\lib\\site-packages (from google-cloud-bigquery-storage) (6.31.0rc2)\n",
      "Requirement already satisfied: googleapis-common-protos<2.0.0,>=1.56.2 in c:\\users\\alessandro\\appdata\\local\\programs\\python\\python312\\lib\\site-packages (from google-api-core!=2.0.*,!=2.1.*,!=2.10.*,!=2.2.*,!=2.3.*,!=2.4.*,!=2.5.*,!=2.6.*,!=2.7.*,!=2.8.*,!=2.9.*,<3.0.0,>=1.34.0->google-api-core[grpc]!=2.0.*,!=2.1.*,!=2.10.*,!=2.2.*,!=2.3.*,!=2.4.*,!=2.5.*,!=2.6.*,!=2.7.*,!=2.8.*,!=2.9.*,<3.0.0,>=1.34.0->google-cloud-bigquery-storage) (1.70.0)\n",
      "Requirement already satisfied: requests<3.0.0,>=2.18.0 in c:\\users\\alessandro\\appdata\\local\\programs\\python\\python312\\lib\\site-packages (from google-api-core!=2.0.*,!=2.1.*,!=2.10.*,!=2.2.*,!=2.3.*,!=2.4.*,!=2.5.*,!=2.6.*,!=2.7.*,!=2.8.*,!=2.9.*,<3.0.0,>=1.34.0->google-api-core[grpc]!=2.0.*,!=2.1.*,!=2.10.*,!=2.2.*,!=2.3.*,!=2.4.*,!=2.5.*,!=2.6.*,!=2.7.*,!=2.8.*,!=2.9.*,<3.0.0,>=1.34.0->google-cloud-bigquery-storage) (2.32.3)\n",
      "Requirement already satisfied: grpcio<2.0dev,>=1.33.2 in c:\\users\\alessandro\\appdata\\local\\programs\\python\\python312\\lib\\site-packages (from google-api-core[grpc]!=2.0.*,!=2.1.*,!=2.10.*,!=2.2.*,!=2.3.*,!=2.4.*,!=2.5.*,!=2.6.*,!=2.7.*,!=2.8.*,!=2.9.*,<3.0.0,>=1.34.0->google-cloud-bigquery-storage) (1.72.0rc1)\n",
      "Requirement already satisfied: grpcio-status<2.0.dev0,>=1.33.2 in c:\\users\\alessandro\\appdata\\local\\programs\\python\\python312\\lib\\site-packages (from google-api-core[grpc]!=2.0.*,!=2.1.*,!=2.10.*,!=2.2.*,!=2.3.*,!=2.4.*,!=2.5.*,!=2.6.*,!=2.7.*,!=2.8.*,!=2.9.*,<3.0.0,>=1.34.0->google-cloud-bigquery-storage) (1.72.0rc1)\n",
      "Requirement already satisfied: cachetools<6.0,>=2.0.0 in c:\\users\\alessandro\\appdata\\local\\programs\\python\\python312\\lib\\site-packages (from google-auth<3.0.0,>=2.14.1->google-cloud-bigquery-storage) (5.5.2)\n",
      "Requirement already satisfied: pyasn1-modules>=0.2.1 in c:\\users\\alessandro\\appdata\\local\\programs\\python\\python312\\lib\\site-packages (from google-auth<3.0.0,>=2.14.1->google-cloud-bigquery-storage) (0.4.2)\n",
      "Requirement already satisfied: rsa<5,>=3.1.4 in c:\\users\\alessandro\\appdata\\local\\programs\\python\\python312\\lib\\site-packages (from google-auth<3.0.0,>=2.14.1->google-cloud-bigquery-storage) (4.9.1)\n",
      "Requirement already satisfied: charset-normalizer<4,>=2 in c:\\users\\alessandro\\appdata\\local\\programs\\python\\python312\\lib\\site-packages (from requests<3.0.0,>=2.18.0->google-api-core!=2.0.*,!=2.1.*,!=2.10.*,!=2.2.*,!=2.3.*,!=2.4.*,!=2.5.*,!=2.6.*,!=2.7.*,!=2.8.*,!=2.9.*,<3.0.0,>=1.34.0->google-api-core[grpc]!=2.0.*,!=2.1.*,!=2.10.*,!=2.2.*,!=2.3.*,!=2.4.*,!=2.5.*,!=2.6.*,!=2.7.*,!=2.8.*,!=2.9.*,<3.0.0,>=1.34.0->google-cloud-bigquery-storage) (3.3.2)\n",
      "Requirement already satisfied: idna<4,>=2.5 in c:\\users\\alessandro\\appdata\\local\\programs\\python\\python312\\lib\\site-packages (from requests<3.0.0,>=2.18.0->google-api-core!=2.0.*,!=2.1.*,!=2.10.*,!=2.2.*,!=2.3.*,!=2.4.*,!=2.5.*,!=2.6.*,!=2.7.*,!=2.8.*,!=2.9.*,<3.0.0,>=1.34.0->google-api-core[grpc]!=2.0.*,!=2.1.*,!=2.10.*,!=2.2.*,!=2.3.*,!=2.4.*,!=2.5.*,!=2.6.*,!=2.7.*,!=2.8.*,!=2.9.*,<3.0.0,>=1.34.0->google-cloud-bigquery-storage) (3.6)\n",
      "Requirement already satisfied: urllib3<3,>=1.21.1 in c:\\users\\alessandro\\appdata\\local\\programs\\python\\python312\\lib\\site-packages (from requests<3.0.0,>=2.18.0->google-api-core!=2.0.*,!=2.1.*,!=2.10.*,!=2.2.*,!=2.3.*,!=2.4.*,!=2.5.*,!=2.6.*,!=2.7.*,!=2.8.*,!=2.9.*,<3.0.0,>=1.34.0->google-api-core[grpc]!=2.0.*,!=2.1.*,!=2.10.*,!=2.2.*,!=2.3.*,!=2.4.*,!=2.5.*,!=2.6.*,!=2.7.*,!=2.8.*,!=2.9.*,<3.0.0,>=1.34.0->google-cloud-bigquery-storage) (2.2.1)\n",
      "Requirement already satisfied: certifi>=2017.4.17 in c:\\users\\alessandro\\appdata\\local\\programs\\python\\python312\\lib\\site-packages (from requests<3.0.0,>=2.18.0->google-api-core!=2.0.*,!=2.1.*,!=2.10.*,!=2.2.*,!=2.3.*,!=2.4.*,!=2.5.*,!=2.6.*,!=2.7.*,!=2.8.*,!=2.9.*,<3.0.0,>=1.34.0->google-api-core[grpc]!=2.0.*,!=2.1.*,!=2.10.*,!=2.2.*,!=2.3.*,!=2.4.*,!=2.5.*,!=2.6.*,!=2.7.*,!=2.8.*,!=2.9.*,<3.0.0,>=1.34.0->google-cloud-bigquery-storage) (2024.2.2)\n",
      "Requirement already satisfied: pyasn1>=0.1.3 in c:\\users\\alessandro\\appdata\\local\\programs\\python\\python312\\lib\\site-packages (from rsa<5,>=3.1.4->google-auth<3.0.0,>=2.14.1->google-cloud-bigquery-storage) (0.6.1)\n",
      "Note: you may need to restart the kernel to use updated packages.\n",
      "Requirement already satisfied: pyspark in c:\\users\\alessandro\\appdata\\local\\programs\\python\\python312\\lib\\site-packages (4.0.0)\n",
      "Requirement already satisfied: py4j==0.10.9.9 in c:\\users\\alessandro\\appdata\\local\\programs\\python\\python312\\lib\\site-packages (from pyspark) (0.10.9.9)\n",
      "Note: you may need to restart the kernel to use updated packages.\n"
     ]
    }
   ],
   "source": [
    "%pip install --upgrade google-cloud\n",
    "%pip install --upgrade google-cloud-monitoring\n",
    "%pip install --upgrade google-cloud-storage\n",
    "%pip install --upgrade google-cloud-bigquery\n",
    "%pip install --upgrade google-cloud-bigquery-storage\n",
    "%pip install --upgrade pyspark\n",
    "import pyspark\n",
    "import findspark\n",
    "import matplotlib.pyplot as plt\n",
    "import seaborn as sns\n",
    "import pandas as pd\n",
    "import numpy as np\n",
    "import os\n",
    "from google.cloud import bigquery\n",
    "from pyspark.sql import SparkSession"
   ]
  },
  {
   "cell_type": "markdown",
   "id": "f675d356-126b-4060-be06-e250fbac43de",
   "metadata": {
    "jp-MarkdownHeadingCollapsed": true
   },
   "source": [
    "##### Displaying the path of Google Cloud credentials file for authentication"
   ]
  },
  {
   "cell_type": "code",
   "execution_count": 2,
   "id": "e15b4624-ab33-445e-ad84-1575f97a9d70",
   "metadata": {
    "scrolled": true
   },
   "outputs": [
    {
     "name": "stdout",
     "output_type": "stream",
     "text": [
      "%GOOGLE_APPLICATION_CREDENTIALS%\n"
     ]
    }
   ],
   "source": [
    "!echo %GOOGLE_APPLICATION_CREDENTIALS%"
   ]
  },
  {
   "cell_type": "markdown",
   "id": "59237741-ad16-4f29-8208-843e1a42adb0",
   "metadata": {
    "jp-MarkdownHeadingCollapsed": true
   },
   "source": [
    "##### Setting Google Cloud Credentials and Initializing BigQuery Client"
   ]
  },
  {
   "cell_type": "code",
   "execution_count": 3,
   "id": "7dadb36e-0a3a-473b-b138-a6b9f5beedd0",
   "metadata": {},
   "outputs": [
    {
     "name": "stdout",
     "output_type": "stream",
     "text": [
      "C:\\Users\\Alessandro\\Downloads\\ccbd-exam-2025-risino-1e4ecafc3ece.json\n",
      "done\n"
     ]
    }
   ],
   "source": [
    "os.environ['GOOGLE_APPLICATION_CREDENTIALS'] = r\"C:\\Users\\Alessandro\\Downloads\\ccbd-exam-2025-risino-1e4ecafc3ece.json\"\n",
    "\n",
    "!echo %GOOGLE_APPLICATION_CREDENTIALS%\n",
    "client = bigquery.Client() \n",
    "print('done')"
   ]
  },
  {
   "cell_type": "code",
   "execution_count": 4,
   "id": "a8bc3216-cb88-459c-a0bf-5af7da6cbd4c",
   "metadata": {},
   "outputs": [
    {
     "name": "stdout",
     "output_type": "stream",
     "text": [
      "  \"project_id\": \"ccbd-exam-2025-risino\",\n"
     ]
    }
   ],
   "source": [
    "!findstr \"project_id\" \"%GOOGLE_APPLICATION_CREDENTIALS%\""
   ]
  },
  {
   "cell_type": "markdown",
   "id": "61c33427-397b-439f-9b3d-909a050ba91c",
   "metadata": {
    "jp-MarkdownHeadingCollapsed": true
   },
   "source": [
    "### 1.2 Dataset Exploration and Selection methods"
   ]
  },
  {
   "cell_type": "markdown",
   "id": "8febd7cf-964d-4bef-b1dd-c8c2affe5ae1",
   "metadata": {
    "jp-MarkdownHeadingCollapsed": true
   },
   "source": [
    "##### Selection of the Datasets from GCP with the first method"
   ]
  },
  {
   "cell_type": "markdown",
   "id": "42f4554a-ed8d-4b22-818d-09ebf513be70",
   "metadata": {},
   "source": [
    "Fundamental the \"client = bigquery.Client()\" for this method"
   ]
  },
  {
   "cell_type": "code",
   "execution_count": 5,
   "id": "2c3635a2-c5ce-4f08-962c-cf80651c7cd0",
   "metadata": {},
   "outputs": [
    {
     "data": {
      "text/html": [
       "<div>\n",
       "<style scoped>\n",
       "    .dataframe tbody tr th:only-of-type {\n",
       "        vertical-align: middle;\n",
       "    }\n",
       "\n",
       "    .dataframe tbody tr th {\n",
       "        vertical-align: top;\n",
       "    }\n",
       "\n",
       "    .dataframe thead th {\n",
       "        text-align: right;\n",
       "    }\n",
       "</style>\n",
       "<table border=\"1\" class=\"dataframe\">\n",
       "  <thead>\n",
       "    <tr style=\"text-align: right;\">\n",
       "      <th></th>\n",
       "      <th>circuitId</th>\n",
       "      <th>circuitRef</th>\n",
       "      <th>name</th>\n",
       "      <th>location</th>\n",
       "      <th>country</th>\n",
       "      <th>lat</th>\n",
       "      <th>lng</th>\n",
       "      <th>alt</th>\n",
       "      <th>url</th>\n",
       "    </tr>\n",
       "  </thead>\n",
       "  <tbody>\n",
       "    <tr>\n",
       "      <th>0</th>\n",
       "      <td>25</td>\n",
       "      <td>galvez</td>\n",
       "      <td>Autódromo Juan y Oscar Gálvez</td>\n",
       "      <td>Buenos Aires</td>\n",
       "      <td>Argentina</td>\n",
       "      <td>-34.6943</td>\n",
       "      <td>-58.4593</td>\n",
       "      <td>8</td>\n",
       "      <td>http://en.wikipedia.org/wiki/Aut%C3%B3dromo_Os...</td>\n",
       "    </tr>\n",
       "    <tr>\n",
       "      <th>1</th>\n",
       "      <td>1</td>\n",
       "      <td>albert_park</td>\n",
       "      <td>Albert Park Grand Prix Circuit</td>\n",
       "      <td>Melbourne</td>\n",
       "      <td>Australia</td>\n",
       "      <td>-37.8497</td>\n",
       "      <td>144.9680</td>\n",
       "      <td>10</td>\n",
       "      <td>http://en.wikipedia.org/wiki/Melbourne_Grand_P...</td>\n",
       "    </tr>\n",
       "    <tr>\n",
       "      <th>2</th>\n",
       "      <td>29</td>\n",
       "      <td>adelaide</td>\n",
       "      <td>Adelaide Street Circuit</td>\n",
       "      <td>Adelaide</td>\n",
       "      <td>Australia</td>\n",
       "      <td>-34.9272</td>\n",
       "      <td>138.6170</td>\n",
       "      <td>58</td>\n",
       "      <td>http://en.wikipedia.org/wiki/Adelaide_Street_C...</td>\n",
       "    </tr>\n",
       "    <tr>\n",
       "      <th>3</th>\n",
       "      <td>57</td>\n",
       "      <td>zeltweg</td>\n",
       "      <td>Zeltweg</td>\n",
       "      <td>Styria</td>\n",
       "      <td>Austria</td>\n",
       "      <td>47.2039</td>\n",
       "      <td>14.7478</td>\n",
       "      <td>676</td>\n",
       "      <td>http://en.wikipedia.org/wiki/Zeltweg_Airfield</td>\n",
       "    </tr>\n",
       "    <tr>\n",
       "      <th>4</th>\n",
       "      <td>70</td>\n",
       "      <td>red_bull_ring</td>\n",
       "      <td>Red Bull Ring</td>\n",
       "      <td>Spielberg</td>\n",
       "      <td>Austria</td>\n",
       "      <td>47.2197</td>\n",
       "      <td>14.7647</td>\n",
       "      <td>678</td>\n",
       "      <td>http://en.wikipedia.org/wiki/Red_Bull_Ring</td>\n",
       "    </tr>\n",
       "  </tbody>\n",
       "</table>\n",
       "</div>"
      ],
      "text/plain": [
       "   circuitId     circuitRef                            name      location  \\\n",
       "0         25         galvez   Autódromo Juan y Oscar Gálvez  Buenos Aires   \n",
       "1          1    albert_park  Albert Park Grand Prix Circuit     Melbourne   \n",
       "2         29       adelaide         Adelaide Street Circuit      Adelaide   \n",
       "3         57        zeltweg                         Zeltweg        Styria   \n",
       "4         70  red_bull_ring                   Red Bull Ring     Spielberg   \n",
       "\n",
       "     country      lat       lng  alt  \\\n",
       "0  Argentina -34.6943  -58.4593    8   \n",
       "1  Australia -37.8497  144.9680   10   \n",
       "2  Australia -34.9272  138.6170   58   \n",
       "3    Austria  47.2039   14.7478  676   \n",
       "4    Austria  47.2197   14.7647  678   \n",
       "\n",
       "                                                 url  \n",
       "0  http://en.wikipedia.org/wiki/Aut%C3%B3dromo_Os...  \n",
       "1  http://en.wikipedia.org/wiki/Melbourne_Grand_P...  \n",
       "2  http://en.wikipedia.org/wiki/Adelaide_Street_C...  \n",
       "3      http://en.wikipedia.org/wiki/Zeltweg_Airfield  \n",
       "4         http://en.wikipedia.org/wiki/Red_Bull_Ring  "
      ]
     },
     "execution_count": 5,
     "metadata": {},
     "output_type": "execute_result"
    }
   ],
   "source": [
    "circuits = \"SELECT * FROM `formula1.circuits` LIMIT 5\"\n",
    "client.query(circuits).to_dataframe()"
   ]
  },
  {
   "cell_type": "code",
   "execution_count": 6,
   "id": "89552dfc-da70-47fa-abc4-b999aa0f0c35",
   "metadata": {},
   "outputs": [
    {
     "data": {
      "text/html": [
       "<div>\n",
       "<style scoped>\n",
       "    .dataframe tbody tr th:only-of-type {\n",
       "        vertical-align: middle;\n",
       "    }\n",
       "\n",
       "    .dataframe tbody tr th {\n",
       "        vertical-align: top;\n",
       "    }\n",
       "\n",
       "    .dataframe thead th {\n",
       "        text-align: right;\n",
       "    }\n",
       "</style>\n",
       "<table border=\"1\" class=\"dataframe\">\n",
       "  <thead>\n",
       "    <tr style=\"text-align: right;\">\n",
       "      <th></th>\n",
       "      <th>constructorId</th>\n",
       "      <th>constructorRef</th>\n",
       "      <th>name</th>\n",
       "      <th>nationality</th>\n",
       "      <th>url</th>\n",
       "    </tr>\n",
       "  </thead>\n",
       "  <tbody>\n",
       "    <tr>\n",
       "      <th>0</th>\n",
       "      <td>67</td>\n",
       "      <td>penske</td>\n",
       "      <td>Penske</td>\n",
       "      <td>American</td>\n",
       "      <td>http://en.wikipedia.org/wiki/Penske_Racing</td>\n",
       "    </tr>\n",
       "    <tr>\n",
       "      <th>1</th>\n",
       "      <td>73</td>\n",
       "      <td>parnelli</td>\n",
       "      <td>Parnelli</td>\n",
       "      <td>American</td>\n",
       "      <td>http://en.wikipedia.org/wiki/Parnelli</td>\n",
       "    </tr>\n",
       "    <tr>\n",
       "      <th>2</th>\n",
       "      <td>88</td>\n",
       "      <td>eagle</td>\n",
       "      <td>Eagle</td>\n",
       "      <td>American</td>\n",
       "      <td>http://en.wikipedia.org/wiki/Anglo_American_Ra...</td>\n",
       "    </tr>\n",
       "    <tr>\n",
       "      <th>3</th>\n",
       "      <td>106</td>\n",
       "      <td>scarab</td>\n",
       "      <td>Scarab</td>\n",
       "      <td>American</td>\n",
       "      <td>http://en.wikipedia.org/wiki/Scarab_(constructor)</td>\n",
       "    </tr>\n",
       "    <tr>\n",
       "      <th>4</th>\n",
       "      <td>107</td>\n",
       "      <td>watson</td>\n",
       "      <td>Watson</td>\n",
       "      <td>American</td>\n",
       "      <td>http://en.wikipedia.org/wiki/A.J._Watson</td>\n",
       "    </tr>\n",
       "  </tbody>\n",
       "</table>\n",
       "</div>"
      ],
      "text/plain": [
       "   constructorId constructorRef      name nationality  \\\n",
       "0             67         penske    Penske    American   \n",
       "1             73       parnelli  Parnelli    American   \n",
       "2             88          eagle     Eagle    American   \n",
       "3            106         scarab    Scarab    American   \n",
       "4            107         watson    Watson    American   \n",
       "\n",
       "                                                 url  \n",
       "0         http://en.wikipedia.org/wiki/Penske_Racing  \n",
       "1              http://en.wikipedia.org/wiki/Parnelli  \n",
       "2  http://en.wikipedia.org/wiki/Anglo_American_Ra...  \n",
       "3  http://en.wikipedia.org/wiki/Scarab_(constructor)  \n",
       "4           http://en.wikipedia.org/wiki/A.J._Watson  "
      ]
     },
     "execution_count": 6,
     "metadata": {},
     "output_type": "execute_result"
    }
   ],
   "source": [
    "constructors = \"SELECT * FROM `formula1.constructors` LIMIT 5\"\n",
    "client.query(constructors).to_dataframe()"
   ]
  },
  {
   "cell_type": "code",
   "execution_count": 7,
   "id": "a6ff6bdd-329c-464d-80d7-0a371b18bb3b",
   "metadata": {},
   "outputs": [
    {
     "data": {
      "text/html": [
       "<div>\n",
       "<style scoped>\n",
       "    .dataframe tbody tr th:only-of-type {\n",
       "        vertical-align: middle;\n",
       "    }\n",
       "\n",
       "    .dataframe tbody tr th {\n",
       "        vertical-align: top;\n",
       "    }\n",
       "\n",
       "    .dataframe thead th {\n",
       "        text-align: right;\n",
       "    }\n",
       "</style>\n",
       "<table border=\"1\" class=\"dataframe\">\n",
       "  <thead>\n",
       "    <tr style=\"text-align: right;\">\n",
       "      <th></th>\n",
       "      <th>driverId</th>\n",
       "      <th>driverRef</th>\n",
       "      <th>number</th>\n",
       "      <th>code</th>\n",
       "      <th>forename</th>\n",
       "      <th>surname</th>\n",
       "      <th>dob</th>\n",
       "      <th>nationality</th>\n",
       "      <th>url</th>\n",
       "    </tr>\n",
       "  </thead>\n",
       "  <tbody>\n",
       "    <tr>\n",
       "      <th>0</th>\n",
       "      <td>31</td>\n",
       "      <td>montoya</td>\n",
       "      <td>\\N</td>\n",
       "      <td>MON</td>\n",
       "      <td>Juan</td>\n",
       "      <td>Pablo Montoya</td>\n",
       "      <td>1975-09-20</td>\n",
       "      <td>Colombian</td>\n",
       "      <td>http://en.wikipedia.org/wiki/Juan_Pablo_Montoya</td>\n",
       "    </tr>\n",
       "    <tr>\n",
       "      <th>1</th>\n",
       "      <td>39</td>\n",
       "      <td>karthikeyan</td>\n",
       "      <td>\\N</td>\n",
       "      <td>KAR</td>\n",
       "      <td>Narain</td>\n",
       "      <td>Karthikeyan</td>\n",
       "      <td>1977-01-14</td>\n",
       "      <td>Indian</td>\n",
       "      <td>http://en.wikipedia.org/wiki/Narain_Karthikeyan</td>\n",
       "    </tr>\n",
       "    <tr>\n",
       "      <th>2</th>\n",
       "      <td>47</td>\n",
       "      <td>baumgartner</td>\n",
       "      <td>\\N</td>\n",
       "      <td>\\N</td>\n",
       "      <td>Zsolt</td>\n",
       "      <td>Baumgartner</td>\n",
       "      <td>1981-01-01</td>\n",
       "      <td>Hungarian</td>\n",
       "      <td>http://en.wikipedia.org/wiki/Zsolt_Baumgartner</td>\n",
       "    </tr>\n",
       "    <tr>\n",
       "      <th>3</th>\n",
       "      <td>61</td>\n",
       "      <td>enge</td>\n",
       "      <td>\\N</td>\n",
       "      <td>\\N</td>\n",
       "      <td>Tomáš</td>\n",
       "      <td>Enge</td>\n",
       "      <td>1976-09-11</td>\n",
       "      <td>Czech</td>\n",
       "      <td>http://en.wikipedia.org/wiki/Tom%C3%A1%C5%A1_Enge</td>\n",
       "    </tr>\n",
       "    <tr>\n",
       "      <th>4</th>\n",
       "      <td>194</td>\n",
       "      <td>salazar</td>\n",
       "      <td>\\N</td>\n",
       "      <td>\\N</td>\n",
       "      <td>Eliseo</td>\n",
       "      <td>Salazar</td>\n",
       "      <td>1954-11-14</td>\n",
       "      <td>Chilean</td>\n",
       "      <td>http://en.wikipedia.org/wiki/Eliseo_Salazar</td>\n",
       "    </tr>\n",
       "  </tbody>\n",
       "</table>\n",
       "</div>"
      ],
      "text/plain": [
       "   driverId    driverRef number code forename        surname         dob  \\\n",
       "0        31      montoya     \\N  MON     Juan  Pablo Montoya  1975-09-20   \n",
       "1        39  karthikeyan     \\N  KAR   Narain    Karthikeyan  1977-01-14   \n",
       "2        47  baumgartner     \\N   \\N    Zsolt    Baumgartner  1981-01-01   \n",
       "3        61         enge     \\N   \\N    Tomáš           Enge  1976-09-11   \n",
       "4       194      salazar     \\N   \\N   Eliseo        Salazar  1954-11-14   \n",
       "\n",
       "  nationality                                                url  \n",
       "0   Colombian    http://en.wikipedia.org/wiki/Juan_Pablo_Montoya  \n",
       "1      Indian    http://en.wikipedia.org/wiki/Narain_Karthikeyan  \n",
       "2   Hungarian     http://en.wikipedia.org/wiki/Zsolt_Baumgartner  \n",
       "3       Czech  http://en.wikipedia.org/wiki/Tom%C3%A1%C5%A1_Enge  \n",
       "4     Chilean        http://en.wikipedia.org/wiki/Eliseo_Salazar  "
      ]
     },
     "execution_count": 7,
     "metadata": {},
     "output_type": "execute_result"
    }
   ],
   "source": [
    "drivers = \"SELECT * FROM `formula1.drivers` LIMIT 5\"\n",
    "client.query(drivers).to_dataframe()"
   ]
  },
  {
   "cell_type": "code",
   "execution_count": 8,
   "id": "8a1fa422-4a4a-45ba-9e16-e49abcb14e80",
   "metadata": {},
   "outputs": [
    {
     "data": {
      "text/html": [
       "<div>\n",
       "<style scoped>\n",
       "    .dataframe tbody tr th:only-of-type {\n",
       "        vertical-align: middle;\n",
       "    }\n",
       "\n",
       "    .dataframe tbody tr th {\n",
       "        vertical-align: top;\n",
       "    }\n",
       "\n",
       "    .dataframe thead th {\n",
       "        text-align: right;\n",
       "    }\n",
       "</style>\n",
       "<table border=\"1\" class=\"dataframe\">\n",
       "  <thead>\n",
       "    <tr style=\"text-align: right;\">\n",
       "      <th></th>\n",
       "      <th>raceId</th>\n",
       "      <th>year</th>\n",
       "      <th>round</th>\n",
       "      <th>circuitId</th>\n",
       "      <th>name</th>\n",
       "      <th>date</th>\n",
       "      <th>time</th>\n",
       "      <th>url</th>\n",
       "      <th>fp1_date</th>\n",
       "      <th>fp1_time</th>\n",
       "      <th>fp2_date</th>\n",
       "      <th>fp2_time</th>\n",
       "      <th>fp3_date</th>\n",
       "      <th>fp3_time</th>\n",
       "      <th>quali_date</th>\n",
       "      <th>quali_time</th>\n",
       "      <th>sprint_date</th>\n",
       "      <th>sprint_time</th>\n",
       "    </tr>\n",
       "  </thead>\n",
       "  <tbody>\n",
       "    <tr>\n",
       "      <th>0</th>\n",
       "      <td>1100</td>\n",
       "      <td>2023</td>\n",
       "      <td>3</td>\n",
       "      <td>1</td>\n",
       "      <td>Australian Grand Prix</td>\n",
       "      <td>2023-04-02</td>\n",
       "      <td>05:00:00</td>\n",
       "      <td>https://en.wikipedia.org/wiki/2023_Australian_...</td>\n",
       "      <td>2023-03-31</td>\n",
       "      <td>01:30:00</td>\n",
       "      <td>2023-03-31</td>\n",
       "      <td>05:00:00</td>\n",
       "      <td>2023-04-01</td>\n",
       "      <td>01:30:00</td>\n",
       "      <td>2023-04-01</td>\n",
       "      <td>05:00:00</td>\n",
       "      <td>\\N</td>\n",
       "      <td>\\N</td>\n",
       "    </tr>\n",
       "    <tr>\n",
       "      <th>1</th>\n",
       "      <td>1123</td>\n",
       "      <td>2024</td>\n",
       "      <td>3</td>\n",
       "      <td>1</td>\n",
       "      <td>Australian Grand Prix</td>\n",
       "      <td>2024-03-24</td>\n",
       "      <td>04:00:00</td>\n",
       "      <td>https://en.wikipedia.org/wiki/2024_Australian_...</td>\n",
       "      <td>2024-03-22</td>\n",
       "      <td>01:30:00</td>\n",
       "      <td>2024-03-22</td>\n",
       "      <td>05:00:00</td>\n",
       "      <td>2024-03-23</td>\n",
       "      <td>01:30:00</td>\n",
       "      <td>2024-03-23</td>\n",
       "      <td>05:00:00</td>\n",
       "      <td>\\N</td>\n",
       "      <td>\\N</td>\n",
       "    </tr>\n",
       "    <tr>\n",
       "      <th>2</th>\n",
       "      <td>1076</td>\n",
       "      <td>2022</td>\n",
       "      <td>3</td>\n",
       "      <td>1</td>\n",
       "      <td>Australian Grand Prix</td>\n",
       "      <td>2022-04-10</td>\n",
       "      <td>05:00:00</td>\n",
       "      <td>http://en.wikipedia.org/wiki/2022_Australian_G...</td>\n",
       "      <td>2022-04-08</td>\n",
       "      <td>03:00:00</td>\n",
       "      <td>2022-04-08</td>\n",
       "      <td>06:00:00</td>\n",
       "      <td>2022-04-09</td>\n",
       "      <td>03:00:00</td>\n",
       "      <td>2022-04-09</td>\n",
       "      <td>06:00:00</td>\n",
       "      <td>\\N</td>\n",
       "      <td>\\N</td>\n",
       "    </tr>\n",
       "    <tr>\n",
       "      <th>3</th>\n",
       "      <td>1092</td>\n",
       "      <td>2022</td>\n",
       "      <td>18</td>\n",
       "      <td>22</td>\n",
       "      <td>Japanese Grand Prix</td>\n",
       "      <td>2022-10-09</td>\n",
       "      <td>05:00:00</td>\n",
       "      <td>http://en.wikipedia.org/wiki/2022_Japanese_Gra...</td>\n",
       "      <td>2022-10-07</td>\n",
       "      <td>03:00:00</td>\n",
       "      <td>2022-10-07</td>\n",
       "      <td>06:00:00</td>\n",
       "      <td>2022-10-08</td>\n",
       "      <td>03:00:00</td>\n",
       "      <td>2022-10-08</td>\n",
       "      <td>06:00:00</td>\n",
       "      <td>\\N</td>\n",
       "      <td>\\N</td>\n",
       "    </tr>\n",
       "    <tr>\n",
       "      <th>4</th>\n",
       "      <td>1114</td>\n",
       "      <td>2023</td>\n",
       "      <td>16</td>\n",
       "      <td>22</td>\n",
       "      <td>Japanese Grand Prix</td>\n",
       "      <td>2023-09-24</td>\n",
       "      <td>05:00:00</td>\n",
       "      <td>https://en.wikipedia.org/wiki/2023_Japanese_Gr...</td>\n",
       "      <td>2023-09-22</td>\n",
       "      <td>02:30:00</td>\n",
       "      <td>2023-09-22</td>\n",
       "      <td>06:00:00</td>\n",
       "      <td>2023-09-23</td>\n",
       "      <td>02:30:00</td>\n",
       "      <td>2023-09-23</td>\n",
       "      <td>06:00:00</td>\n",
       "      <td>\\N</td>\n",
       "      <td>\\N</td>\n",
       "    </tr>\n",
       "  </tbody>\n",
       "</table>\n",
       "</div>"
      ],
      "text/plain": [
       "   raceId  year  round  circuitId                   name        date  \\\n",
       "0    1100  2023      3          1  Australian Grand Prix  2023-04-02   \n",
       "1    1123  2024      3          1  Australian Grand Prix  2024-03-24   \n",
       "2    1076  2022      3          1  Australian Grand Prix  2022-04-10   \n",
       "3    1092  2022     18         22    Japanese Grand Prix  2022-10-09   \n",
       "4    1114  2023     16         22    Japanese Grand Prix  2023-09-24   \n",
       "\n",
       "       time                                                url    fp1_date  \\\n",
       "0  05:00:00  https://en.wikipedia.org/wiki/2023_Australian_...  2023-03-31   \n",
       "1  04:00:00  https://en.wikipedia.org/wiki/2024_Australian_...  2024-03-22   \n",
       "2  05:00:00  http://en.wikipedia.org/wiki/2022_Australian_G...  2022-04-08   \n",
       "3  05:00:00  http://en.wikipedia.org/wiki/2022_Japanese_Gra...  2022-10-07   \n",
       "4  05:00:00  https://en.wikipedia.org/wiki/2023_Japanese_Gr...  2023-09-22   \n",
       "\n",
       "   fp1_time    fp2_date  fp2_time    fp3_date  fp3_time  quali_date  \\\n",
       "0  01:30:00  2023-03-31  05:00:00  2023-04-01  01:30:00  2023-04-01   \n",
       "1  01:30:00  2024-03-22  05:00:00  2024-03-23  01:30:00  2024-03-23   \n",
       "2  03:00:00  2022-04-08  06:00:00  2022-04-09  03:00:00  2022-04-09   \n",
       "3  03:00:00  2022-10-07  06:00:00  2022-10-08  03:00:00  2022-10-08   \n",
       "4  02:30:00  2023-09-22  06:00:00  2023-09-23  02:30:00  2023-09-23   \n",
       "\n",
       "  quali_time sprint_date sprint_time  \n",
       "0   05:00:00          \\N          \\N  \n",
       "1   05:00:00          \\N          \\N  \n",
       "2   06:00:00          \\N          \\N  \n",
       "3   06:00:00          \\N          \\N  \n",
       "4   06:00:00          \\N          \\N  "
      ]
     },
     "execution_count": 8,
     "metadata": {},
     "output_type": "execute_result"
    }
   ],
   "source": [
    "races = \"SELECT * FROM `formula1.races` LIMIT 5\"\n",
    "client.query(races).to_dataframe()"
   ]
  },
  {
   "cell_type": "code",
   "execution_count": 9,
   "id": "9fc1df5a-75aa-41f1-b806-e6e67f83db68",
   "metadata": {},
   "outputs": [
    {
     "data": {
      "text/html": [
       "<div>\n",
       "<style scoped>\n",
       "    .dataframe tbody tr th:only-of-type {\n",
       "        vertical-align: middle;\n",
       "    }\n",
       "\n",
       "    .dataframe tbody tr th {\n",
       "        vertical-align: top;\n",
       "    }\n",
       "\n",
       "    .dataframe thead th {\n",
       "        text-align: right;\n",
       "    }\n",
       "</style>\n",
       "<table border=\"1\" class=\"dataframe\">\n",
       "  <thead>\n",
       "    <tr style=\"text-align: right;\">\n",
       "      <th></th>\n",
       "      <th>resultId</th>\n",
       "      <th>raceId</th>\n",
       "      <th>driverId</th>\n",
       "      <th>constructorId</th>\n",
       "      <th>number</th>\n",
       "      <th>grid</th>\n",
       "      <th>position</th>\n",
       "      <th>positionText</th>\n",
       "      <th>positionOrder</th>\n",
       "      <th>points</th>\n",
       "      <th>laps</th>\n",
       "      <th>time</th>\n",
       "      <th>milliseconds</th>\n",
       "      <th>fastestLap</th>\n",
       "      <th>rank</th>\n",
       "      <th>fastestLapTime</th>\n",
       "      <th>fastestLapSpeed</th>\n",
       "      <th>statusId</th>\n",
       "    </tr>\n",
       "  </thead>\n",
       "  <tbody>\n",
       "    <tr>\n",
       "      <th>0</th>\n",
       "      <td>5249</td>\n",
       "      <td>261</td>\n",
       "      <td>71</td>\n",
       "      <td>3</td>\n",
       "      <td>0</td>\n",
       "      <td>2</td>\n",
       "      <td>1</td>\n",
       "      <td>1</td>\n",
       "      <td>1</td>\n",
       "      <td>10.0</td>\n",
       "      <td>65</td>\n",
       "      <td>1:36:14.3</td>\n",
       "      <td>5774300</td>\n",
       "      <td>\\N</td>\n",
       "      <td>\\N</td>\n",
       "      <td>\\N</td>\n",
       "      <td>\\N</td>\n",
       "      <td>1</td>\n",
       "    </tr>\n",
       "    <tr>\n",
       "      <th>1</th>\n",
       "      <td>5331</td>\n",
       "      <td>264</td>\n",
       "      <td>71</td>\n",
       "      <td>3</td>\n",
       "      <td>0</td>\n",
       "      <td>1</td>\n",
       "      <td>1</td>\n",
       "      <td>1</td>\n",
       "      <td>1</td>\n",
       "      <td>10.0</td>\n",
       "      <td>60</td>\n",
       "      <td>1:30:03.640</td>\n",
       "      <td>5403640</td>\n",
       "      <td>\\N</td>\n",
       "      <td>\\N</td>\n",
       "      <td>\\N</td>\n",
       "      <td>\\N</td>\n",
       "      <td>1</td>\n",
       "    </tr>\n",
       "    <tr>\n",
       "      <th>2</th>\n",
       "      <td>5415</td>\n",
       "      <td>267</td>\n",
       "      <td>71</td>\n",
       "      <td>3</td>\n",
       "      <td>0</td>\n",
       "      <td>3</td>\n",
       "      <td>1</td>\n",
       "      <td>1</td>\n",
       "      <td>1</td>\n",
       "      <td>10.0</td>\n",
       "      <td>44</td>\n",
       "      <td>1:28:47.1</td>\n",
       "      <td>5327100</td>\n",
       "      <td>\\N</td>\n",
       "      <td>\\N</td>\n",
       "      <td>\\N</td>\n",
       "      <td>\\N</td>\n",
       "      <td>1</td>\n",
       "    </tr>\n",
       "    <tr>\n",
       "      <th>3</th>\n",
       "      <td>5443</td>\n",
       "      <td>268</td>\n",
       "      <td>71</td>\n",
       "      <td>3</td>\n",
       "      <td>0</td>\n",
       "      <td>3</td>\n",
       "      <td>1</td>\n",
       "      <td>1</td>\n",
       "      <td>1</td>\n",
       "      <td>10.0</td>\n",
       "      <td>53</td>\n",
       "      <td>1:18:03.2</td>\n",
       "      <td>4683200</td>\n",
       "      <td>\\N</td>\n",
       "      <td>\\N</td>\n",
       "      <td>\\N</td>\n",
       "      <td>\\N</td>\n",
       "      <td>1</td>\n",
       "    </tr>\n",
       "    <tr>\n",
       "      <th>4</th>\n",
       "      <td>5471</td>\n",
       "      <td>269</td>\n",
       "      <td>71</td>\n",
       "      <td>3</td>\n",
       "      <td>0</td>\n",
       "      <td>2</td>\n",
       "      <td>1</td>\n",
       "      <td>1</td>\n",
       "      <td>1</td>\n",
       "      <td>10.0</td>\n",
       "      <td>71</td>\n",
       "      <td>1:45:10.1</td>\n",
       "      <td>6310100</td>\n",
       "      <td>\\N</td>\n",
       "      <td>\\N</td>\n",
       "      <td>\\N</td>\n",
       "      <td>\\N</td>\n",
       "      <td>1</td>\n",
       "    </tr>\n",
       "  </tbody>\n",
       "</table>\n",
       "</div>"
      ],
      "text/plain": [
       "   resultId  raceId  driverId  constructorId  number  grid position  \\\n",
       "0      5249     261        71              3       0     2        1   \n",
       "1      5331     264        71              3       0     1        1   \n",
       "2      5415     267        71              3       0     3        1   \n",
       "3      5443     268        71              3       0     3        1   \n",
       "4      5471     269        71              3       0     2        1   \n",
       "\n",
       "  positionText  positionOrder  points  laps         time milliseconds  \\\n",
       "0            1              1    10.0    65    1:36:14.3      5774300   \n",
       "1            1              1    10.0    60  1:30:03.640      5403640   \n",
       "2            1              1    10.0    44    1:28:47.1      5327100   \n",
       "3            1              1    10.0    53    1:18:03.2      4683200   \n",
       "4            1              1    10.0    71    1:45:10.1      6310100   \n",
       "\n",
       "  fastestLap rank fastestLapTime fastestLapSpeed  statusId  \n",
       "0         \\N   \\N             \\N              \\N         1  \n",
       "1         \\N   \\N             \\N              \\N         1  \n",
       "2         \\N   \\N             \\N              \\N         1  \n",
       "3         \\N   \\N             \\N              \\N         1  \n",
       "4         \\N   \\N             \\N              \\N         1  "
      ]
     },
     "execution_count": 9,
     "metadata": {},
     "output_type": "execute_result"
    }
   ],
   "source": [
    "results = \"SELECT * FROM `formula1.results` LIMIT 5\"\n",
    "client.query(results).to_dataframe()"
   ]
  },
  {
   "cell_type": "markdown",
   "id": "0e3287c2-d265-46dd-b646-8eca6f2a1d47",
   "metadata": {
    "jp-MarkdownHeadingCollapsed": true
   },
   "source": [
    "##### Import and test of BigQuery Magics (faster)"
   ]
  },
  {
   "cell_type": "code",
   "execution_count": 10,
   "id": "bd4591d6-4e28-4252-96ec-b1ae1f4a6175",
   "metadata": {
    "scrolled": true
   },
   "outputs": [
    {
     "name": "stdout",
     "output_type": "stream",
     "text": [
      "Requirement already satisfied: bigquery-magics in c:\\users\\alessandro\\appdata\\local\\programs\\python\\python312\\lib\\site-packages (0.10.0)Note: you may need to restart the kernel to use updated packages.\n",
      "\n",
      "Requirement already satisfied: db-dtypes<2.0.0,>=0.3.0 in c:\\users\\alessandro\\appdata\\local\\programs\\python\\python312\\lib\\site-packages (from bigquery-magics) (1.4.2)\n",
      "Requirement already satisfied: google-cloud-bigquery<4.0.0,>=3.13.0 in c:\\users\\alessandro\\appdata\\local\\programs\\python\\python312\\lib\\site-packages (from bigquery-magics) (3.34.0)\n",
      "Requirement already satisfied: ipywidgets>=7.7.1 in c:\\users\\alessandro\\appdata\\local\\programs\\python\\python312\\lib\\site-packages (from bigquery-magics) (8.1.7)\n",
      "Requirement already satisfied: ipython>=7.23.1 in c:\\users\\alessandro\\appdata\\local\\programs\\python\\python312\\lib\\site-packages (from bigquery-magics) (8.23.0)\n",
      "Requirement already satisfied: ipykernel>=5.5.6 in c:\\users\\alessandro\\appdata\\local\\programs\\python\\python312\\lib\\site-packages (from bigquery-magics) (6.29.4)\n",
      "Requirement already satisfied: packaging>=20.0.0 in c:\\users\\alessandro\\appdata\\local\\programs\\python\\python312\\lib\\site-packages (from bigquery-magics) (25.0)\n",
      "Requirement already satisfied: pandas>=1.1.0 in c:\\users\\alessandro\\appdata\\local\\programs\\python\\python312\\lib\\site-packages (from bigquery-magics) (2.2.3)\n",
      "Requirement already satisfied: pyarrow>=3.0.0 in c:\\users\\alessandro\\appdata\\local\\programs\\python\\python312\\lib\\site-packages (from bigquery-magics) (20.0.0)\n",
      "Requirement already satisfied: pydata-google-auth>=1.5.0 in c:\\users\\alessandro\\appdata\\local\\programs\\python\\python312\\lib\\site-packages (from bigquery-magics) (1.9.1)\n",
      "Requirement already satisfied: tqdm<5.0.0,>=4.7.4 in c:\\users\\alessandro\\appdata\\local\\programs\\python\\python312\\lib\\site-packages (from bigquery-magics) (4.67.1)\n",
      "Requirement already satisfied: numpy>=1.16.6 in c:\\users\\alessandro\\appdata\\local\\programs\\python\\python312\\lib\\site-packages (from db-dtypes<2.0.0,>=0.3.0->bigquery-magics) (1.26.4)\n",
      "Requirement already satisfied: google-api-core<3.0.0,>=2.11.1 in c:\\users\\alessandro\\appdata\\local\\programs\\python\\python312\\lib\\site-packages (from google-api-core[grpc]<3.0.0,>=2.11.1->google-cloud-bigquery<4.0.0,>=3.13.0->bigquery-magics) (2.24.2)\n",
      "Requirement already satisfied: google-auth<3.0.0,>=2.14.1 in c:\\users\\alessandro\\appdata\\local\\programs\\python\\python312\\lib\\site-packages (from google-cloud-bigquery<4.0.0,>=3.13.0->bigquery-magics) (2.40.0)\n",
      "Requirement already satisfied: google-cloud-core<3.0.0,>=2.4.1 in c:\\users\\alessandro\\appdata\\local\\programs\\python\\python312\\lib\\site-packages (from google-cloud-bigquery<4.0.0,>=3.13.0->bigquery-magics) (2.4.3)\n",
      "Requirement already satisfied: google-resumable-media<3.0.0,>=2.0.0 in c:\\users\\alessandro\\appdata\\local\\programs\\python\\python312\\lib\\site-packages (from google-cloud-bigquery<4.0.0,>=3.13.0->bigquery-magics) (2.7.2)\n",
      "Requirement already satisfied: python-dateutil<3.0.0,>=2.8.2 in c:\\users\\alessandro\\appdata\\local\\programs\\python\\python312\\lib\\site-packages (from google-cloud-bigquery<4.0.0,>=3.13.0->bigquery-magics) (2.9.0.post0)\n",
      "Requirement already satisfied: requests<3.0.0,>=2.21.0 in c:\\users\\alessandro\\appdata\\local\\programs\\python\\python312\\lib\\site-packages (from google-cloud-bigquery<4.0.0,>=3.13.0->bigquery-magics) (2.32.3)\n",
      "Requirement already satisfied: googleapis-common-protos<2.0.0,>=1.56.2 in c:\\users\\alessandro\\appdata\\local\\programs\\python\\python312\\lib\\site-packages (from google-api-core<3.0.0,>=2.11.1->google-api-core[grpc]<3.0.0,>=2.11.1->google-cloud-bigquery<4.0.0,>=3.13.0->bigquery-magics) (1.70.0)\n",
      "Requirement already satisfied: protobuf!=3.20.0,!=3.20.1,!=4.21.0,!=4.21.1,!=4.21.2,!=4.21.3,!=4.21.4,!=4.21.5,<7.0.0,>=3.19.5 in c:\\users\\alessandro\\appdata\\local\\programs\\python\\python312\\lib\\site-packages (from google-api-core<3.0.0,>=2.11.1->google-api-core[grpc]<3.0.0,>=2.11.1->google-cloud-bigquery<4.0.0,>=3.13.0->bigquery-magics) (6.31.0rc2)\n",
      "Requirement already satisfied: proto-plus<2.0.0,>=1.22.3 in c:\\users\\alessandro\\appdata\\local\\programs\\python\\python312\\lib\\site-packages (from google-api-core<3.0.0,>=2.11.1->google-api-core[grpc]<3.0.0,>=2.11.1->google-cloud-bigquery<4.0.0,>=3.13.0->bigquery-magics) (1.26.1)\n",
      "Requirement already satisfied: grpcio<2.0dev,>=1.33.2 in c:\\users\\alessandro\\appdata\\local\\programs\\python\\python312\\lib\\site-packages (from google-api-core[grpc]<3.0.0,>=2.11.1->google-cloud-bigquery<4.0.0,>=3.13.0->bigquery-magics) (1.72.0rc1)\n",
      "Requirement already satisfied: grpcio-status<2.0.dev0,>=1.33.2 in c:\\users\\alessandro\\appdata\\local\\programs\\python\\python312\\lib\\site-packages (from google-api-core[grpc]<3.0.0,>=2.11.1->google-cloud-bigquery<4.0.0,>=3.13.0->bigquery-magics) (1.72.0rc1)\n",
      "Requirement already satisfied: cachetools<6.0,>=2.0.0 in c:\\users\\alessandro\\appdata\\local\\programs\\python\\python312\\lib\\site-packages (from google-auth<3.0.0,>=2.14.1->google-cloud-bigquery<4.0.0,>=3.13.0->bigquery-magics) (5.5.2)\n",
      "Requirement already satisfied: pyasn1-modules>=0.2.1 in c:\\users\\alessandro\\appdata\\local\\programs\\python\\python312\\lib\\site-packages (from google-auth<3.0.0,>=2.14.1->google-cloud-bigquery<4.0.0,>=3.13.0->bigquery-magics) (0.4.2)\n",
      "Requirement already satisfied: rsa<5,>=3.1.4 in c:\\users\\alessandro\\appdata\\local\\programs\\python\\python312\\lib\\site-packages (from google-auth<3.0.0,>=2.14.1->google-cloud-bigquery<4.0.0,>=3.13.0->bigquery-magics) (4.9.1)\n",
      "Requirement already satisfied: google-crc32c<2.0dev,>=1.0 in c:\\users\\alessandro\\appdata\\local\\programs\\python\\python312\\lib\\site-packages (from google-resumable-media<3.0.0,>=2.0.0->google-cloud-bigquery<4.0.0,>=3.13.0->bigquery-magics) (1.7.1)\n",
      "Requirement already satisfied: six>=1.5 in c:\\users\\alessandro\\appdata\\local\\programs\\python\\python312\\lib\\site-packages (from python-dateutil<3.0.0,>=2.8.2->google-cloud-bigquery<4.0.0,>=3.13.0->bigquery-magics) (1.16.0)\n",
      "Requirement already satisfied: charset-normalizer<4,>=2 in c:\\users\\alessandro\\appdata\\local\\programs\\python\\python312\\lib\\site-packages (from requests<3.0.0,>=2.21.0->google-cloud-bigquery<4.0.0,>=3.13.0->bigquery-magics) (3.3.2)\n",
      "Requirement already satisfied: idna<4,>=2.5 in c:\\users\\alessandro\\appdata\\local\\programs\\python\\python312\\lib\\site-packages (from requests<3.0.0,>=2.21.0->google-cloud-bigquery<4.0.0,>=3.13.0->bigquery-magics) (3.6)\n",
      "Requirement already satisfied: urllib3<3,>=1.21.1 in c:\\users\\alessandro\\appdata\\local\\programs\\python\\python312\\lib\\site-packages (from requests<3.0.0,>=2.21.0->google-cloud-bigquery<4.0.0,>=3.13.0->bigquery-magics) (2.2.1)\n",
      "Requirement already satisfied: certifi>=2017.4.17 in c:\\users\\alessandro\\appdata\\local\\programs\\python\\python312\\lib\\site-packages (from requests<3.0.0,>=2.21.0->google-cloud-bigquery<4.0.0,>=3.13.0->bigquery-magics) (2024.2.2)\n",
      "Requirement already satisfied: pyasn1>=0.1.3 in c:\\users\\alessandro\\appdata\\local\\programs\\python\\python312\\lib\\site-packages (from rsa<5,>=3.1.4->google-auth<3.0.0,>=2.14.1->google-cloud-bigquery<4.0.0,>=3.13.0->bigquery-magics) (0.6.1)\n",
      "Requirement already satisfied: colorama in c:\\users\\alessandro\\appdata\\local\\programs\\python\\python312\\lib\\site-packages (from tqdm<5.0.0,>=4.7.4->bigquery-magics) (0.4.6)\n",
      "Requirement already satisfied: comm>=0.1.1 in c:\\users\\alessandro\\appdata\\local\\programs\\python\\python312\\lib\\site-packages (from ipykernel>=5.5.6->bigquery-magics) (0.2.2)\n",
      "Requirement already satisfied: debugpy>=1.6.5 in c:\\users\\alessandro\\appdata\\local\\programs\\python\\python312\\lib\\site-packages (from ipykernel>=5.5.6->bigquery-magics) (1.8.1)\n",
      "Requirement already satisfied: jupyter-client>=6.1.12 in c:\\users\\alessandro\\appdata\\local\\programs\\python\\python312\\lib\\site-packages (from ipykernel>=5.5.6->bigquery-magics) (8.6.1)\n",
      "Requirement already satisfied: jupyter-core!=5.0.*,>=4.12 in c:\\users\\alessandro\\appdata\\local\\programs\\python\\python312\\lib\\site-packages (from ipykernel>=5.5.6->bigquery-magics) (5.7.2)\n",
      "Requirement already satisfied: matplotlib-inline>=0.1 in c:\\users\\alessandro\\appdata\\local\\programs\\python\\python312\\lib\\site-packages (from ipykernel>=5.5.6->bigquery-magics) (0.1.6)\n",
      "Requirement already satisfied: nest-asyncio in c:\\users\\alessandro\\appdata\\local\\programs\\python\\python312\\lib\\site-packages (from ipykernel>=5.5.6->bigquery-magics) (1.6.0)\n",
      "Requirement already satisfied: psutil in c:\\users\\alessandro\\appdata\\local\\programs\\python\\python312\\lib\\site-packages (from ipykernel>=5.5.6->bigquery-magics) (5.9.8)\n",
      "Requirement already satisfied: pyzmq>=24 in c:\\users\\alessandro\\appdata\\local\\programs\\python\\python312\\lib\\site-packages (from ipykernel>=5.5.6->bigquery-magics) (25.1.2)\n",
      "Requirement already satisfied: tornado>=6.1 in c:\\users\\alessandro\\appdata\\local\\programs\\python\\python312\\lib\\site-packages (from ipykernel>=5.5.6->bigquery-magics) (6.4)\n",
      "Requirement already satisfied: traitlets>=5.4.0 in c:\\users\\alessandro\\appdata\\local\\programs\\python\\python312\\lib\\site-packages (from ipykernel>=5.5.6->bigquery-magics) (5.14.2)\n",
      "Requirement already satisfied: decorator in c:\\users\\alessandro\\appdata\\local\\programs\\python\\python312\\lib\\site-packages (from ipython>=7.23.1->bigquery-magics) (5.1.1)\n",
      "Requirement already satisfied: jedi>=0.16 in c:\\users\\alessandro\\appdata\\local\\programs\\python\\python312\\lib\\site-packages (from ipython>=7.23.1->bigquery-magics) (0.19.1)\n",
      "Requirement already satisfied: prompt-toolkit<3.1.0,>=3.0.41 in c:\\users\\alessandro\\appdata\\local\\programs\\python\\python312\\lib\\site-packages (from ipython>=7.23.1->bigquery-magics) (3.0.43)\n",
      "Requirement already satisfied: pygments>=2.4.0 in c:\\users\\alessandro\\appdata\\local\\programs\\python\\python312\\lib\\site-packages (from ipython>=7.23.1->bigquery-magics) (2.17.2)\n",
      "Requirement already satisfied: stack-data in c:\\users\\alessandro\\appdata\\local\\programs\\python\\python312\\lib\\site-packages (from ipython>=7.23.1->bigquery-magics) (0.6.3)\n",
      "Requirement already satisfied: wcwidth in c:\\users\\alessandro\\appdata\\local\\programs\\python\\python312\\lib\\site-packages (from prompt-toolkit<3.1.0,>=3.0.41->ipython>=7.23.1->bigquery-magics) (0.2.13)\n",
      "Requirement already satisfied: widgetsnbextension~=4.0.14 in c:\\users\\alessandro\\appdata\\local\\programs\\python\\python312\\lib\\site-packages (from ipywidgets>=7.7.1->bigquery-magics) (4.0.14)\n",
      "Requirement already satisfied: jupyterlab_widgets~=3.0.15 in c:\\users\\alessandro\\appdata\\local\\programs\\python\\python312\\lib\\site-packages (from ipywidgets>=7.7.1->bigquery-magics) (3.0.15)\n",
      "Requirement already satisfied: parso<0.9.0,>=0.8.3 in c:\\users\\alessandro\\appdata\\local\\programs\\python\\python312\\lib\\site-packages (from jedi>=0.16->ipython>=7.23.1->bigquery-magics) (0.8.3)\n",
      "Requirement already satisfied: platformdirs>=2.5 in c:\\users\\alessandro\\appdata\\local\\programs\\python\\python312\\lib\\site-packages (from jupyter-core!=5.0.*,>=4.12->ipykernel>=5.5.6->bigquery-magics) (4.2.0)\n",
      "Requirement already satisfied: pywin32>=300 in c:\\users\\alessandro\\appdata\\local\\programs\\python\\python312\\lib\\site-packages (from jupyter-core!=5.0.*,>=4.12->ipykernel>=5.5.6->bigquery-magics) (306)\n",
      "Requirement already satisfied: pytz>=2020.1 in c:\\users\\alessandro\\appdata\\local\\programs\\python\\python312\\lib\\site-packages (from pandas>=1.1.0->bigquery-magics) (2025.2)\n",
      "Requirement already satisfied: tzdata>=2022.7 in c:\\users\\alessandro\\appdata\\local\\programs\\python\\python312\\lib\\site-packages (from pandas>=1.1.0->bigquery-magics) (2024.1)\n",
      "Requirement already satisfied: setuptools in c:\\users\\alessandro\\appdata\\local\\programs\\python\\python312\\lib\\site-packages (from pydata-google-auth>=1.5.0->bigquery-magics) (69.5.1)\n",
      "Requirement already satisfied: google-auth-oauthlib>=0.4.0 in c:\\users\\alessandro\\appdata\\local\\programs\\python\\python312\\lib\\site-packages (from pydata-google-auth>=1.5.0->bigquery-magics) (1.2.2)\n",
      "Requirement already satisfied: requests-oauthlib>=0.7.0 in c:\\users\\alessandro\\appdata\\local\\programs\\python\\python312\\lib\\site-packages (from google-auth-oauthlib>=0.4.0->pydata-google-auth>=1.5.0->bigquery-magics) (2.0.0)\n",
      "Requirement already satisfied: oauthlib>=3.0.0 in c:\\users\\alessandro\\appdata\\local\\programs\\python\\python312\\lib\\site-packages (from requests-oauthlib>=0.7.0->google-auth-oauthlib>=0.4.0->pydata-google-auth>=1.5.0->bigquery-magics) (3.2.2)\n",
      "Requirement already satisfied: executing>=1.2.0 in c:\\users\\alessandro\\appdata\\local\\programs\\python\\python312\\lib\\site-packages (from stack-data->ipython>=7.23.1->bigquery-magics) (2.0.1)\n",
      "Requirement already satisfied: asttokens>=2.1.0 in c:\\users\\alessandro\\appdata\\local\\programs\\python\\python312\\lib\\site-packages (from stack-data->ipython>=7.23.1->bigquery-magics) (2.4.1)\n",
      "Requirement already satisfied: pure-eval in c:\\users\\alessandro\\appdata\\local\\programs\\python\\python312\\lib\\site-packages (from stack-data->ipython>=7.23.1->bigquery-magics) (0.2.2)\n",
      "C:\\Users\\Alessandro\\.ipython\n"
     ]
    }
   ],
   "source": [
    "%pip install bigquery-magics\n",
    "%load_ext bigquery_magics\n",
    "!ipython locate\n",
    "# %reload_ext bigquery_magics \"re-load\" the extension bigquery_magics if we have modified something o we want to see that it is active"
   ]
  },
  {
   "cell_type": "code",
   "execution_count": 11,
   "id": "be5b4674-605c-4877-9fd7-34cccbc663d6",
   "metadata": {
    "scrolled": true
   },
   "outputs": [
    {
     "data": {
      "application/vnd.jupyter.widget-view+json": {
       "model_id": "4dc287180b674651864443e4e742b630",
       "version_major": 2,
       "version_minor": 0
      },
      "text/plain": [
       "Query is running:   0%|          |"
      ]
     },
     "metadata": {},
     "output_type": "display_data"
    },
    {
     "data": {
      "application/vnd.jupyter.widget-view+json": {
       "model_id": "a4e983613f4d4827a3d43b30ae52c2c4",
       "version_major": 2,
       "version_minor": 0
      },
      "text/plain": [
       "Downloading:   0%|          |"
      ]
     },
     "metadata": {},
     "output_type": "display_data"
    },
    {
     "data": {
      "text/html": [
       "<div>\n",
       "<style scoped>\n",
       "    .dataframe tbody tr th:only-of-type {\n",
       "        vertical-align: middle;\n",
       "    }\n",
       "\n",
       "    .dataframe tbody tr th {\n",
       "        vertical-align: top;\n",
       "    }\n",
       "\n",
       "    .dataframe thead th {\n",
       "        text-align: right;\n",
       "    }\n",
       "</style>\n",
       "<table border=\"1\" class=\"dataframe\">\n",
       "  <thead>\n",
       "    <tr style=\"text-align: right;\">\n",
       "      <th></th>\n",
       "      <th>resultId</th>\n",
       "      <th>raceId</th>\n",
       "      <th>driverId</th>\n",
       "      <th>constructorId</th>\n",
       "      <th>number</th>\n",
       "      <th>grid</th>\n",
       "      <th>position</th>\n",
       "      <th>positionText</th>\n",
       "      <th>positionOrder</th>\n",
       "      <th>points</th>\n",
       "      <th>laps</th>\n",
       "      <th>time</th>\n",
       "      <th>milliseconds</th>\n",
       "      <th>fastestLap</th>\n",
       "      <th>rank</th>\n",
       "      <th>fastestLapTime</th>\n",
       "      <th>fastestLapSpeed</th>\n",
       "      <th>statusId</th>\n",
       "    </tr>\n",
       "  </thead>\n",
       "  <tbody>\n",
       "    <tr>\n",
       "      <th>0</th>\n",
       "      <td>5249</td>\n",
       "      <td>261</td>\n",
       "      <td>71</td>\n",
       "      <td>3</td>\n",
       "      <td>0</td>\n",
       "      <td>2</td>\n",
       "      <td>1</td>\n",
       "      <td>1</td>\n",
       "      <td>1</td>\n",
       "      <td>10.0</td>\n",
       "      <td>65</td>\n",
       "      <td>1:36:14.3</td>\n",
       "      <td>5774300</td>\n",
       "      <td>\\N</td>\n",
       "      <td>\\N</td>\n",
       "      <td>\\N</td>\n",
       "      <td>\\N</td>\n",
       "      <td>1</td>\n",
       "    </tr>\n",
       "    <tr>\n",
       "      <th>1</th>\n",
       "      <td>5331</td>\n",
       "      <td>264</td>\n",
       "      <td>71</td>\n",
       "      <td>3</td>\n",
       "      <td>0</td>\n",
       "      <td>1</td>\n",
       "      <td>1</td>\n",
       "      <td>1</td>\n",
       "      <td>1</td>\n",
       "      <td>10.0</td>\n",
       "      <td>60</td>\n",
       "      <td>1:30:03.640</td>\n",
       "      <td>5403640</td>\n",
       "      <td>\\N</td>\n",
       "      <td>\\N</td>\n",
       "      <td>\\N</td>\n",
       "      <td>\\N</td>\n",
       "      <td>1</td>\n",
       "    </tr>\n",
       "    <tr>\n",
       "      <th>2</th>\n",
       "      <td>5415</td>\n",
       "      <td>267</td>\n",
       "      <td>71</td>\n",
       "      <td>3</td>\n",
       "      <td>0</td>\n",
       "      <td>3</td>\n",
       "      <td>1</td>\n",
       "      <td>1</td>\n",
       "      <td>1</td>\n",
       "      <td>10.0</td>\n",
       "      <td>44</td>\n",
       "      <td>1:28:47.1</td>\n",
       "      <td>5327100</td>\n",
       "      <td>\\N</td>\n",
       "      <td>\\N</td>\n",
       "      <td>\\N</td>\n",
       "      <td>\\N</td>\n",
       "      <td>1</td>\n",
       "    </tr>\n",
       "    <tr>\n",
       "      <th>3</th>\n",
       "      <td>5443</td>\n",
       "      <td>268</td>\n",
       "      <td>71</td>\n",
       "      <td>3</td>\n",
       "      <td>0</td>\n",
       "      <td>3</td>\n",
       "      <td>1</td>\n",
       "      <td>1</td>\n",
       "      <td>1</td>\n",
       "      <td>10.0</td>\n",
       "      <td>53</td>\n",
       "      <td>1:18:03.2</td>\n",
       "      <td>4683200</td>\n",
       "      <td>\\N</td>\n",
       "      <td>\\N</td>\n",
       "      <td>\\N</td>\n",
       "      <td>\\N</td>\n",
       "      <td>1</td>\n",
       "    </tr>\n",
       "    <tr>\n",
       "      <th>4</th>\n",
       "      <td>5471</td>\n",
       "      <td>269</td>\n",
       "      <td>71</td>\n",
       "      <td>3</td>\n",
       "      <td>0</td>\n",
       "      <td>2</td>\n",
       "      <td>1</td>\n",
       "      <td>1</td>\n",
       "      <td>1</td>\n",
       "      <td>10.0</td>\n",
       "      <td>71</td>\n",
       "      <td>1:45:10.1</td>\n",
       "      <td>6310100</td>\n",
       "      <td>\\N</td>\n",
       "      <td>\\N</td>\n",
       "      <td>\\N</td>\n",
       "      <td>\\N</td>\n",
       "      <td>1</td>\n",
       "    </tr>\n",
       "  </tbody>\n",
       "</table>\n",
       "</div>"
      ],
      "text/plain": [
       "   resultId  raceId  driverId  constructorId  number  grid position  \\\n",
       "0      5249     261        71              3       0     2        1   \n",
       "1      5331     264        71              3       0     1        1   \n",
       "2      5415     267        71              3       0     3        1   \n",
       "3      5443     268        71              3       0     3        1   \n",
       "4      5471     269        71              3       0     2        1   \n",
       "\n",
       "  positionText  positionOrder  points  laps         time milliseconds  \\\n",
       "0            1              1    10.0    65    1:36:14.3      5774300   \n",
       "1            1              1    10.0    60  1:30:03.640      5403640   \n",
       "2            1              1    10.0    44    1:28:47.1      5327100   \n",
       "3            1              1    10.0    53    1:18:03.2      4683200   \n",
       "4            1              1    10.0    71    1:45:10.1      6310100   \n",
       "\n",
       "  fastestLap rank fastestLapTime fastestLapSpeed  statusId  \n",
       "0         \\N   \\N             \\N              \\N         1  \n",
       "1         \\N   \\N             \\N              \\N         1  \n",
       "2         \\N   \\N             \\N              \\N         1  \n",
       "3         \\N   \\N             \\N              \\N         1  \n",
       "4         \\N   \\N             \\N              \\N         1  "
      ]
     },
     "execution_count": 11,
     "metadata": {},
     "output_type": "execute_result"
    }
   ],
   "source": [
    "%%bigquery\n",
    "SELECT * FROM `formula1.results` LIMIT 5"
   ]
  },
  {
   "cell_type": "markdown",
   "id": "89cbf292-23f0-458b-b413-fd2de013725d",
   "metadata": {},
   "source": [
    "### 1.3 Join of the Datasets: creation of \"joined_results\""
   ]
  },
  {
   "cell_type": "markdown",
   "id": "68f695c3-8871-404a-8dae-01e427ec0187",
   "metadata": {},
   "source": [
    "##### Join of the 5 chosen Datasets:\n",
    "\"Circuits\", \"Constructors\", \"Drivers\", \"Races\" and \"Results\""
   ]
  },
  {
   "cell_type": "code",
   "execution_count": 12,
   "id": "375f117f-5624-4279-9604-b7d7355dc4ac",
   "metadata": {},
   "outputs": [
    {
     "data": {
      "application/vnd.jupyter.widget-view+json": {
       "model_id": "838cf45f429847e49394def28ca1a4ed",
       "version_major": 2,
       "version_minor": 0
      },
      "text/plain": [
       "Query is running:   0%|          |"
      ]
     },
     "metadata": {},
     "output_type": "display_data"
    },
    {
     "data": {
      "text/html": [
       "<div>\n",
       "<style scoped>\n",
       "    .dataframe tbody tr th:only-of-type {\n",
       "        vertical-align: middle;\n",
       "    }\n",
       "\n",
       "    .dataframe tbody tr th {\n",
       "        vertical-align: top;\n",
       "    }\n",
       "\n",
       "    .dataframe thead th {\n",
       "        text-align: right;\n",
       "    }\n",
       "</style>\n",
       "<table border=\"1\" class=\"dataframe\">\n",
       "  <thead>\n",
       "    <tr style=\"text-align: right;\">\n",
       "      <th></th>\n",
       "    </tr>\n",
       "  </thead>\n",
       "  <tbody>\n",
       "  </tbody>\n",
       "</table>\n",
       "</div>"
      ],
      "text/plain": [
       "Empty DataFrame\n",
       "Columns: []\n",
       "Index: []"
      ]
     },
     "execution_count": 12,
     "metadata": {},
     "output_type": "execute_result"
    }
   ],
   "source": [
    "%%bigquery\n",
    "CREATE OR REPLACE TABLE `formula1.joined_results` AS \n",
    "SELECT\n",
    "  c.circuitId AS circuit_id,\n",
    "  c.name AS circuit_name,\n",
    "  c.location AS circuit_location,\n",
    "  c.country AS circuit_country,\n",
    "  c.lat AS circuit_latitude,\n",
    "  c.lng AS circuit_longitude,\n",
    "  c.alt AS circuit_altitude,\n",
    "\n",
    "  r.raceId AS race_id,\n",
    "  r.name AS race_name,\n",
    "  r.year AS race_year,\n",
    "  r.date AS race_date,\n",
    "\n",
    "  d.driverId AS driver_id,\n",
    "  CONCAT(d.forename, ' ', d.surname) AS driver_name,\n",
    "  d.dob AS driver_dob,\n",
    "  d.nationality AS driver_nationality,\n",
    "\n",
    "  cons.constructorId AS constructor_id,\n",
    "  cons.name AS constructor_name,\n",
    "  cons.nationality AS constructor_nationality,\n",
    "\n",
    "  res.resultId AS result_id,\n",
    "  res.number AS car_number,\n",
    "  res.grid AS start_grid_position,\n",
    "  res.position AS final_position,\n",
    "  res.points AS race_points,\n",
    "  res.laps AS total_laps,\n",
    "  res.fastestLap AS fastest_lap_number,\n",
    "  res.fastestLapTime AS fastest_lap_time,\n",
    "  res.fastestLapSpeed AS fastest_lap_speed\n",
    "\n",
    "FROM `formula1.results` res\n",
    "JOIN `formula1.races` r\n",
    "  ON res.raceId = r.raceId\n",
    "JOIN `formula1.circuits` c\n",
    "  ON r.circuitId = c.circuitId\n",
    "JOIN `formula1.drivers` d\n",
    "  ON res.driverId = d.driverId\n",
    "JOIN `formula1.constructors` cons\n",
    "  ON res.constructorId = cons.constructorId"
   ]
  },
  {
   "cell_type": "markdown",
   "id": "98fdf84d-0abe-452d-8ff3-03ab01bb7e50",
   "metadata": {},
   "source": [
    "##### Cleaning the joined dataset"
   ]
  },
  {
   "cell_type": "code",
   "execution_count": 13,
   "id": "9ae9651e-08fe-441d-8ed4-052a924b7788",
   "metadata": {
    "scrolled": true
   },
   "outputs": [
    {
     "data": {
      "application/vnd.jupyter.widget-view+json": {
       "model_id": "d798b97bfca84d3b81a860234d649e71",
       "version_major": 2,
       "version_minor": 0
      },
      "text/plain": [
       "Query is running:   0%|          |"
      ]
     },
     "metadata": {},
     "output_type": "display_data"
    },
    {
     "data": {
      "text/html": [
       "<div>\n",
       "<style scoped>\n",
       "    .dataframe tbody tr th:only-of-type {\n",
       "        vertical-align: middle;\n",
       "    }\n",
       "\n",
       "    .dataframe tbody tr th {\n",
       "        vertical-align: top;\n",
       "    }\n",
       "\n",
       "    .dataframe thead th {\n",
       "        text-align: right;\n",
       "    }\n",
       "</style>\n",
       "<table border=\"1\" class=\"dataframe\">\n",
       "  <thead>\n",
       "    <tr style=\"text-align: right;\">\n",
       "      <th></th>\n",
       "    </tr>\n",
       "  </thead>\n",
       "  <tbody>\n",
       "  </tbody>\n",
       "</table>\n",
       "</div>"
      ],
      "text/plain": [
       "Empty DataFrame\n",
       "Columns: []\n",
       "Index: []"
      ]
     },
     "execution_count": 13,
     "metadata": {},
     "output_type": "execute_result"
    }
   ],
   "source": [
    "%%bigquery\n",
    "CREATE OR REPLACE TABLE `formula1.joined_results` AS \n",
    "SELECT\n",
    "  * EXCEPT(final_position, fastest_lap_number, fastest_lap_speed),\n",
    "  SAFE_CAST(final_position AS INT64) AS final_position,\n",
    "  SAFE_CAST(fastest_lap_number AS INT64) AS fastest_lap_number,\n",
    "  SAFE_CAST(REPLACE(fastest_lap_speed, ',', '.') AS FLOAT64) AS fastest_lap_speed\n",
    "FROM\n",
    "  `formula1.joined_results`"
   ]
  },
  {
   "cell_type": "markdown",
   "id": "fe9ce866-8b3f-4b43-afbe-99ebf6d6a134",
   "metadata": {},
   "source": [
    "### 1.4 Adding \"wins\" column"
   ]
  },
  {
   "cell_type": "code",
   "execution_count": 14,
   "id": "2132bf1e-0238-4ca5-b02d-14ea1972294c",
   "metadata": {},
   "outputs": [
    {
     "data": {
      "application/vnd.jupyter.widget-view+json": {
       "model_id": "183438c0fb384bc09d55899e50a77264",
       "version_major": 2,
       "version_minor": 0
      },
      "text/plain": [
       "Query is running:   0%|          |"
      ]
     },
     "metadata": {},
     "output_type": "display_data"
    },
    {
     "data": {
      "text/html": [
       "<div>\n",
       "<style scoped>\n",
       "    .dataframe tbody tr th:only-of-type {\n",
       "        vertical-align: middle;\n",
       "    }\n",
       "\n",
       "    .dataframe tbody tr th {\n",
       "        vertical-align: top;\n",
       "    }\n",
       "\n",
       "    .dataframe thead th {\n",
       "        text-align: right;\n",
       "    }\n",
       "</style>\n",
       "<table border=\"1\" class=\"dataframe\">\n",
       "  <thead>\n",
       "    <tr style=\"text-align: right;\">\n",
       "      <th></th>\n",
       "    </tr>\n",
       "  </thead>\n",
       "  <tbody>\n",
       "  </tbody>\n",
       "</table>\n",
       "</div>"
      ],
      "text/plain": [
       "Empty DataFrame\n",
       "Columns: []\n",
       "Index: []"
      ]
     },
     "execution_count": 14,
     "metadata": {},
     "output_type": "execute_result"
    }
   ],
   "source": [
    "%%bigquery \n",
    "CREATE OR REPLACE TABLE `formula1.joined_results` AS \n",
    "SELECT *, IF(final_position = 1, 1, 0) AS wins\n",
    "FROM formula1.joined_results"
   ]
  },
  {
   "cell_type": "markdown",
   "id": "1268812c-d561-4b73-a97f-eeb6c66335a0",
   "metadata": {
    "jp-MarkdownHeadingCollapsed": true
   },
   "source": [
    "### 1.5 Basic Insights"
   ]
  },
  {
   "cell_type": "code",
   "execution_count": 41,
   "id": "0f233557-2466-442a-96e2-a827dd6cfe66",
   "metadata": {},
   "outputs": [
    {
     "data": {
      "application/vnd.jupyter.widget-view+json": {
       "model_id": "81f4f235ead1494e9793ac1bad0a53f1",
       "version_major": 2,
       "version_minor": 0
      },
      "text/plain": [
       "Query is running:   0%|          |"
      ]
     },
     "metadata": {},
     "output_type": "display_data"
    },
    {
     "data": {
      "application/vnd.jupyter.widget-view+json": {
       "model_id": "6057acd076e245c4bb8cedf870bac390",
       "version_major": 2,
       "version_minor": 0
      },
      "text/plain": [
       "Downloading:   0%|          |"
      ]
     },
     "metadata": {},
     "output_type": "display_data"
    },
    {
     "data": {
      "text/html": [
       "<div>\n",
       "<style scoped>\n",
       "    .dataframe tbody tr th:only-of-type {\n",
       "        vertical-align: middle;\n",
       "    }\n",
       "\n",
       "    .dataframe tbody tr th {\n",
       "        vertical-align: top;\n",
       "    }\n",
       "\n",
       "    .dataframe thead th {\n",
       "        text-align: right;\n",
       "    }\n",
       "</style>\n",
       "<table border=\"1\" class=\"dataframe\">\n",
       "  <thead>\n",
       "    <tr style=\"text-align: right;\">\n",
       "      <th></th>\n",
       "      <th>circuit_id</th>\n",
       "      <th>circuit_name</th>\n",
       "      <th>circuit_location</th>\n",
       "      <th>circuit_country</th>\n",
       "      <th>circuit_latitude</th>\n",
       "      <th>circuit_longitude</th>\n",
       "      <th>circuit_altitude</th>\n",
       "      <th>race_id</th>\n",
       "      <th>race_name</th>\n",
       "      <th>race_year</th>\n",
       "      <th>...</th>\n",
       "      <th>result_id</th>\n",
       "      <th>car_number</th>\n",
       "      <th>start_grid_position</th>\n",
       "      <th>race_points</th>\n",
       "      <th>total_laps</th>\n",
       "      <th>fastest_lap_time</th>\n",
       "      <th>final_position</th>\n",
       "      <th>fastest_lap_number</th>\n",
       "      <th>fastest_lap_speed</th>\n",
       "      <th>wins</th>\n",
       "    </tr>\n",
       "  </thead>\n",
       "  <tbody>\n",
       "    <tr>\n",
       "      <th>0</th>\n",
       "      <td>1</td>\n",
       "      <td>Albert Park Grand Prix Circuit</td>\n",
       "      <td>Melbourne</td>\n",
       "      <td>Australia</td>\n",
       "      <td>-37.8497</td>\n",
       "      <td>144.968</td>\n",
       "      <td>10</td>\n",
       "      <td>224</td>\n",
       "      <td>Australian Grand Prix</td>\n",
       "      <td>1996</td>\n",
       "      <td>...</td>\n",
       "      <td>4387</td>\n",
       "      <td>9</td>\n",
       "      <td>11</td>\n",
       "      <td>0.0</td>\n",
       "      <td>57</td>\n",
       "      <td>\\N</td>\n",
       "      <td>7</td>\n",
       "      <td>&lt;NA&gt;</td>\n",
       "      <td>NaN</td>\n",
       "      <td>0</td>\n",
       "    </tr>\n",
       "    <tr>\n",
       "      <th>1</th>\n",
       "      <td>1</td>\n",
       "      <td>Albert Park Grand Prix Circuit</td>\n",
       "      <td>Melbourne</td>\n",
       "      <td>Australia</td>\n",
       "      <td>-37.8497</td>\n",
       "      <td>144.968</td>\n",
       "      <td>10</td>\n",
       "      <td>224</td>\n",
       "      <td>Australian Grand Prix</td>\n",
       "      <td>1996</td>\n",
       "      <td>...</td>\n",
       "      <td>4389</td>\n",
       "      <td>16</td>\n",
       "      <td>18</td>\n",
       "      <td>0.0</td>\n",
       "      <td>56</td>\n",
       "      <td>\\N</td>\n",
       "      <td>9</td>\n",
       "      <td>&lt;NA&gt;</td>\n",
       "      <td>NaN</td>\n",
       "      <td>0</td>\n",
       "    </tr>\n",
       "    <tr>\n",
       "      <th>2</th>\n",
       "      <td>1</td>\n",
       "      <td>Albert Park Grand Prix Circuit</td>\n",
       "      <td>Melbourne</td>\n",
       "      <td>Australia</td>\n",
       "      <td>-37.8497</td>\n",
       "      <td>144.968</td>\n",
       "      <td>10</td>\n",
       "      <td>224</td>\n",
       "      <td>Australian Grand Prix</td>\n",
       "      <td>1996</td>\n",
       "      <td>...</td>\n",
       "      <td>4381</td>\n",
       "      <td>5</td>\n",
       "      <td>2</td>\n",
       "      <td>10.0</td>\n",
       "      <td>58</td>\n",
       "      <td>\\N</td>\n",
       "      <td>1</td>\n",
       "      <td>&lt;NA&gt;</td>\n",
       "      <td>NaN</td>\n",
       "      <td>1</td>\n",
       "    </tr>\n",
       "    <tr>\n",
       "      <th>3</th>\n",
       "      <td>1</td>\n",
       "      <td>Albert Park Grand Prix Circuit</td>\n",
       "      <td>Melbourne</td>\n",
       "      <td>Australia</td>\n",
       "      <td>-37.8497</td>\n",
       "      <td>144.968</td>\n",
       "      <td>10</td>\n",
       "      <td>224</td>\n",
       "      <td>Australian Grand Prix</td>\n",
       "      <td>1996</td>\n",
       "      <td>...</td>\n",
       "      <td>4396</td>\n",
       "      <td>8</td>\n",
       "      <td>13</td>\n",
       "      <td>0.0</td>\n",
       "      <td>24</td>\n",
       "      <td>\\N</td>\n",
       "      <td>&lt;NA&gt;</td>\n",
       "      <td>&lt;NA&gt;</td>\n",
       "      <td>NaN</td>\n",
       "      <td>0</td>\n",
       "    </tr>\n",
       "    <tr>\n",
       "      <th>4</th>\n",
       "      <td>1</td>\n",
       "      <td>Albert Park Grand Prix Circuit</td>\n",
       "      <td>Melbourne</td>\n",
       "      <td>Australia</td>\n",
       "      <td>-37.8497</td>\n",
       "      <td>144.968</td>\n",
       "      <td>10</td>\n",
       "      <td>224</td>\n",
       "      <td>Australian Grand Prix</td>\n",
       "      <td>1996</td>\n",
       "      <td>...</td>\n",
       "      <td>4400</td>\n",
       "      <td>14</td>\n",
       "      <td>14</td>\n",
       "      <td>0.0</td>\n",
       "      <td>0</td>\n",
       "      <td>\\N</td>\n",
       "      <td>&lt;NA&gt;</td>\n",
       "      <td>&lt;NA&gt;</td>\n",
       "      <td>NaN</td>\n",
       "      <td>0</td>\n",
       "    </tr>\n",
       "  </tbody>\n",
       "</table>\n",
       "<p>5 rows × 28 columns</p>\n",
       "</div>"
      ],
      "text/plain": [
       "   circuit_id                    circuit_name circuit_location  \\\n",
       "0           1  Albert Park Grand Prix Circuit        Melbourne   \n",
       "1           1  Albert Park Grand Prix Circuit        Melbourne   \n",
       "2           1  Albert Park Grand Prix Circuit        Melbourne   \n",
       "3           1  Albert Park Grand Prix Circuit        Melbourne   \n",
       "4           1  Albert Park Grand Prix Circuit        Melbourne   \n",
       "\n",
       "  circuit_country  circuit_latitude  circuit_longitude  circuit_altitude  \\\n",
       "0       Australia          -37.8497            144.968                10   \n",
       "1       Australia          -37.8497            144.968                10   \n",
       "2       Australia          -37.8497            144.968                10   \n",
       "3       Australia          -37.8497            144.968                10   \n",
       "4       Australia          -37.8497            144.968                10   \n",
       "\n",
       "   race_id              race_name  race_year  ... result_id  car_number  \\\n",
       "0      224  Australian Grand Prix       1996  ...      4387           9   \n",
       "1      224  Australian Grand Prix       1996  ...      4389          16   \n",
       "2      224  Australian Grand Prix       1996  ...      4381           5   \n",
       "3      224  Australian Grand Prix       1996  ...      4396           8   \n",
       "4      224  Australian Grand Prix       1996  ...      4400          14   \n",
       "\n",
       "  start_grid_position race_points total_laps  fastest_lap_time final_position  \\\n",
       "0                  11         0.0         57                \\N              7   \n",
       "1                  18         0.0         56                \\N              9   \n",
       "2                   2        10.0         58                \\N              1   \n",
       "3                  13         0.0         24                \\N           <NA>   \n",
       "4                  14         0.0          0                \\N           <NA>   \n",
       "\n",
       "  fastest_lap_number  fastest_lap_speed  wins  \n",
       "0               <NA>                NaN     0  \n",
       "1               <NA>                NaN     0  \n",
       "2               <NA>                NaN     1  \n",
       "3               <NA>                NaN     0  \n",
       "4               <NA>                NaN     0  \n",
       "\n",
       "[5 rows x 28 columns]"
      ]
     },
     "execution_count": 41,
     "metadata": {},
     "output_type": "execute_result"
    }
   ],
   "source": [
    "%%bigquery\n",
    "SELECT * \n",
    "FROM formula1.joined_results\n",
    "LIMIT 5"
   ]
  },
  {
   "cell_type": "markdown",
   "id": "ddc4a0f2-aa74-489c-8190-a79f20520eff",
   "metadata": {
    "jp-MarkdownHeadingCollapsed": true
   },
   "source": [
    "##### Distinct Counts"
   ]
  },
  {
   "cell_type": "code",
   "execution_count": 15,
   "id": "eca6a5f1-6777-4148-8f38-45b5ed270b96",
   "metadata": {},
   "outputs": [
    {
     "data": {
      "application/vnd.jupyter.widget-view+json": {
       "model_id": "e995a8eb8c7f4f6da169e1de0174e8a7",
       "version_major": 2,
       "version_minor": 0
      },
      "text/plain": [
       "Query is running:   0%|          |"
      ]
     },
     "metadata": {},
     "output_type": "display_data"
    },
    {
     "data": {
      "application/vnd.jupyter.widget-view+json": {
       "model_id": "0b09e1c0ccc44a51a00d927e12e6f5d5",
       "version_major": 2,
       "version_minor": 0
      },
      "text/plain": [
       "Downloading:   0%|          |"
      ]
     },
     "metadata": {},
     "output_type": "display_data"
    },
    {
     "data": {
      "text/html": [
       "<div>\n",
       "<style scoped>\n",
       "    .dataframe tbody tr th:only-of-type {\n",
       "        vertical-align: middle;\n",
       "    }\n",
       "\n",
       "    .dataframe tbody tr th {\n",
       "        vertical-align: top;\n",
       "    }\n",
       "\n",
       "    .dataframe thead th {\n",
       "        text-align: right;\n",
       "    }\n",
       "</style>\n",
       "<table border=\"1\" class=\"dataframe\">\n",
       "  <thead>\n",
       "    <tr style=\"text-align: right;\">\n",
       "      <th></th>\n",
       "      <th>distinct_result_ids</th>\n",
       "    </tr>\n",
       "  </thead>\n",
       "  <tbody>\n",
       "    <tr>\n",
       "      <th>0</th>\n",
       "      <td>26753</td>\n",
       "    </tr>\n",
       "  </tbody>\n",
       "</table>\n",
       "</div>"
      ],
      "text/plain": [
       "   distinct_result_ids\n",
       "0                26753"
      ]
     },
     "execution_count": 15,
     "metadata": {},
     "output_type": "execute_result"
    }
   ],
   "source": [
    "%%bigquery\n",
    "SELECT COUNT(DISTINCT result_id) AS distinct_result_ids FROM `formula1.joined_results`"
   ]
  },
  {
   "cell_type": "code",
   "execution_count": 16,
   "id": "39df6adf-8d62-44d4-83c2-6db63ac21253",
   "metadata": {},
   "outputs": [
    {
     "data": {
      "application/vnd.jupyter.widget-view+json": {
       "model_id": "c6e69439b88c478ca725e995ddae462e",
       "version_major": 2,
       "version_minor": 0
      },
      "text/plain": [
       "Query is running:   0%|          |"
      ]
     },
     "metadata": {},
     "output_type": "display_data"
    },
    {
     "data": {
      "application/vnd.jupyter.widget-view+json": {
       "model_id": "fe06b1095eaa4fca9c45ef8a48afe507",
       "version_major": 2,
       "version_minor": 0
      },
      "text/plain": [
       "Downloading:   0%|          |"
      ]
     },
     "metadata": {},
     "output_type": "display_data"
    },
    {
     "data": {
      "text/html": [
       "<div>\n",
       "<style scoped>\n",
       "    .dataframe tbody tr th:only-of-type {\n",
       "        vertical-align: middle;\n",
       "    }\n",
       "\n",
       "    .dataframe tbody tr th {\n",
       "        vertical-align: top;\n",
       "    }\n",
       "\n",
       "    .dataframe thead th {\n",
       "        text-align: right;\n",
       "    }\n",
       "</style>\n",
       "<table border=\"1\" class=\"dataframe\">\n",
       "  <thead>\n",
       "    <tr style=\"text-align: right;\">\n",
       "      <th></th>\n",
       "      <th>distinct_race_ids</th>\n",
       "    </tr>\n",
       "  </thead>\n",
       "  <tbody>\n",
       "    <tr>\n",
       "      <th>0</th>\n",
       "      <td>1125</td>\n",
       "    </tr>\n",
       "  </tbody>\n",
       "</table>\n",
       "</div>"
      ],
      "text/plain": [
       "   distinct_race_ids\n",
       "0               1125"
      ]
     },
     "execution_count": 16,
     "metadata": {},
     "output_type": "execute_result"
    }
   ],
   "source": [
    "%%bigquery\n",
    "SELECT COUNT(DISTINCT race_id) AS distinct_race_ids FROM `formula1.joined_results`"
   ]
  },
  {
   "cell_type": "code",
   "execution_count": 17,
   "id": "1eb9ff05-b3b3-457d-aff0-b612dcf39981",
   "metadata": {},
   "outputs": [
    {
     "data": {
      "application/vnd.jupyter.widget-view+json": {
       "model_id": "f070fcedc34e490fb39ba5c219946f8c",
       "version_major": 2,
       "version_minor": 0
      },
      "text/plain": [
       "Query is running:   0%|          |"
      ]
     },
     "metadata": {},
     "output_type": "display_data"
    },
    {
     "data": {
      "application/vnd.jupyter.widget-view+json": {
       "model_id": "da79531ccec9418ba4d3fa2c068a2b94",
       "version_major": 2,
       "version_minor": 0
      },
      "text/plain": [
       "Downloading:   0%|          |"
      ]
     },
     "metadata": {},
     "output_type": "display_data"
    },
    {
     "data": {
      "text/html": [
       "<div>\n",
       "<style scoped>\n",
       "    .dataframe tbody tr th:only-of-type {\n",
       "        vertical-align: middle;\n",
       "    }\n",
       "\n",
       "    .dataframe tbody tr th {\n",
       "        vertical-align: top;\n",
       "    }\n",
       "\n",
       "    .dataframe thead th {\n",
       "        text-align: right;\n",
       "    }\n",
       "</style>\n",
       "<table border=\"1\" class=\"dataframe\">\n",
       "  <thead>\n",
       "    <tr style=\"text-align: right;\">\n",
       "      <th></th>\n",
       "      <th>distinct_constructor_ids</th>\n",
       "    </tr>\n",
       "  </thead>\n",
       "  <tbody>\n",
       "    <tr>\n",
       "      <th>0</th>\n",
       "      <td>211</td>\n",
       "    </tr>\n",
       "  </tbody>\n",
       "</table>\n",
       "</div>"
      ],
      "text/plain": [
       "   distinct_constructor_ids\n",
       "0                       211"
      ]
     },
     "execution_count": 17,
     "metadata": {},
     "output_type": "execute_result"
    }
   ],
   "source": [
    "%%bigquery\n",
    "SELECT COUNT(DISTINCT constructor_id) AS distinct_constructor_ids FROM `formula1.joined_results`"
   ]
  },
  {
   "cell_type": "code",
   "execution_count": 18,
   "id": "1520d04f-d8e0-49ab-99c4-681a31c189d2",
   "metadata": {},
   "outputs": [
    {
     "data": {
      "application/vnd.jupyter.widget-view+json": {
       "model_id": "b9ca1da300e549709ae9e323cc21d024",
       "version_major": 2,
       "version_minor": 0
      },
      "text/plain": [
       "Query is running:   0%|          |"
      ]
     },
     "metadata": {},
     "output_type": "display_data"
    },
    {
     "data": {
      "application/vnd.jupyter.widget-view+json": {
       "model_id": "94d80e73a7ba42e796f9493ebe2bc3a1",
       "version_major": 2,
       "version_minor": 0
      },
      "text/plain": [
       "Downloading:   0%|          |"
      ]
     },
     "metadata": {},
     "output_type": "display_data"
    },
    {
     "data": {
      "text/html": [
       "<div>\n",
       "<style scoped>\n",
       "    .dataframe tbody tr th:only-of-type {\n",
       "        vertical-align: middle;\n",
       "    }\n",
       "\n",
       "    .dataframe tbody tr th {\n",
       "        vertical-align: top;\n",
       "    }\n",
       "\n",
       "    .dataframe thead th {\n",
       "        text-align: right;\n",
       "    }\n",
       "</style>\n",
       "<table border=\"1\" class=\"dataframe\">\n",
       "  <thead>\n",
       "    <tr style=\"text-align: right;\">\n",
       "      <th></th>\n",
       "      <th>distinct_driver_ids</th>\n",
       "    </tr>\n",
       "  </thead>\n",
       "  <tbody>\n",
       "    <tr>\n",
       "      <th>0</th>\n",
       "      <td>860</td>\n",
       "    </tr>\n",
       "  </tbody>\n",
       "</table>\n",
       "</div>"
      ],
      "text/plain": [
       "   distinct_driver_ids\n",
       "0                  860"
      ]
     },
     "execution_count": 18,
     "metadata": {},
     "output_type": "execute_result"
    }
   ],
   "source": [
    "%%bigquery\n",
    "SELECT COUNT(DISTINCT driver_id) AS distinct_driver_ids FROM `formula1.joined_results`"
   ]
  },
  {
   "cell_type": "code",
   "execution_count": 19,
   "id": "5be3716d-7ced-467c-bf19-28b05ad7d7bf",
   "metadata": {},
   "outputs": [
    {
     "data": {
      "application/vnd.jupyter.widget-view+json": {
       "model_id": "dc05caf8926b44a1a1f2635292f58eb9",
       "version_major": 2,
       "version_minor": 0
      },
      "text/plain": [
       "Query is running:   0%|          |"
      ]
     },
     "metadata": {},
     "output_type": "display_data"
    },
    {
     "data": {
      "application/vnd.jupyter.widget-view+json": {
       "model_id": "aaa66725d6eb4469beed171b4b3211f5",
       "version_major": 2,
       "version_minor": 0
      },
      "text/plain": [
       "Downloading:   0%|          |"
      ]
     },
     "metadata": {},
     "output_type": "display_data"
    },
    {
     "data": {
      "text/html": [
       "<div>\n",
       "<style scoped>\n",
       "    .dataframe tbody tr th:only-of-type {\n",
       "        vertical-align: middle;\n",
       "    }\n",
       "\n",
       "    .dataframe tbody tr th {\n",
       "        vertical-align: top;\n",
       "    }\n",
       "\n",
       "    .dataframe thead th {\n",
       "        text-align: right;\n",
       "    }\n",
       "</style>\n",
       "<table border=\"1\" class=\"dataframe\">\n",
       "  <thead>\n",
       "    <tr style=\"text-align: right;\">\n",
       "      <th></th>\n",
       "      <th>distinct_circuit_ids</th>\n",
       "    </tr>\n",
       "  </thead>\n",
       "  <tbody>\n",
       "    <tr>\n",
       "      <th>0</th>\n",
       "      <td>77</td>\n",
       "    </tr>\n",
       "  </tbody>\n",
       "</table>\n",
       "</div>"
      ],
      "text/plain": [
       "   distinct_circuit_ids\n",
       "0                    77"
      ]
     },
     "execution_count": 19,
     "metadata": {},
     "output_type": "execute_result"
    }
   ],
   "source": [
    "%%bigquery\n",
    "SELECT COUNT(DISTINCT circuit_id) AS distinct_circuit_ids FROM `formula1.joined_results`"
   ]
  },
  {
   "cell_type": "code",
   "execution_count": 20,
   "id": "200b295c-e01d-4618-8afc-91c9cacb753e",
   "metadata": {},
   "outputs": [
    {
     "data": {
      "application/vnd.jupyter.widget-view+json": {
       "model_id": "f0ab02e2de1544d197c2a1b19b2c7d80",
       "version_major": 2,
       "version_minor": 0
      },
      "text/plain": [
       "Query is running:   0%|          |"
      ]
     },
     "metadata": {},
     "output_type": "display_data"
    },
    {
     "data": {
      "application/vnd.jupyter.widget-view+json": {
       "model_id": "d796123b354f4eb2b69c8c6438e9152a",
       "version_major": 2,
       "version_minor": 0
      },
      "text/plain": [
       "Downloading:   0%|          |"
      ]
     },
     "metadata": {},
     "output_type": "display_data"
    },
    {
     "data": {
      "text/html": [
       "<div>\n",
       "<style scoped>\n",
       "    .dataframe tbody tr th:only-of-type {\n",
       "        vertical-align: middle;\n",
       "    }\n",
       "\n",
       "    .dataframe tbody tr th {\n",
       "        vertical-align: top;\n",
       "    }\n",
       "\n",
       "    .dataframe thead th {\n",
       "        text-align: right;\n",
       "    }\n",
       "</style>\n",
       "<table border=\"1\" class=\"dataframe\">\n",
       "  <thead>\n",
       "    <tr style=\"text-align: right;\">\n",
       "      <th></th>\n",
       "      <th>count_first_positions</th>\n",
       "    </tr>\n",
       "  </thead>\n",
       "  <tbody>\n",
       "    <tr>\n",
       "      <th>0</th>\n",
       "      <td>1128</td>\n",
       "    </tr>\n",
       "  </tbody>\n",
       "</table>\n",
       "</div>"
      ],
      "text/plain": [
       "   count_first_positions\n",
       "0                   1128"
      ]
     },
     "execution_count": 20,
     "metadata": {},
     "output_type": "execute_result"
    }
   ],
   "source": [
    "%%bigquery\n",
    "SELECT COUNT(final_position) AS count_first_positions FROM `formula1.joined_results`WHERE final_position = 1"
   ]
  },
  {
   "cell_type": "markdown",
   "id": "e5b66c92-4211-4b1d-a114-c2ded3a316d4",
   "metadata": {},
   "source": [
    "##### Basic Queries"
   ]
  },
  {
   "cell_type": "code",
   "execution_count": 21,
   "id": "83ab2888-066e-4613-b3a5-22a4e920decd",
   "metadata": {},
   "outputs": [
    {
     "data": {
      "application/vnd.jupyter.widget-view+json": {
       "model_id": "9926530e06614096abebe3d515c24249",
       "version_major": 2,
       "version_minor": 0
      },
      "text/plain": [
       "Query is running:   0%|          |"
      ]
     },
     "metadata": {},
     "output_type": "display_data"
    },
    {
     "data": {
      "application/vnd.jupyter.widget-view+json": {
       "model_id": "ef6b8797882a4078a581555f06d87365",
       "version_major": 2,
       "version_minor": 0
      },
      "text/plain": [
       "Downloading:   0%|          |"
      ]
     },
     "metadata": {},
     "output_type": "display_data"
    },
    {
     "data": {
      "text/html": [
       "<div>\n",
       "<style scoped>\n",
       "    .dataframe tbody tr th:only-of-type {\n",
       "        vertical-align: middle;\n",
       "    }\n",
       "\n",
       "    .dataframe tbody tr th {\n",
       "        vertical-align: top;\n",
       "    }\n",
       "\n",
       "    .dataframe thead th {\n",
       "        text-align: right;\n",
       "    }\n",
       "</style>\n",
       "<table border=\"1\" class=\"dataframe\">\n",
       "  <thead>\n",
       "    <tr style=\"text-align: right;\">\n",
       "      <th></th>\n",
       "      <th>constructor_name</th>\n",
       "      <th>total_constructor_wins</th>\n",
       "    </tr>\n",
       "  </thead>\n",
       "  <tbody>\n",
       "    <tr>\n",
       "      <th>0</th>\n",
       "      <td>Ferrari</td>\n",
       "      <td>249</td>\n",
       "    </tr>\n",
       "    <tr>\n",
       "      <th>1</th>\n",
       "      <td>McLaren</td>\n",
       "      <td>185</td>\n",
       "    </tr>\n",
       "    <tr>\n",
       "      <th>2</th>\n",
       "      <td>Mercedes</td>\n",
       "      <td>129</td>\n",
       "    </tr>\n",
       "    <tr>\n",
       "      <th>3</th>\n",
       "      <td>Red Bull</td>\n",
       "      <td>122</td>\n",
       "    </tr>\n",
       "    <tr>\n",
       "      <th>4</th>\n",
       "      <td>Williams</td>\n",
       "      <td>114</td>\n",
       "    </tr>\n",
       "    <tr>\n",
       "      <th>5</th>\n",
       "      <td>Team Lotus</td>\n",
       "      <td>45</td>\n",
       "    </tr>\n",
       "    <tr>\n",
       "      <th>6</th>\n",
       "      <td>Renault</td>\n",
       "      <td>35</td>\n",
       "    </tr>\n",
       "    <tr>\n",
       "      <th>7</th>\n",
       "      <td>Benetton</td>\n",
       "      <td>27</td>\n",
       "    </tr>\n",
       "    <tr>\n",
       "      <th>8</th>\n",
       "      <td>Tyrrell</td>\n",
       "      <td>23</td>\n",
       "    </tr>\n",
       "    <tr>\n",
       "      <th>9</th>\n",
       "      <td>Brabham</td>\n",
       "      <td>23</td>\n",
       "    </tr>\n",
       "    <tr>\n",
       "      <th>10</th>\n",
       "      <td>Lotus-Climax</td>\n",
       "      <td>22</td>\n",
       "    </tr>\n",
       "    <tr>\n",
       "      <th>11</th>\n",
       "      <td>BRM</td>\n",
       "      <td>17</td>\n",
       "    </tr>\n",
       "    <tr>\n",
       "      <th>12</th>\n",
       "      <td>Cooper-Climax</td>\n",
       "      <td>12</td>\n",
       "    </tr>\n",
       "    <tr>\n",
       "      <th>13</th>\n",
       "      <td>Alfa Romeo</td>\n",
       "      <td>11</td>\n",
       "    </tr>\n",
       "    <tr>\n",
       "      <th>14</th>\n",
       "      <td>Lotus-Ford</td>\n",
       "      <td>11</td>\n",
       "    </tr>\n",
       "    <tr>\n",
       "      <th>15</th>\n",
       "      <td>Vanwall</td>\n",
       "      <td>10</td>\n",
       "    </tr>\n",
       "    <tr>\n",
       "      <th>16</th>\n",
       "      <td>Maserati</td>\n",
       "      <td>9</td>\n",
       "    </tr>\n",
       "    <tr>\n",
       "      <th>17</th>\n",
       "      <td>Ligier</td>\n",
       "      <td>9</td>\n",
       "    </tr>\n",
       "    <tr>\n",
       "      <th>18</th>\n",
       "      <td>Matra-Ford</td>\n",
       "      <td>9</td>\n",
       "    </tr>\n",
       "    <tr>\n",
       "      <th>19</th>\n",
       "      <td>Brawn</td>\n",
       "      <td>8</td>\n",
       "    </tr>\n",
       "    <tr>\n",
       "      <th>20</th>\n",
       "      <td>Brabham-Repco</td>\n",
       "      <td>8</td>\n",
       "    </tr>\n",
       "    <tr>\n",
       "      <th>21</th>\n",
       "      <td>Kurtis Kraft</td>\n",
       "      <td>5</td>\n",
       "    </tr>\n",
       "    <tr>\n",
       "      <th>22</th>\n",
       "      <td>Jordan</td>\n",
       "      <td>4</td>\n",
       "    </tr>\n",
       "    <tr>\n",
       "      <th>23</th>\n",
       "      <td>McLaren-Ford</td>\n",
       "      <td>4</td>\n",
       "    </tr>\n",
       "    <tr>\n",
       "      <th>24</th>\n",
       "      <td>Wolf</td>\n",
       "      <td>3</td>\n",
       "    </tr>\n",
       "    <tr>\n",
       "      <th>25</th>\n",
       "      <td>Honda</td>\n",
       "      <td>3</td>\n",
       "    </tr>\n",
       "    <tr>\n",
       "      <th>26</th>\n",
       "      <td>March</td>\n",
       "      <td>3</td>\n",
       "    </tr>\n",
       "    <tr>\n",
       "      <th>27</th>\n",
       "      <td>Watson</td>\n",
       "      <td>3</td>\n",
       "    </tr>\n",
       "    <tr>\n",
       "      <th>28</th>\n",
       "      <td>Lotus F1</td>\n",
       "      <td>2</td>\n",
       "    </tr>\n",
       "    <tr>\n",
       "      <th>29</th>\n",
       "      <td>Cooper</td>\n",
       "      <td>2</td>\n",
       "    </tr>\n",
       "    <tr>\n",
       "      <th>30</th>\n",
       "      <td>Epperly</td>\n",
       "      <td>2</td>\n",
       "    </tr>\n",
       "    <tr>\n",
       "      <th>31</th>\n",
       "      <td>Brabham-Ford</td>\n",
       "      <td>2</td>\n",
       "    </tr>\n",
       "    <tr>\n",
       "      <th>32</th>\n",
       "      <td>Cooper-Maserati</td>\n",
       "      <td>2</td>\n",
       "    </tr>\n",
       "    <tr>\n",
       "      <th>33</th>\n",
       "      <td>Brabham-Climax</td>\n",
       "      <td>2</td>\n",
       "    </tr>\n",
       "    <tr>\n",
       "      <th>34</th>\n",
       "      <td>Racing Point</td>\n",
       "      <td>1</td>\n",
       "    </tr>\n",
       "    <tr>\n",
       "      <th>35</th>\n",
       "      <td>BMW Sauber</td>\n",
       "      <td>1</td>\n",
       "    </tr>\n",
       "    <tr>\n",
       "      <th>36</th>\n",
       "      <td>Alpine F1 Team</td>\n",
       "      <td>1</td>\n",
       "    </tr>\n",
       "    <tr>\n",
       "      <th>37</th>\n",
       "      <td>Eagle-Weslake</td>\n",
       "      <td>1</td>\n",
       "    </tr>\n",
       "    <tr>\n",
       "      <th>38</th>\n",
       "      <td>Toro Rosso</td>\n",
       "      <td>1</td>\n",
       "    </tr>\n",
       "    <tr>\n",
       "      <th>39</th>\n",
       "      <td>AlphaTauri</td>\n",
       "      <td>1</td>\n",
       "    </tr>\n",
       "    <tr>\n",
       "      <th>40</th>\n",
       "      <td>Kuzma</td>\n",
       "      <td>1</td>\n",
       "    </tr>\n",
       "    <tr>\n",
       "      <th>41</th>\n",
       "      <td>Stewart</td>\n",
       "      <td>1</td>\n",
       "    </tr>\n",
       "    <tr>\n",
       "      <th>42</th>\n",
       "      <td>Hesketh</td>\n",
       "      <td>1</td>\n",
       "    </tr>\n",
       "    <tr>\n",
       "      <th>43</th>\n",
       "      <td>Lotus-BRM</td>\n",
       "      <td>1</td>\n",
       "    </tr>\n",
       "    <tr>\n",
       "      <th>44</th>\n",
       "      <td>Porsche</td>\n",
       "      <td>1</td>\n",
       "    </tr>\n",
       "    <tr>\n",
       "      <th>45</th>\n",
       "      <td>Penske</td>\n",
       "      <td>1</td>\n",
       "    </tr>\n",
       "    <tr>\n",
       "      <th>46</th>\n",
       "      <td>Shadow</td>\n",
       "      <td>1</td>\n",
       "    </tr>\n",
       "  </tbody>\n",
       "</table>\n",
       "</div>"
      ],
      "text/plain": [
       "   constructor_name  total_constructor_wins\n",
       "0           Ferrari                     249\n",
       "1           McLaren                     185\n",
       "2          Mercedes                     129\n",
       "3          Red Bull                     122\n",
       "4          Williams                     114\n",
       "5        Team Lotus                      45\n",
       "6           Renault                      35\n",
       "7          Benetton                      27\n",
       "8           Tyrrell                      23\n",
       "9           Brabham                      23\n",
       "10     Lotus-Climax                      22\n",
       "11              BRM                      17\n",
       "12    Cooper-Climax                      12\n",
       "13       Alfa Romeo                      11\n",
       "14       Lotus-Ford                      11\n",
       "15          Vanwall                      10\n",
       "16         Maserati                       9\n",
       "17           Ligier                       9\n",
       "18       Matra-Ford                       9\n",
       "19            Brawn                       8\n",
       "20    Brabham-Repco                       8\n",
       "21     Kurtis Kraft                       5\n",
       "22           Jordan                       4\n",
       "23     McLaren-Ford                       4\n",
       "24             Wolf                       3\n",
       "25            Honda                       3\n",
       "26            March                       3\n",
       "27           Watson                       3\n",
       "28         Lotus F1                       2\n",
       "29           Cooper                       2\n",
       "30          Epperly                       2\n",
       "31     Brabham-Ford                       2\n",
       "32  Cooper-Maserati                       2\n",
       "33   Brabham-Climax                       2\n",
       "34     Racing Point                       1\n",
       "35       BMW Sauber                       1\n",
       "36   Alpine F1 Team                       1\n",
       "37    Eagle-Weslake                       1\n",
       "38       Toro Rosso                       1\n",
       "39       AlphaTauri                       1\n",
       "40            Kuzma                       1\n",
       "41          Stewart                       1\n",
       "42          Hesketh                       1\n",
       "43        Lotus-BRM                       1\n",
       "44          Porsche                       1\n",
       "45           Penske                       1\n",
       "46           Shadow                       1"
      ]
     },
     "execution_count": 21,
     "metadata": {},
     "output_type": "execute_result"
    }
   ],
   "source": [
    "%%bigquery\n",
    "SELECT constructor_name,\n",
    "  COUNT(*) AS total_constructor_wins\n",
    "FROM\n",
    "  formula1.joined_results\n",
    "WHERE\n",
    "  wins = 1\n",
    "GROUP BY\n",
    "  constructor_name\n",
    "ORDER BY\n",
    "  total_constructor_wins DESC;"
   ]
  },
  {
   "cell_type": "code",
   "execution_count": 22,
   "id": "c82e22b6-dfd6-4ffd-8a57-28039f570007",
   "metadata": {},
   "outputs": [
    {
     "data": {
      "application/vnd.jupyter.widget-view+json": {
       "model_id": "27d699915e2941c289879a3f13eca900",
       "version_major": 2,
       "version_minor": 0
      },
      "text/plain": [
       "Query is running:   0%|          |"
      ]
     },
     "metadata": {},
     "output_type": "display_data"
    },
    {
     "data": {
      "application/vnd.jupyter.widget-view+json": {
       "model_id": "015defe91d0747cc9e57929d4929765f",
       "version_major": 2,
       "version_minor": 0
      },
      "text/plain": [
       "Downloading:   0%|          |"
      ]
     },
     "metadata": {},
     "output_type": "display_data"
    },
    {
     "data": {
      "text/html": [
       "<div>\n",
       "<style scoped>\n",
       "    .dataframe tbody tr th:only-of-type {\n",
       "        vertical-align: middle;\n",
       "    }\n",
       "\n",
       "    .dataframe tbody tr th {\n",
       "        vertical-align: top;\n",
       "    }\n",
       "\n",
       "    .dataframe thead th {\n",
       "        text-align: right;\n",
       "    }\n",
       "</style>\n",
       "<table border=\"1\" class=\"dataframe\">\n",
       "  <thead>\n",
       "    <tr style=\"text-align: right;\">\n",
       "      <th></th>\n",
       "      <th>driver_name</th>\n",
       "      <th>driver_nationality</th>\n",
       "      <th>total_wins</th>\n",
       "    </tr>\n",
       "  </thead>\n",
       "  <tbody>\n",
       "    <tr>\n",
       "      <th>0</th>\n",
       "      <td>Lewis Hamilton</td>\n",
       "      <td>British</td>\n",
       "      <td>105</td>\n",
       "    </tr>\n",
       "    <tr>\n",
       "      <th>1</th>\n",
       "      <td>Michael Schumacher</td>\n",
       "      <td>German</td>\n",
       "      <td>91</td>\n",
       "    </tr>\n",
       "    <tr>\n",
       "      <th>2</th>\n",
       "      <td>Max Verstappen</td>\n",
       "      <td>Dutch</td>\n",
       "      <td>63</td>\n",
       "    </tr>\n",
       "    <tr>\n",
       "      <th>3</th>\n",
       "      <td>Sebastian Vettel</td>\n",
       "      <td>German</td>\n",
       "      <td>53</td>\n",
       "    </tr>\n",
       "    <tr>\n",
       "      <th>4</th>\n",
       "      <td>Alain Prost</td>\n",
       "      <td>French</td>\n",
       "      <td>51</td>\n",
       "    </tr>\n",
       "    <tr>\n",
       "      <th>...</th>\n",
       "      <td>...</td>\n",
       "      <td>...</td>\n",
       "      <td>...</td>\n",
       "    </tr>\n",
       "    <tr>\n",
       "      <th>110</th>\n",
       "      <td>Luigi Fagioli</td>\n",
       "      <td>Italian</td>\n",
       "      <td>1</td>\n",
       "    </tr>\n",
       "    <tr>\n",
       "      <th>111</th>\n",
       "      <td>Giancarlo Baghetti</td>\n",
       "      <td>Italian</td>\n",
       "      <td>1</td>\n",
       "    </tr>\n",
       "    <tr>\n",
       "      <th>112</th>\n",
       "      <td>Lorenzo Bandini</td>\n",
       "      <td>Italian</td>\n",
       "      <td>1</td>\n",
       "    </tr>\n",
       "    <tr>\n",
       "      <th>113</th>\n",
       "      <td>Piero Taruffi</td>\n",
       "      <td>Italian</td>\n",
       "      <td>1</td>\n",
       "    </tr>\n",
       "    <tr>\n",
       "      <th>114</th>\n",
       "      <td>Vittorio Brambilla</td>\n",
       "      <td>Italian</td>\n",
       "      <td>1</td>\n",
       "    </tr>\n",
       "  </tbody>\n",
       "</table>\n",
       "<p>115 rows × 3 columns</p>\n",
       "</div>"
      ],
      "text/plain": [
       "            driver_name driver_nationality  total_wins\n",
       "0        Lewis Hamilton            British         105\n",
       "1    Michael Schumacher             German          91\n",
       "2        Max Verstappen              Dutch          63\n",
       "3      Sebastian Vettel             German          53\n",
       "4           Alain Prost             French          51\n",
       "..                  ...                ...         ...\n",
       "110       Luigi Fagioli            Italian           1\n",
       "111  Giancarlo Baghetti            Italian           1\n",
       "112     Lorenzo Bandini            Italian           1\n",
       "113       Piero Taruffi            Italian           1\n",
       "114  Vittorio Brambilla            Italian           1\n",
       "\n",
       "[115 rows x 3 columns]"
      ]
     },
     "execution_count": 22,
     "metadata": {},
     "output_type": "execute_result"
    }
   ],
   "source": [
    "%%bigquery\n",
    "SELECT\n",
    "  driver_name,\n",
    "  driver_nationality,\n",
    "  COUNT(*) AS total_wins\n",
    "FROM\n",
    "  formula1.joined_results\n",
    "WHERE\n",
    "  wins = 1\n",
    "GROUP BY\n",
    "  driver_name, driver_nationality\n",
    "ORDER BY\n",
    "  total_wins DESC;"
   ]
  },
  {
   "cell_type": "code",
   "execution_count": 23,
   "id": "a2ea7232-88bd-4765-b700-ade07930dbfc",
   "metadata": {},
   "outputs": [
    {
     "data": {
      "application/vnd.jupyter.widget-view+json": {
       "model_id": "7ab77ea863e04b0582dad64b65d4b8a8",
       "version_major": 2,
       "version_minor": 0
      },
      "text/plain": [
       "Query is running:   0%|          |"
      ]
     },
     "metadata": {},
     "output_type": "display_data"
    },
    {
     "data": {
      "application/vnd.jupyter.widget-view+json": {
       "model_id": "c6235529f488496da84985ac1f9fddd0",
       "version_major": 2,
       "version_minor": 0
      },
      "text/plain": [
       "Downloading:   0%|          |"
      ]
     },
     "metadata": {},
     "output_type": "display_data"
    },
    {
     "data": {
      "text/html": [
       "<div>\n",
       "<style scoped>\n",
       "    .dataframe tbody tr th:only-of-type {\n",
       "        vertical-align: middle;\n",
       "    }\n",
       "\n",
       "    .dataframe tbody tr th {\n",
       "        vertical-align: top;\n",
       "    }\n",
       "\n",
       "    .dataframe thead th {\n",
       "        text-align: right;\n",
       "    }\n",
       "</style>\n",
       "<table border=\"1\" class=\"dataframe\">\n",
       "  <thead>\n",
       "    <tr style=\"text-align: right;\">\n",
       "      <th></th>\n",
       "      <th>circuit_name</th>\n",
       "      <th>circuit_country</th>\n",
       "      <th>max_fastest_lap_speed</th>\n",
       "    </tr>\n",
       "  </thead>\n",
       "  <tbody>\n",
       "    <tr>\n",
       "      <th>0</th>\n",
       "      <td>Autodromo Nazionale di Monza</td>\n",
       "      <td>Italy</td>\n",
       "      <td>257.320</td>\n",
       "    </tr>\n",
       "    <tr>\n",
       "      <th>1</th>\n",
       "      <td>Jeddah Corniche Circuit</td>\n",
       "      <td>Saudi Arabia</td>\n",
       "      <td>244.962</td>\n",
       "    </tr>\n",
       "    <tr>\n",
       "      <th>2</th>\n",
       "      <td>Silverstone Circuit</td>\n",
       "      <td>UK</td>\n",
       "      <td>243.494</td>\n",
       "    </tr>\n",
       "    <tr>\n",
       "      <th>3</th>\n",
       "      <td>Circuit de Spa-Francorchamps</td>\n",
       "      <td>Belgium</td>\n",
       "      <td>240.822</td>\n",
       "    </tr>\n",
       "    <tr>\n",
       "      <th>4</th>\n",
       "      <td>Autodromo Internazionale del Mugello</td>\n",
       "      <td>Italy</td>\n",
       "      <td>239.518</td>\n",
       "    </tr>\n",
       "    <tr>\n",
       "      <th>5</th>\n",
       "      <td>Albert Park Grand Prix Circuit</td>\n",
       "      <td>Australia</td>\n",
       "      <td>238.066</td>\n",
       "    </tr>\n",
       "    <tr>\n",
       "      <th>6</th>\n",
       "      <td>Red Bull Ring</td>\n",
       "      <td>Austria</td>\n",
       "      <td>236.894</td>\n",
       "    </tr>\n",
       "    <tr>\n",
       "      <th>7</th>\n",
       "      <td>Losail International Circuit</td>\n",
       "      <td>Qatar</td>\n",
       "      <td>236.798</td>\n",
       "    </tr>\n",
       "    <tr>\n",
       "      <th>8</th>\n",
       "      <td>Las Vegas Strip Street Circuit</td>\n",
       "      <td>United States</td>\n",
       "      <td>235.292</td>\n",
       "    </tr>\n",
       "    <tr>\n",
       "      <th>9</th>\n",
       "      <td>Autodromo Enzo e Dino Ferrari</td>\n",
       "      <td>Italy</td>\n",
       "      <td>234.121</td>\n",
       "    </tr>\n",
       "    <tr>\n",
       "      <th>10</th>\n",
       "      <td>Bahrain International Circuit</td>\n",
       "      <td>Bahrain</td>\n",
       "      <td>230.214</td>\n",
       "    </tr>\n",
       "    <tr>\n",
       "      <th>11</th>\n",
       "      <td>Suzuka Circuit</td>\n",
       "      <td>Japan</td>\n",
       "      <td>229.770</td>\n",
       "    </tr>\n",
       "    <tr>\n",
       "      <th>12</th>\n",
       "      <td>Circuit Paul Ricard</td>\n",
       "      <td>France</td>\n",
       "      <td>226.775</td>\n",
       "    </tr>\n",
       "    <tr>\n",
       "      <th>13</th>\n",
       "      <td>Istanbul Park</td>\n",
       "      <td>Turkey</td>\n",
       "      <td>226.693</td>\n",
       "    </tr>\n",
       "    <tr>\n",
       "      <th>14</th>\n",
       "      <td>Hockenheimring</td>\n",
       "      <td>Germany</td>\n",
       "      <td>223.182</td>\n",
       "    </tr>\n",
       "    <tr>\n",
       "      <th>15</th>\n",
       "      <td>Yas Marina Circuit</td>\n",
       "      <td>UAE</td>\n",
       "      <td>222.002</td>\n",
       "    </tr>\n",
       "    <tr>\n",
       "      <th>16</th>\n",
       "      <td>Circuit de Barcelona-Catalunya</td>\n",
       "      <td>Spain</td>\n",
       "      <td>220.213</td>\n",
       "    </tr>\n",
       "    <tr>\n",
       "      <th>17</th>\n",
       "      <td>Autódromo José Carlos Pace</td>\n",
       "      <td>Brazil</td>\n",
       "      <td>219.909</td>\n",
       "    </tr>\n",
       "    <tr>\n",
       "      <th>18</th>\n",
       "      <td>Sochi Autodrom</td>\n",
       "      <td>Russia</td>\n",
       "      <td>219.847</td>\n",
       "    </tr>\n",
       "    <tr>\n",
       "      <th>19</th>\n",
       "      <td>Miami International Autodrome</td>\n",
       "      <td>USA</td>\n",
       "      <td>217.184</td>\n",
       "    </tr>\n",
       "    <tr>\n",
       "      <th>20</th>\n",
       "      <td>Circuit Park Zandvoort</td>\n",
       "      <td>Netherlands</td>\n",
       "      <td>215.654</td>\n",
       "    </tr>\n",
       "    <tr>\n",
       "      <th>21</th>\n",
       "      <td>Circuit Gilles Villeneuve</td>\n",
       "      <td>Canada</td>\n",
       "      <td>214.833</td>\n",
       "    </tr>\n",
       "    <tr>\n",
       "      <th>22</th>\n",
       "      <td>Indianapolis Motor Speedway</td>\n",
       "      <td>USA</td>\n",
       "      <td>214.366</td>\n",
       "    </tr>\n",
       "    <tr>\n",
       "      <th>23</th>\n",
       "      <td>Shanghai International Circuit</td>\n",
       "      <td>China</td>\n",
       "      <td>212.749</td>\n",
       "    </tr>\n",
       "    <tr>\n",
       "      <th>24</th>\n",
       "      <td>Autódromo Internacional do Algarve</td>\n",
       "      <td>Portugal</td>\n",
       "      <td>212.708</td>\n",
       "    </tr>\n",
       "    <tr>\n",
       "      <th>25</th>\n",
       "      <td>Sepang International Circuit</td>\n",
       "      <td>Malaysia</td>\n",
       "      <td>212.104</td>\n",
       "    </tr>\n",
       "    <tr>\n",
       "      <th>26</th>\n",
       "      <td>Buddh International Circuit</td>\n",
       "      <td>India</td>\n",
       "      <td>211.463</td>\n",
       "    </tr>\n",
       "    <tr>\n",
       "      <th>27</th>\n",
       "      <td>Circuit de Nevers Magny-Cours</td>\n",
       "      <td>France</td>\n",
       "      <td>210.669</td>\n",
       "    </tr>\n",
       "    <tr>\n",
       "      <th>28</th>\n",
       "      <td>Nürburgring</td>\n",
       "      <td>Germany</td>\n",
       "      <td>210.267</td>\n",
       "    </tr>\n",
       "    <tr>\n",
       "      <th>29</th>\n",
       "      <td>Baku City Circuit</td>\n",
       "      <td>Azerbaijan</td>\n",
       "      <td>209.795</td>\n",
       "    </tr>\n",
       "    <tr>\n",
       "      <th>30</th>\n",
       "      <td>Fuji Speedway</td>\n",
       "      <td>Japan</td>\n",
       "      <td>209.456</td>\n",
       "    </tr>\n",
       "    <tr>\n",
       "      <th>31</th>\n",
       "      <td>Circuit of the Americas</td>\n",
       "      <td>USA</td>\n",
       "      <td>206.374</td>\n",
       "    </tr>\n",
       "    <tr>\n",
       "      <th>32</th>\n",
       "      <td>Hungaroring</td>\n",
       "      <td>Hungary</td>\n",
       "      <td>205.823</td>\n",
       "    </tr>\n",
       "    <tr>\n",
       "      <th>33</th>\n",
       "      <td>Korean International Circuit</td>\n",
       "      <td>Korea</td>\n",
       "      <td>202.941</td>\n",
       "    </tr>\n",
       "    <tr>\n",
       "      <th>34</th>\n",
       "      <td>Autódromo Hermanos Rodríguez</td>\n",
       "      <td>Mexico</td>\n",
       "      <td>199.223</td>\n",
       "    </tr>\n",
       "    <tr>\n",
       "      <th>35</th>\n",
       "      <td>Valencia Street Circuit</td>\n",
       "      <td>Spain</td>\n",
       "      <td>197.687</td>\n",
       "    </tr>\n",
       "    <tr>\n",
       "      <th>36</th>\n",
       "      <td>Marina Bay Street Circuit</td>\n",
       "      <td>Singapore</td>\n",
       "      <td>188.218</td>\n",
       "    </tr>\n",
       "    <tr>\n",
       "      <th>37</th>\n",
       "      <td>Circuit de Monaco</td>\n",
       "      <td>Monaco</td>\n",
       "      <td>164.769</td>\n",
       "    </tr>\n",
       "  </tbody>\n",
       "</table>\n",
       "</div>"
      ],
      "text/plain": [
       "                            circuit_name circuit_country  \\\n",
       "0           Autodromo Nazionale di Monza           Italy   \n",
       "1                Jeddah Corniche Circuit    Saudi Arabia   \n",
       "2                    Silverstone Circuit              UK   \n",
       "3           Circuit de Spa-Francorchamps         Belgium   \n",
       "4   Autodromo Internazionale del Mugello           Italy   \n",
       "5         Albert Park Grand Prix Circuit       Australia   \n",
       "6                          Red Bull Ring         Austria   \n",
       "7           Losail International Circuit           Qatar   \n",
       "8         Las Vegas Strip Street Circuit   United States   \n",
       "9          Autodromo Enzo e Dino Ferrari           Italy   \n",
       "10         Bahrain International Circuit         Bahrain   \n",
       "11                        Suzuka Circuit           Japan   \n",
       "12                   Circuit Paul Ricard          France   \n",
       "13                         Istanbul Park          Turkey   \n",
       "14                        Hockenheimring         Germany   \n",
       "15                    Yas Marina Circuit             UAE   \n",
       "16        Circuit de Barcelona-Catalunya           Spain   \n",
       "17            Autódromo José Carlos Pace          Brazil   \n",
       "18                        Sochi Autodrom          Russia   \n",
       "19         Miami International Autodrome             USA   \n",
       "20                Circuit Park Zandvoort     Netherlands   \n",
       "21             Circuit Gilles Villeneuve          Canada   \n",
       "22           Indianapolis Motor Speedway             USA   \n",
       "23        Shanghai International Circuit           China   \n",
       "24    Autódromo Internacional do Algarve        Portugal   \n",
       "25          Sepang International Circuit        Malaysia   \n",
       "26           Buddh International Circuit           India   \n",
       "27         Circuit de Nevers Magny-Cours          France   \n",
       "28                           Nürburgring         Germany   \n",
       "29                     Baku City Circuit      Azerbaijan   \n",
       "30                         Fuji Speedway           Japan   \n",
       "31               Circuit of the Americas             USA   \n",
       "32                           Hungaroring         Hungary   \n",
       "33          Korean International Circuit           Korea   \n",
       "34          Autódromo Hermanos Rodríguez          Mexico   \n",
       "35               Valencia Street Circuit           Spain   \n",
       "36             Marina Bay Street Circuit       Singapore   \n",
       "37                     Circuit de Monaco          Monaco   \n",
       "\n",
       "    max_fastest_lap_speed  \n",
       "0                 257.320  \n",
       "1                 244.962  \n",
       "2                 243.494  \n",
       "3                 240.822  \n",
       "4                 239.518  \n",
       "5                 238.066  \n",
       "6                 236.894  \n",
       "7                 236.798  \n",
       "8                 235.292  \n",
       "9                 234.121  \n",
       "10                230.214  \n",
       "11                229.770  \n",
       "12                226.775  \n",
       "13                226.693  \n",
       "14                223.182  \n",
       "15                222.002  \n",
       "16                220.213  \n",
       "17                219.909  \n",
       "18                219.847  \n",
       "19                217.184  \n",
       "20                215.654  \n",
       "21                214.833  \n",
       "22                214.366  \n",
       "23                212.749  \n",
       "24                212.708  \n",
       "25                212.104  \n",
       "26                211.463  \n",
       "27                210.669  \n",
       "28                210.267  \n",
       "29                209.795  \n",
       "30                209.456  \n",
       "31                206.374  \n",
       "32                205.823  \n",
       "33                202.941  \n",
       "34                199.223  \n",
       "35                197.687  \n",
       "36                188.218  \n",
       "37                164.769  "
      ]
     },
     "execution_count": 23,
     "metadata": {},
     "output_type": "execute_result"
    }
   ],
   "source": [
    "%%bigquery\n",
    "SELECT\n",
    "  circuit_name,\n",
    "  circuit_country,\n",
    "  MAX(fastest_lap_speed) AS max_fastest_lap_speed\n",
    "FROM\n",
    "  formula1.joined_results\n",
    "WHERE\n",
    "  fastest_lap_speed IS NOT NULL\n",
    "GROUP BY\n",
    "  circuit_name, circuit_country\n",
    "ORDER BY\n",
    "  max_fastest_lap_speed DESC;"
   ]
  },
  {
   "cell_type": "markdown",
   "id": "1d97936e-32e0-47cc-9775-040d9677f636",
   "metadata": {},
   "source": [
    "### 1.6 Discrepancy between Races and Wins (1st interesting insight)"
   ]
  },
  {
   "cell_type": "code",
   "execution_count": 24,
   "id": "32dcb547-1c46-4da6-b2d0-40e83ea72424",
   "metadata": {},
   "outputs": [
    {
     "data": {
      "application/vnd.jupyter.widget-view+json": {
       "model_id": "21211480ddee4880bc74dd4cc27e80a2",
       "version_major": 2,
       "version_minor": 0
      },
      "text/plain": [
       "Query is running:   0%|          |"
      ]
     },
     "metadata": {},
     "output_type": "display_data"
    },
    {
     "data": {
      "application/vnd.jupyter.widget-view+json": {
       "model_id": "d1b30470b4da4214b0077605aebfa4b9",
       "version_major": 2,
       "version_minor": 0
      },
      "text/plain": [
       "Downloading:   0%|          |"
      ]
     },
     "metadata": {},
     "output_type": "display_data"
    },
    {
     "data": {
      "text/html": [
       "<div>\n",
       "<style scoped>\n",
       "    .dataframe tbody tr th:only-of-type {\n",
       "        vertical-align: middle;\n",
       "    }\n",
       "\n",
       "    .dataframe tbody tr th {\n",
       "        vertical-align: top;\n",
       "    }\n",
       "\n",
       "    .dataframe thead th {\n",
       "        text-align: right;\n",
       "    }\n",
       "</style>\n",
       "<table border=\"1\" class=\"dataframe\">\n",
       "  <thead>\n",
       "    <tr style=\"text-align: right;\">\n",
       "      <th></th>\n",
       "      <th>num_races</th>\n",
       "      <th>wins_equal_1</th>\n",
       "    </tr>\n",
       "  </thead>\n",
       "  <tbody>\n",
       "    <tr>\n",
       "      <th>0</th>\n",
       "      <td>1125</td>\n",
       "      <td>1128</td>\n",
       "    </tr>\n",
       "  </tbody>\n",
       "</table>\n",
       "</div>"
      ],
      "text/plain": [
       "   num_races  wins_equal_1\n",
       "0       1125          1128"
      ]
     },
     "execution_count": 24,
     "metadata": {},
     "output_type": "execute_result"
    }
   ],
   "source": [
    "%%bigquery\n",
    "SELECT\n",
    "  (SELECT COUNT(DISTINCT race_id) FROM `formula1.joined_results`) AS num_races,\n",
    "  (SELECT COUNT(*) FROM `formula1.joined_results` WHERE wins = 1) AS wins_equal_1"
   ]
  },
  {
   "cell_type": "markdown",
   "id": "93e9f961-0a3b-4c6e-94c3-5a2801012d9f",
   "metadata": {
    "jp-MarkdownHeadingCollapsed": true
   },
   "source": [
    "**There is a slight discrepancy between the data (the number of wins should theoretically match the number of races), but we could look for a reason in this discrepancy.**"
   ]
  },
  {
   "cell_type": "code",
   "execution_count": 25,
   "id": "4b0fff4e-eb17-4b0c-a9ff-09e26e0d252e",
   "metadata": {},
   "outputs": [
    {
     "data": {
      "application/vnd.jupyter.widget-view+json": {
       "model_id": "8a18aa4d68db47a9b25d31f8c0fc24eb",
       "version_major": 2,
       "version_minor": 0
      },
      "text/plain": [
       "Query is running:   0%|          |"
      ]
     },
     "metadata": {},
     "output_type": "display_data"
    },
    {
     "data": {
      "application/vnd.jupyter.widget-view+json": {
       "model_id": "9d1921a2998048a1adf755bcd0cf017f",
       "version_major": 2,
       "version_minor": 0
      },
      "text/plain": [
       "Downloading:   0%|          |"
      ]
     },
     "metadata": {},
     "output_type": "display_data"
    },
    {
     "data": {
      "text/html": [
       "<div>\n",
       "<style scoped>\n",
       "    .dataframe tbody tr th:only-of-type {\n",
       "        vertical-align: middle;\n",
       "    }\n",
       "\n",
       "    .dataframe tbody tr th {\n",
       "        vertical-align: top;\n",
       "    }\n",
       "\n",
       "    .dataframe thead th {\n",
       "        text-align: right;\n",
       "    }\n",
       "</style>\n",
       "<table border=\"1\" class=\"dataframe\">\n",
       "  <thead>\n",
       "    <tr style=\"text-align: right;\">\n",
       "      <th></th>\n",
       "      <th>race_id</th>\n",
       "      <th>race_year</th>\n",
       "      <th>race_name</th>\n",
       "      <th>win_count</th>\n",
       "      <th>winners</th>\n",
       "    </tr>\n",
       "  </thead>\n",
       "  <tbody>\n",
       "    <tr>\n",
       "      <th>0</th>\n",
       "      <td>828</td>\n",
       "      <td>1951</td>\n",
       "      <td>French Grand Prix</td>\n",
       "      <td>2</td>\n",
       "      <td>Juan Fangio, Luigi Fagioli</td>\n",
       "    </tr>\n",
       "    <tr>\n",
       "      <th>1</th>\n",
       "      <td>784</td>\n",
       "      <td>1956</td>\n",
       "      <td>Argentine Grand Prix</td>\n",
       "      <td>2</td>\n",
       "      <td>Luigi Musso, Juan Fangio</td>\n",
       "    </tr>\n",
       "    <tr>\n",
       "      <th>2</th>\n",
       "      <td>780</td>\n",
       "      <td>1957</td>\n",
       "      <td>British Grand Prix</td>\n",
       "      <td>2</td>\n",
       "      <td>Stirling Moss, Tony Brooks</td>\n",
       "    </tr>\n",
       "  </tbody>\n",
       "</table>\n",
       "</div>"
      ],
      "text/plain": [
       "   race_id  race_year             race_name  win_count  \\\n",
       "0      828       1951     French Grand Prix          2   \n",
       "1      784       1956  Argentine Grand Prix          2   \n",
       "2      780       1957    British Grand Prix          2   \n",
       "\n",
       "                      winners  \n",
       "0  Juan Fangio, Luigi Fagioli  \n",
       "1    Luigi Musso, Juan Fangio  \n",
       "2  Stirling Moss, Tony Brooks  "
      ]
     },
     "execution_count": 25,
     "metadata": {},
     "output_type": "execute_result"
    }
   ],
   "source": [
    "%%bigquery\n",
    "SELECT\n",
    "  race_id,\n",
    "  race_year,\n",
    "  race_name,\n",
    "  COUNT(*) AS win_count,\n",
    "  STRING_AGG(driver_name, ', ') AS winners\n",
    "FROM `formula1.joined_results`\n",
    "WHERE final_position = 1\n",
    "GROUP BY race_id, race_year, race_name\n",
    "HAVING COUNT(*) > 1\n",
    "ORDER BY race_year"
   ]
  },
  {
   "cell_type": "markdown",
   "id": "52a1e106-af88-4acc-a463-8c901843dbad",
   "metadata": {
    "jp-MarkdownHeadingCollapsed": true
   },
   "source": [
    "##### And here's the reason: the discrepancy is due to a few historical cases in which shared drives were allowed. \n",
    "In the early years of Formula 1, it was possible for two drivers to share the same car during a race and both be credited with the win. This occurred, for example, in the the 1951 French Grand Prix, the 1956 Argentine Grand Prix and the 1957 British Grand Prix.\n",
    "\n",
    "Sources: [F1 France 1951](https://en.wikipedia.org/wiki/1951_French_Grand_Prix), [F1 Argentina 1956](https://en.wikipedia.org/wiki/1956_Argentine_Grand_Prix), [F1 Britain 1957](https://en.wikipedia.org/wiki/1957_British_Grand_Prix)"
   ]
  },
  {
   "cell_type": "markdown",
   "id": "1f8092f0-6e92-4582-bbd3-1ff1be1508cb",
   "metadata": {
    "jp-MarkdownHeadingCollapsed": true
   },
   "source": [
    "### 1.7 Number of drivers per race and creation of \"constructor_unusual_drivers\""
   ]
  },
  {
   "cell_type": "code",
   "execution_count": 26,
   "id": "86cd314b-8f3e-4822-9448-c1896d154b08",
   "metadata": {},
   "outputs": [
    {
     "data": {
      "application/vnd.jupyter.widget-view+json": {
       "model_id": "dd5cf0fe4a6c4dc0834e14b60263279f",
       "version_major": 2,
       "version_minor": 0
      },
      "text/plain": [
       "Query is running:   0%|          |"
      ]
     },
     "metadata": {},
     "output_type": "display_data"
    },
    {
     "data": {
      "application/vnd.jupyter.widget-view+json": {
       "model_id": "97ff8e627ff747ec9f0de854baf64591",
       "version_major": 2,
       "version_minor": 0
      },
      "text/plain": [
       "Downloading:   0%|          |"
      ]
     },
     "metadata": {},
     "output_type": "display_data"
    },
    {
     "data": {
      "text/html": [
       "<div>\n",
       "<style scoped>\n",
       "    .dataframe tbody tr th:only-of-type {\n",
       "        vertical-align: middle;\n",
       "    }\n",
       "\n",
       "    .dataframe tbody tr th {\n",
       "        vertical-align: top;\n",
       "    }\n",
       "\n",
       "    .dataframe thead th {\n",
       "        text-align: right;\n",
       "    }\n",
       "</style>\n",
       "<table border=\"1\" class=\"dataframe\">\n",
       "  <thead>\n",
       "    <tr style=\"text-align: right;\">\n",
       "      <th></th>\n",
       "      <th>constructor_name</th>\n",
       "      <th>num_races</th>\n",
       "      <th>total_drivers_participation</th>\n",
       "    </tr>\n",
       "  </thead>\n",
       "  <tbody>\n",
       "    <tr>\n",
       "      <th>0</th>\n",
       "      <td>McLaren</td>\n",
       "      <td>929</td>\n",
       "      <td>1923</td>\n",
       "    </tr>\n",
       "    <tr>\n",
       "      <th>1</th>\n",
       "      <td>Ferrari</td>\n",
       "      <td>1100</td>\n",
       "      <td>2439</td>\n",
       "    </tr>\n",
       "  </tbody>\n",
       "</table>\n",
       "</div>"
      ],
      "text/plain": [
       "  constructor_name  num_races  total_drivers_participation\n",
       "0          McLaren        929                         1923\n",
       "1          Ferrari       1100                         2439"
      ]
     },
     "execution_count": 26,
     "metadata": {},
     "output_type": "execute_result"
    }
   ],
   "source": [
    "%%bigquery\n",
    "SELECT\n",
    "  constructor_name,\n",
    "  COUNT(DISTINCT race_id) AS num_races,\n",
    "  COUNT(driver_id) AS total_drivers_participation\n",
    "FROM\n",
    "  `formula1.joined_results`\n",
    "WHERE\n",
    "  constructor_name IN ('Ferrari', 'McLaren')\n",
    "GROUP BY\n",
    "  constructor_name;"
   ]
  },
  {
   "cell_type": "code",
   "execution_count": 27,
   "id": "ac40ee5a-7669-42bf-a6ac-4302a554ca42",
   "metadata": {},
   "outputs": [
    {
     "data": {
      "application/vnd.jupyter.widget-view+json": {
       "model_id": "7572c401826d43d48a2ff442e1ea19f6",
       "version_major": 2,
       "version_minor": 0
      },
      "text/plain": [
       "Query is running:   0%|          |"
      ]
     },
     "metadata": {},
     "output_type": "display_data"
    },
    {
     "data": {
      "application/vnd.jupyter.widget-view+json": {
       "model_id": "e6e710313ca3495da6780d428fdf96b0",
       "version_major": 2,
       "version_minor": 0
      },
      "text/plain": [
       "Downloading:   0%|          |"
      ]
     },
     "metadata": {},
     "output_type": "display_data"
    },
    {
     "data": {
      "text/html": [
       "<div>\n",
       "<style scoped>\n",
       "    .dataframe tbody tr th:only-of-type {\n",
       "        vertical-align: middle;\n",
       "    }\n",
       "\n",
       "    .dataframe tbody tr th {\n",
       "        vertical-align: top;\n",
       "    }\n",
       "\n",
       "    .dataframe thead th {\n",
       "        text-align: right;\n",
       "    }\n",
       "</style>\n",
       "<table border=\"1\" class=\"dataframe\">\n",
       "  <thead>\n",
       "    <tr style=\"text-align: right;\">\n",
       "      <th></th>\n",
       "      <th>constructor_name</th>\n",
       "      <th>num_drivers</th>\n",
       "      <th>count_races</th>\n",
       "    </tr>\n",
       "  </thead>\n",
       "  <tbody>\n",
       "    <tr>\n",
       "      <th>0</th>\n",
       "      <td>Ferrari</td>\n",
       "      <td>1</td>\n",
       "      <td>39</td>\n",
       "    </tr>\n",
       "    <tr>\n",
       "      <th>1</th>\n",
       "      <td>Ferrari</td>\n",
       "      <td>2</td>\n",
       "      <td>948</td>\n",
       "    </tr>\n",
       "    <tr>\n",
       "      <th>2</th>\n",
       "      <td>Ferrari</td>\n",
       "      <td>3</td>\n",
       "      <td>41</td>\n",
       "    </tr>\n",
       "    <tr>\n",
       "      <th>3</th>\n",
       "      <td>Ferrari</td>\n",
       "      <td>4</td>\n",
       "      <td>34</td>\n",
       "    </tr>\n",
       "    <tr>\n",
       "      <th>4</th>\n",
       "      <td>Ferrari</td>\n",
       "      <td>5</td>\n",
       "      <td>20</td>\n",
       "    </tr>\n",
       "    <tr>\n",
       "      <th>5</th>\n",
       "      <td>Ferrari</td>\n",
       "      <td>6</td>\n",
       "      <td>10</td>\n",
       "    </tr>\n",
       "    <tr>\n",
       "      <th>6</th>\n",
       "      <td>Ferrari</td>\n",
       "      <td>7</td>\n",
       "      <td>4</td>\n",
       "    </tr>\n",
       "    <tr>\n",
       "      <th>7</th>\n",
       "      <td>Ferrari</td>\n",
       "      <td>8</td>\n",
       "      <td>2</td>\n",
       "    </tr>\n",
       "    <tr>\n",
       "      <th>8</th>\n",
       "      <td>Ferrari</td>\n",
       "      <td>9</td>\n",
       "      <td>1</td>\n",
       "    </tr>\n",
       "    <tr>\n",
       "      <th>9</th>\n",
       "      <td>Ferrari</td>\n",
       "      <td>10</td>\n",
       "      <td>1</td>\n",
       "    </tr>\n",
       "    <tr>\n",
       "      <th>10</th>\n",
       "      <td>McLaren</td>\n",
       "      <td>1</td>\n",
       "      <td>4</td>\n",
       "    </tr>\n",
       "    <tr>\n",
       "      <th>11</th>\n",
       "      <td>McLaren</td>\n",
       "      <td>2</td>\n",
       "      <td>873</td>\n",
       "    </tr>\n",
       "    <tr>\n",
       "      <th>12</th>\n",
       "      <td>McLaren</td>\n",
       "      <td>3</td>\n",
       "      <td>40</td>\n",
       "    </tr>\n",
       "    <tr>\n",
       "      <th>13</th>\n",
       "      <td>McLaren</td>\n",
       "      <td>4</td>\n",
       "      <td>7</td>\n",
       "    </tr>\n",
       "    <tr>\n",
       "      <th>14</th>\n",
       "      <td>McLaren</td>\n",
       "      <td>5</td>\n",
       "      <td>5</td>\n",
       "    </tr>\n",
       "  </tbody>\n",
       "</table>\n",
       "</div>"
      ],
      "text/plain": [
       "   constructor_name  num_drivers  count_races\n",
       "0           Ferrari            1           39\n",
       "1           Ferrari            2          948\n",
       "2           Ferrari            3           41\n",
       "3           Ferrari            4           34\n",
       "4           Ferrari            5           20\n",
       "5           Ferrari            6           10\n",
       "6           Ferrari            7            4\n",
       "7           Ferrari            8            2\n",
       "8           Ferrari            9            1\n",
       "9           Ferrari           10            1\n",
       "10          McLaren            1            4\n",
       "11          McLaren            2          873\n",
       "12          McLaren            3           40\n",
       "13          McLaren            4            7\n",
       "14          McLaren            5            5"
      ]
     },
     "execution_count": 27,
     "metadata": {},
     "output_type": "execute_result"
    }
   ],
   "source": [
    "%%bigquery\n",
    "WITH piloti_per_gara AS (\n",
    "  SELECT\n",
    "    constructor_name,\n",
    "    race_id,\n",
    "    COUNT(DISTINCT driver_id) AS num_drivers\n",
    "  FROM\n",
    "    `formula1.joined_results`\n",
    "  WHERE\n",
    "    constructor_name IN ('Ferrari', 'McLaren')\n",
    "  GROUP BY\n",
    "    constructor_name,\n",
    "    race_id\n",
    ")\n",
    "\n",
    "SELECT\n",
    "  constructor_name,\n",
    "  num_drivers,\n",
    "  COUNT(*) AS count_races\n",
    "FROM\n",
    "  piloti_per_gara\n",
    "GROUP BY\n",
    "  constructor_name,\n",
    "  num_drivers\n",
    "ORDER BY\n",
    "  constructor_name,\n",
    "  num_drivers"
   ]
  },
  {
   "cell_type": "code",
   "execution_count": 28,
   "id": "d1cdf028-04f9-4a03-8e47-2c394c5cae52",
   "metadata": {},
   "outputs": [
    {
     "data": {
      "application/vnd.jupyter.widget-view+json": {
       "model_id": "7bcfa49be7b347df9c3e4e6b9bdff7a9",
       "version_major": 2,
       "version_minor": 0
      },
      "text/plain": [
       "Query is running:   0%|          |"
      ]
     },
     "metadata": {},
     "output_type": "display_data"
    },
    {
     "data": {
      "application/vnd.jupyter.widget-view+json": {
       "model_id": "719c5b51151244859fb579cf8fd1fe2c",
       "version_major": 2,
       "version_minor": 0
      },
      "text/plain": [
       "Downloading:   0%|          |"
      ]
     },
     "metadata": {},
     "output_type": "display_data"
    },
    {
     "data": {
      "text/html": [
       "<div>\n",
       "<style scoped>\n",
       "    .dataframe tbody tr th:only-of-type {\n",
       "        vertical-align: middle;\n",
       "    }\n",
       "\n",
       "    .dataframe tbody tr th {\n",
       "        vertical-align: top;\n",
       "    }\n",
       "\n",
       "    .dataframe thead th {\n",
       "        text-align: right;\n",
       "    }\n",
       "</style>\n",
       "<table border=\"1\" class=\"dataframe\">\n",
       "  <thead>\n",
       "    <tr style=\"text-align: right;\">\n",
       "      <th></th>\n",
       "      <th>total_races_not_2_drivers</th>\n",
       "    </tr>\n",
       "  </thead>\n",
       "  <tbody>\n",
       "    <tr>\n",
       "      <th>0</th>\n",
       "      <td>2598</td>\n",
       "    </tr>\n",
       "  </tbody>\n",
       "</table>\n",
       "</div>"
      ],
      "text/plain": [
       "   total_races_not_2_drivers\n",
       "0                       2598"
      ]
     },
     "execution_count": 28,
     "metadata": {},
     "output_type": "execute_result"
    }
   ],
   "source": [
    "%%bigquery\n",
    "SELECT\n",
    "  COUNT(*) AS total_races_not_2_drivers\n",
    "FROM (\n",
    "  SELECT\n",
    "    race_year,\n",
    "    race_name,\n",
    "    constructor_name,\n",
    "    COUNT(DISTINCT driver_id) AS num_drivers\n",
    "  FROM\n",
    "    `formula1.joined_results`\n",
    "  GROUP BY\n",
    "    race_year,\n",
    "    race_name,\n",
    "    constructor_name\n",
    "  HAVING\n",
    "    num_drivers != 2\n",
    ")"
   ]
  },
  {
   "cell_type": "code",
   "execution_count": 29,
   "id": "76c447da-f67b-449b-985a-d4b353454efd",
   "metadata": {
    "scrolled": true
   },
   "outputs": [
    {
     "data": {
      "application/vnd.jupyter.widget-view+json": {
       "model_id": "5a4fd18d25b64f07839a96a4ad93a79b",
       "version_major": 2,
       "version_minor": 0
      },
      "text/plain": [
       "Query is running:   0%|          |"
      ]
     },
     "metadata": {},
     "output_type": "display_data"
    },
    {
     "data": {
      "application/vnd.jupyter.widget-view+json": {
       "model_id": "063fbcc26dc544968e3fd87458836944",
       "version_major": 2,
       "version_minor": 0
      },
      "text/plain": [
       "Downloading:   0%|          |"
      ]
     },
     "metadata": {},
     "output_type": "display_data"
    },
    {
     "data": {
      "text/html": [
       "<div>\n",
       "<style scoped>\n",
       "    .dataframe tbody tr th:only-of-type {\n",
       "        vertical-align: middle;\n",
       "    }\n",
       "\n",
       "    .dataframe tbody tr th {\n",
       "        vertical-align: top;\n",
       "    }\n",
       "\n",
       "    .dataframe thead th {\n",
       "        text-align: right;\n",
       "    }\n",
       "</style>\n",
       "<table border=\"1\" class=\"dataframe\">\n",
       "  <thead>\n",
       "    <tr style=\"text-align: right;\">\n",
       "      <th></th>\n",
       "      <th>constructor_name</th>\n",
       "      <th>num_races_not_2_drivers</th>\n",
       "    </tr>\n",
       "  </thead>\n",
       "  <tbody>\n",
       "    <tr>\n",
       "      <th>0</th>\n",
       "      <td>BRM</td>\n",
       "      <td>153</td>\n",
       "    </tr>\n",
       "    <tr>\n",
       "      <th>1</th>\n",
       "      <td>Ferrari</td>\n",
       "      <td>152</td>\n",
       "    </tr>\n",
       "    <tr>\n",
       "      <th>2</th>\n",
       "      <td>Ensign</td>\n",
       "      <td>112</td>\n",
       "    </tr>\n",
       "    <tr>\n",
       "      <th>3</th>\n",
       "      <td>March</td>\n",
       "      <td>106</td>\n",
       "    </tr>\n",
       "    <tr>\n",
       "      <th>4</th>\n",
       "      <td>Osella</td>\n",
       "      <td>92</td>\n",
       "    </tr>\n",
       "    <tr>\n",
       "      <th>...</th>\n",
       "      <td>...</td>\n",
       "      <td>...</td>\n",
       "    </tr>\n",
       "    <tr>\n",
       "      <th>168</th>\n",
       "      <td>Cooper-OSCA</td>\n",
       "      <td>1</td>\n",
       "    </tr>\n",
       "    <tr>\n",
       "      <th>169</th>\n",
       "      <td>Tec-Mec</td>\n",
       "      <td>1</td>\n",
       "    </tr>\n",
       "    <tr>\n",
       "      <th>170</th>\n",
       "      <td>Cooper-Borgward</td>\n",
       "      <td>1</td>\n",
       "    </tr>\n",
       "    <tr>\n",
       "      <th>171</th>\n",
       "      <td>Connew</td>\n",
       "      <td>1</td>\n",
       "    </tr>\n",
       "    <tr>\n",
       "      <th>172</th>\n",
       "      <td>Marussia</td>\n",
       "      <td>1</td>\n",
       "    </tr>\n",
       "  </tbody>\n",
       "</table>\n",
       "<p>173 rows × 2 columns</p>\n",
       "</div>"
      ],
      "text/plain": [
       "    constructor_name  num_races_not_2_drivers\n",
       "0                BRM                      153\n",
       "1            Ferrari                      152\n",
       "2             Ensign                      112\n",
       "3              March                      106\n",
       "4             Osella                       92\n",
       "..               ...                      ...\n",
       "168      Cooper-OSCA                        1\n",
       "169          Tec-Mec                        1\n",
       "170  Cooper-Borgward                        1\n",
       "171           Connew                        1\n",
       "172         Marussia                        1\n",
       "\n",
       "[173 rows x 2 columns]"
      ]
     },
     "execution_count": 29,
     "metadata": {},
     "output_type": "execute_result"
    }
   ],
   "source": [
    "%%bigquery\n",
    "SELECT\n",
    "  constructor_name,\n",
    "  COUNT(*) AS num_races_not_2_drivers\n",
    "FROM (\n",
    "  SELECT\n",
    "    race_year,\n",
    "    race_name,\n",
    "    constructor_name,\n",
    "    COUNT(DISTINCT driver_id) AS num_drivers\n",
    "  FROM\n",
    "    `formula1.joined_results`\n",
    "  GROUP BY\n",
    "    race_year,\n",
    "    race_name,\n",
    "    constructor_name\n",
    "  HAVING\n",
    "    num_drivers != 2\n",
    ")\n",
    "GROUP BY\n",
    "  constructor_name\n",
    "ORDER BY\n",
    "  num_races_not_2_drivers DESC;"
   ]
  },
  {
   "cell_type": "code",
   "execution_count": 30,
   "id": "28a37481-1be7-46d8-af35-69fa2008102a",
   "metadata": {},
   "outputs": [
    {
     "data": {
      "application/vnd.jupyter.widget-view+json": {
       "model_id": "8500b51650d9441496df5c8be44bafc3",
       "version_major": 2,
       "version_minor": 0
      },
      "text/plain": [
       "Query is running:   0%|          |"
      ]
     },
     "metadata": {},
     "output_type": "display_data"
    },
    {
     "data": {
      "text/html": [
       "<div>\n",
       "<style scoped>\n",
       "    .dataframe tbody tr th:only-of-type {\n",
       "        vertical-align: middle;\n",
       "    }\n",
       "\n",
       "    .dataframe tbody tr th {\n",
       "        vertical-align: top;\n",
       "    }\n",
       "\n",
       "    .dataframe thead th {\n",
       "        text-align: right;\n",
       "    }\n",
       "</style>\n",
       "<table border=\"1\" class=\"dataframe\">\n",
       "  <thead>\n",
       "    <tr style=\"text-align: right;\">\n",
       "      <th></th>\n",
       "    </tr>\n",
       "  </thead>\n",
       "  <tbody>\n",
       "  </tbody>\n",
       "</table>\n",
       "</div>"
      ],
      "text/plain": [
       "Empty DataFrame\n",
       "Columns: []\n",
       "Index: []"
      ]
     },
     "execution_count": 30,
     "metadata": {},
     "output_type": "execute_result"
    }
   ],
   "source": [
    "%%bigquery\n",
    "CREATE OR REPLACE TABLE `formula1.constructor_unusual_drivers` AS\n",
    "SELECT\n",
    "  race_year,\n",
    "  race_name,\n",
    "  constructor_name,\n",
    "  COUNT(DISTINCT driver_id) AS num_drivers,\n",
    "  STRING_AGG(DISTINCT driver_name, ', ') AS drivers_list\n",
    "FROM\n",
    "  `formula1.joined_results`\n",
    "GROUP BY\n",
    "  race_year,\n",
    "  race_name,\n",
    "  constructor_name\n",
    "HAVING\n",
    "  num_drivers != 2"
   ]
  },
  {
   "cell_type": "markdown",
   "id": "716eed56-0d76-4851-a0b7-b317e2258155",
   "metadata": {},
   "source": [
    "### 1.8 Details on races with number of drivers !=2 (2nd interesting insight)"
   ]
  },
  {
   "cell_type": "code",
   "execution_count": 31,
   "id": "a3aeb294-e63f-437a-ad8a-747beb2da2ca",
   "metadata": {},
   "outputs": [
    {
     "data": {
      "application/vnd.jupyter.widget-view+json": {
       "model_id": "5d4f80551fd34af2b7c5244daa915598",
       "version_major": 2,
       "version_minor": 0
      },
      "text/plain": [
       "Query is running:   0%|          |"
      ]
     },
     "metadata": {},
     "output_type": "display_data"
    },
    {
     "data": {
      "application/vnd.jupyter.widget-view+json": {
       "model_id": "74c727d441b545fe8fbb41338603b89c",
       "version_major": 2,
       "version_minor": 0
      },
      "text/plain": [
       "Downloading:   0%|          |"
      ]
     },
     "metadata": {},
     "output_type": "display_data"
    },
    {
     "data": {
      "text/html": [
       "<div>\n",
       "<style scoped>\n",
       "    .dataframe tbody tr th:only-of-type {\n",
       "        vertical-align: middle;\n",
       "    }\n",
       "\n",
       "    .dataframe tbody tr th {\n",
       "        vertical-align: top;\n",
       "    }\n",
       "\n",
       "    .dataframe thead th {\n",
       "        text-align: right;\n",
       "    }\n",
       "</style>\n",
       "<table border=\"1\" class=\"dataframe\">\n",
       "  <thead>\n",
       "    <tr style=\"text-align: right;\">\n",
       "      <th></th>\n",
       "      <th>count_before_1985</th>\n",
       "      <th>total_races_not_2_drivers</th>\n",
       "      <th>percentage_before_1985</th>\n",
       "    </tr>\n",
       "  </thead>\n",
       "  <tbody>\n",
       "    <tr>\n",
       "      <th>0</th>\n",
       "      <td>2281</td>\n",
       "      <td>2598</td>\n",
       "      <td>87.8</td>\n",
       "    </tr>\n",
       "  </tbody>\n",
       "</table>\n",
       "</div>"
      ],
      "text/plain": [
       "   count_before_1985  total_races_not_2_drivers  percentage_before_1985\n",
       "0               2281                       2598                    87.8"
      ]
     },
     "execution_count": 31,
     "metadata": {},
     "output_type": "execute_result"
    }
   ],
   "source": [
    "%%bigquery\n",
    "WITH unusual_drivers AS (\n",
    "  SELECT *\n",
    "  FROM `formula1.constructor_unusual_drivers`\n",
    "  WHERE num_drivers != 2\n",
    ")\n",
    "\n",
    "SELECT\n",
    "  COUNTIF(race_year < 1985) AS count_before_1985,\n",
    "  COUNT(*) AS total_races_not_2_drivers,\n",
    "  ROUND( (COUNTIF(race_year < 1985) / COUNT(*)) * 100, 2) AS percentage_before_1985\n",
    "FROM unusual_drivers"
   ]
  },
  {
   "cell_type": "markdown",
   "id": "e09bf112-3437-4eb4-a34d-570bf37157c9",
   "metadata": {
    "jp-MarkdownHeadingCollapsed": true
   },
   "source": [
    "#### Even though 1985 is in the middle between 1950 and 2024 we can see that more than 7/8 of the cases were all before 1985. \n",
    "In fact the number of cars entered by one team into a single race was not strictly limited in the 1950s and early 1960s. Since the 1963 season teams were generally allowed to enter only two regular cars, with the third car reserved for an occasional driver. This rule was further promoted in the 1974 season when the permanent racing numbers were assigned to each team in pairs, with the third car having the racing number out of the pair. Entering more than three cars was exceptionally tolerated, most notably regarding the BRM team in the 1971 and 1972 seasons. However, many teams during this period entered only two cars, e.g. Ferrari have entered no more than two cars (with one exception at the 1976 Italian Grand Prix in connection with Lauda's comeback) every season since 1973. Since the 1985 season the FIA have required that teams enter no more than two cars for a race; during this season Renault became the last team to have entered three cars for a race at the 1985 German Grand Prix, but only two of their cars were eligible for championship points.\n",
    "\n",
    "Source: [List of Formula One constructors (paragraph \"Teams\")](https://en.wikipedia.org/wiki/List_of_Formula_One_constructors#:~:text=Since%20the%201985%20season%20the,were%20eligible%20for%20championship%20points.)"
   ]
  },
  {
   "cell_type": "markdown",
   "id": "a086ead6-f0a5-4bf2-b94e-3e69a6949829",
   "metadata": {
    "jp-MarkdownHeadingCollapsed": true
   },
   "source": [
    "#### In our dataset we are lucky to see exactly this exception for Renault"
   ]
  },
  {
   "cell_type": "code",
   "execution_count": 32,
   "id": "43e7975c-db3a-4e52-a939-a3c5d619c5a4",
   "metadata": {},
   "outputs": [
    {
     "data": {
      "application/vnd.jupyter.widget-view+json": {
       "model_id": "b6372680716e4a7bb1aac88599343fae",
       "version_major": 2,
       "version_minor": 0
      },
      "text/plain": [
       "Query is running:   0%|          |"
      ]
     },
     "metadata": {},
     "output_type": "display_data"
    },
    {
     "data": {
      "application/vnd.jupyter.widget-view+json": {
       "model_id": "d866165c28104310af8f8462789cd8c5",
       "version_major": 2,
       "version_minor": 0
      },
      "text/plain": [
       "Downloading:   0%|          |"
      ]
     },
     "metadata": {},
     "output_type": "display_data"
    },
    {
     "data": {
      "text/html": [
       "<div>\n",
       "<style scoped>\n",
       "    .dataframe tbody tr th:only-of-type {\n",
       "        vertical-align: middle;\n",
       "    }\n",
       "\n",
       "    .dataframe tbody tr th {\n",
       "        vertical-align: top;\n",
       "    }\n",
       "\n",
       "    .dataframe thead th {\n",
       "        text-align: right;\n",
       "    }\n",
       "</style>\n",
       "<table border=\"1\" class=\"dataframe\">\n",
       "  <thead>\n",
       "    <tr style=\"text-align: right;\">\n",
       "      <th></th>\n",
       "      <th>race_year</th>\n",
       "      <th>race_name</th>\n",
       "      <th>constructor_name</th>\n",
       "      <th>num_drivers</th>\n",
       "      <th>drivers_list</th>\n",
       "    </tr>\n",
       "  </thead>\n",
       "  <tbody>\n",
       "    <tr>\n",
       "      <th>0</th>\n",
       "      <td>1985</td>\n",
       "      <td>German Grand Prix</td>\n",
       "      <td>Renault</td>\n",
       "      <td>3</td>\n",
       "      <td>François Hesnault, Patrick Tambay, Derek Warwick</td>\n",
       "    </tr>\n",
       "  </tbody>\n",
       "</table>\n",
       "</div>"
      ],
      "text/plain": [
       "   race_year          race_name constructor_name  num_drivers  \\\n",
       "0       1985  German Grand Prix          Renault            3   \n",
       "\n",
       "                                       drivers_list  \n",
       "0  François Hesnault, Patrick Tambay, Derek Warwick  "
      ]
     },
     "execution_count": 32,
     "metadata": {},
     "output_type": "execute_result"
    }
   ],
   "source": [
    "%%bigquery \n",
    "SELECT * FROM formula1.constructor_unusual_drivers\n",
    "WHERE race_year >= 1985 \n",
    "AND num_drivers >2"
   ]
  },
  {
   "cell_type": "markdown",
   "id": "8e273d6c-f847-4231-9209-6fb79cd2cbd6",
   "metadata": {},
   "source": [
    "In fact"
   ]
  },
  {
   "cell_type": "code",
   "execution_count": 33,
   "id": "43fc6c5f-3659-42d3-bfd1-9188dda99cbc",
   "metadata": {},
   "outputs": [
    {
     "data": {
      "application/vnd.jupyter.widget-view+json": {
       "model_id": "26ec7d81ede64b158e232f086bd1f12c",
       "version_major": 2,
       "version_minor": 0
      },
      "text/plain": [
       "Query is running:   0%|          |"
      ]
     },
     "metadata": {},
     "output_type": "display_data"
    },
    {
     "data": {
      "application/vnd.jupyter.widget-view+json": {
       "model_id": "7d2a445481e84ed38f60502f9909c56b",
       "version_major": 2,
       "version_minor": 0
      },
      "text/plain": [
       "Downloading:   0%|          |"
      ]
     },
     "metadata": {},
     "output_type": "display_data"
    },
    {
     "data": {
      "text/html": [
       "<div>\n",
       "<style scoped>\n",
       "    .dataframe tbody tr th:only-of-type {\n",
       "        vertical-align: middle;\n",
       "    }\n",
       "\n",
       "    .dataframe tbody tr th {\n",
       "        vertical-align: top;\n",
       "    }\n",
       "\n",
       "    .dataframe thead th {\n",
       "        text-align: right;\n",
       "    }\n",
       "</style>\n",
       "<table border=\"1\" class=\"dataframe\">\n",
       "  <thead>\n",
       "    <tr style=\"text-align: right;\">\n",
       "      <th></th>\n",
       "      <th>count_more_than_2</th>\n",
       "      <th>count_less_than_2</th>\n",
       "      <th>total_unusual_cases</th>\n",
       "      <th>perc_more_than_2</th>\n",
       "      <th>perc_less_than_2</th>\n",
       "    </tr>\n",
       "  </thead>\n",
       "  <tbody>\n",
       "    <tr>\n",
       "      <th>0</th>\n",
       "      <td>1</td>\n",
       "      <td>316</td>\n",
       "      <td>317</td>\n",
       "      <td>0.32</td>\n",
       "      <td>99.68</td>\n",
       "    </tr>\n",
       "  </tbody>\n",
       "</table>\n",
       "</div>"
      ],
      "text/plain": [
       "   count_more_than_2  count_less_than_2  total_unusual_cases  \\\n",
       "0                  1                316                  317   \n",
       "\n",
       "   perc_more_than_2  perc_less_than_2  \n",
       "0              0.32             99.68  "
      ]
     },
     "execution_count": 33,
     "metadata": {},
     "output_type": "execute_result"
    }
   ],
   "source": [
    "%%bigquery\n",
    "WITH post_1985_unusual_drivers AS (\n",
    "  SELECT *\n",
    "  FROM `formula1.constructor_unusual_drivers`\n",
    "  WHERE race_year >= 1985\n",
    ")\n",
    "\n",
    "SELECT\n",
    "  COUNTIF(num_drivers > 2) AS count_more_than_2,\n",
    "  COUNTIF(num_drivers < 2) AS count_less_than_2,\n",
    "  COUNT(*) AS total_unusual_cases,\n",
    "  ROUND(COUNTIF(num_drivers > 2) * 100.0 / COUNT(*), 2) AS perc_more_than_2,\n",
    "  ROUND(COUNTIF(num_drivers < 2) * 100.0 / COUNT(*), 2) AS perc_less_than_2\n",
    "FROM post_1985_unusual_drivers"
   ]
  },
  {
   "cell_type": "markdown",
   "id": "18d704d5-d45e-4774-9a64-ac9b6b1dd5a3",
   "metadata": {
    "jp-MarkdownHeadingCollapsed": true
   },
   "source": [
    "### 1.9 Grid stats and last queries before ML application in Databricks (3rd interesting insight) + Export to GCS "
   ]
  },
  {
   "cell_type": "markdown",
   "id": "7dacb69e-2426-45f9-95e8-d99b79b39ac5",
   "metadata": {},
   "source": [
    "##### Grid Stats"
   ]
  },
  {
   "cell_type": "code",
   "execution_count": 34,
   "id": "b6b0c42f-7346-4f33-94fc-c1694187205b",
   "metadata": {},
   "outputs": [
    {
     "data": {
      "application/vnd.jupyter.widget-view+json": {
       "model_id": "3b599d2309c44e0daf092f2cb05ea2ee",
       "version_major": 2,
       "version_minor": 0
      },
      "text/plain": [
       "Query is running:   0%|          |"
      ]
     },
     "metadata": {},
     "output_type": "display_data"
    },
    {
     "data": {
      "application/vnd.jupyter.widget-view+json": {
       "model_id": "32a6ae20ea444aee949b2135344a3135",
       "version_major": 2,
       "version_minor": 0
      },
      "text/plain": [
       "Downloading:   0%|          |"
      ]
     },
     "metadata": {},
     "output_type": "display_data"
    },
    {
     "data": {
      "text/html": [
       "<div>\n",
       "<style scoped>\n",
       "    .dataframe tbody tr th:only-of-type {\n",
       "        vertical-align: middle;\n",
       "    }\n",
       "\n",
       "    .dataframe tbody tr th {\n",
       "        vertical-align: top;\n",
       "    }\n",
       "\n",
       "    .dataframe thead th {\n",
       "        text-align: right;\n",
       "    }\n",
       "</style>\n",
       "<table border=\"1\" class=\"dataframe\">\n",
       "  <thead>\n",
       "    <tr style=\"text-align: right;\">\n",
       "      <th></th>\n",
       "      <th>wins_from_top6</th>\n",
       "      <th>wins_from_others</th>\n",
       "      <th>total_wins</th>\n",
       "      <th>pct_wins_top6</th>\n",
       "    </tr>\n",
       "  </thead>\n",
       "  <tbody>\n",
       "    <tr>\n",
       "      <th>0</th>\n",
       "      <td>1043</td>\n",
       "      <td>85</td>\n",
       "      <td>1128</td>\n",
       "      <td>92.46</td>\n",
       "    </tr>\n",
       "  </tbody>\n",
       "</table>\n",
       "</div>"
      ],
      "text/plain": [
       "   wins_from_top6  wins_from_others  total_wins  pct_wins_top6\n",
       "0            1043                85        1128          92.46"
      ]
     },
     "execution_count": 34,
     "metadata": {},
     "output_type": "execute_result"
    }
   ],
   "source": [
    "%%bigquery\n",
    "WITH winners AS (\n",
    "  SELECT\n",
    "    race_id,\n",
    "    start_grid_position,\n",
    "    wins\n",
    "  FROM\n",
    "    `formula1.joined_results`\n",
    "  WHERE wins = 1\n",
    ")\n",
    "\n",
    "SELECT\n",
    "  SUM(CASE WHEN start_grid_position BETWEEN 1 AND 6 THEN 1 ELSE 0 END) AS wins_from_top6,\n",
    "  SUM(CASE WHEN start_grid_position NOT BETWEEN 1 AND 6 THEN 1 ELSE 0 END) AS wins_from_others,\n",
    "  COUNT(*) AS total_wins,\n",
    "  ROUND(SAFE_DIVIDE(SUM(CASE WHEN start_grid_position BETWEEN 1 AND 6 THEN 1 ELSE 0 END), COUNT(*)) * 100, 2) AS pct_wins_top6\n",
    "FROM winners"
   ]
  },
  {
   "cell_type": "code",
   "execution_count": 35,
   "id": "608622ae-17aa-40f6-bf99-cd89ae6b9fb9",
   "metadata": {},
   "outputs": [
    {
     "data": {
      "application/vnd.jupyter.widget-view+json": {
       "model_id": "2f68841909924592a75a67f40974c71a",
       "version_major": 2,
       "version_minor": 0
      },
      "text/plain": [
       "Query is running:   0%|          |"
      ]
     },
     "metadata": {},
     "output_type": "display_data"
    },
    {
     "data": {
      "application/vnd.jupyter.widget-view+json": {
       "model_id": "ffff9aa30cdb4d9887677184c215da4d",
       "version_major": 2,
       "version_minor": 0
      },
      "text/plain": [
       "Downloading:   0%|          |"
      ]
     },
     "metadata": {},
     "output_type": "display_data"
    },
    {
     "data": {
      "text/html": [
       "<div>\n",
       "<style scoped>\n",
       "    .dataframe tbody tr th:only-of-type {\n",
       "        vertical-align: middle;\n",
       "    }\n",
       "\n",
       "    .dataframe tbody tr th {\n",
       "        vertical-align: top;\n",
       "    }\n",
       "\n",
       "    .dataframe thead th {\n",
       "        text-align: right;\n",
       "    }\n",
       "</style>\n",
       "<table border=\"1\" class=\"dataframe\">\n",
       "  <thead>\n",
       "    <tr style=\"text-align: right;\">\n",
       "      <th></th>\n",
       "      <th>start_grid_position</th>\n",
       "      <th>wins</th>\n",
       "      <th>win_rate</th>\n",
       "      <th>cumulative_wins</th>\n",
       "      <th>cumulative_win_rate</th>\n",
       "    </tr>\n",
       "  </thead>\n",
       "  <tbody>\n",
       "    <tr>\n",
       "      <th>0</th>\n",
       "      <td>1</td>\n",
       "      <td>481</td>\n",
       "      <td>42.64</td>\n",
       "      <td>481</td>\n",
       "      <td>42.64</td>\n",
       "    </tr>\n",
       "    <tr>\n",
       "      <th>1</th>\n",
       "      <td>2</td>\n",
       "      <td>268</td>\n",
       "      <td>23.76</td>\n",
       "      <td>749</td>\n",
       "      <td>66.40</td>\n",
       "    </tr>\n",
       "    <tr>\n",
       "      <th>2</th>\n",
       "      <td>3</td>\n",
       "      <td>137</td>\n",
       "      <td>12.15</td>\n",
       "      <td>886</td>\n",
       "      <td>78.55</td>\n",
       "    </tr>\n",
       "    <tr>\n",
       "      <th>3</th>\n",
       "      <td>4</td>\n",
       "      <td>68</td>\n",
       "      <td>6.03</td>\n",
       "      <td>954</td>\n",
       "      <td>84.57</td>\n",
       "    </tr>\n",
       "    <tr>\n",
       "      <th>4</th>\n",
       "      <td>5</td>\n",
       "      <td>49</td>\n",
       "      <td>4.34</td>\n",
       "      <td>1003</td>\n",
       "      <td>88.92</td>\n",
       "    </tr>\n",
       "    <tr>\n",
       "      <th>5</th>\n",
       "      <td>6</td>\n",
       "      <td>40</td>\n",
       "      <td>3.55</td>\n",
       "      <td>1043</td>\n",
       "      <td>92.46</td>\n",
       "    </tr>\n",
       "    <tr>\n",
       "      <th>6</th>\n",
       "      <td>7</td>\n",
       "      <td>23</td>\n",
       "      <td>2.04</td>\n",
       "      <td>1066</td>\n",
       "      <td>94.50</td>\n",
       "    </tr>\n",
       "    <tr>\n",
       "      <th>7</th>\n",
       "      <td>8</td>\n",
       "      <td>17</td>\n",
       "      <td>1.51</td>\n",
       "      <td>1083</td>\n",
       "      <td>96.01</td>\n",
       "    </tr>\n",
       "    <tr>\n",
       "      <th>8</th>\n",
       "      <td>9</td>\n",
       "      <td>5</td>\n",
       "      <td>0.44</td>\n",
       "      <td>1088</td>\n",
       "      <td>96.45</td>\n",
       "    </tr>\n",
       "    <tr>\n",
       "      <th>9</th>\n",
       "      <td>10</td>\n",
       "      <td>12</td>\n",
       "      <td>1.06</td>\n",
       "      <td>1100</td>\n",
       "      <td>97.52</td>\n",
       "    </tr>\n",
       "    <tr>\n",
       "      <th>10</th>\n",
       "      <td>11</td>\n",
       "      <td>5</td>\n",
       "      <td>0.44</td>\n",
       "      <td>1105</td>\n",
       "      <td>97.96</td>\n",
       "    </tr>\n",
       "    <tr>\n",
       "      <th>11</th>\n",
       "      <td>12</td>\n",
       "      <td>3</td>\n",
       "      <td>0.27</td>\n",
       "      <td>1108</td>\n",
       "      <td>98.23</td>\n",
       "    </tr>\n",
       "    <tr>\n",
       "      <th>12</th>\n",
       "      <td>13</td>\n",
       "      <td>4</td>\n",
       "      <td>0.35</td>\n",
       "      <td>1112</td>\n",
       "      <td>98.58</td>\n",
       "    </tr>\n",
       "    <tr>\n",
       "      <th>13</th>\n",
       "      <td>14</td>\n",
       "      <td>7</td>\n",
       "      <td>0.62</td>\n",
       "      <td>1119</td>\n",
       "      <td>99.20</td>\n",
       "    </tr>\n",
       "    <tr>\n",
       "      <th>14</th>\n",
       "      <td>15</td>\n",
       "      <td>1</td>\n",
       "      <td>0.09</td>\n",
       "      <td>1120</td>\n",
       "      <td>99.29</td>\n",
       "    </tr>\n",
       "    <tr>\n",
       "      <th>15</th>\n",
       "      <td>16</td>\n",
       "      <td>2</td>\n",
       "      <td>0.18</td>\n",
       "      <td>1122</td>\n",
       "      <td>99.47</td>\n",
       "    </tr>\n",
       "    <tr>\n",
       "      <th>16</th>\n",
       "      <td>17</td>\n",
       "      <td>3</td>\n",
       "      <td>0.27</td>\n",
       "      <td>1125</td>\n",
       "      <td>99.73</td>\n",
       "    </tr>\n",
       "    <tr>\n",
       "      <th>17</th>\n",
       "      <td>18</td>\n",
       "      <td>1</td>\n",
       "      <td>0.09</td>\n",
       "      <td>1126</td>\n",
       "      <td>99.82</td>\n",
       "    </tr>\n",
       "    <tr>\n",
       "      <th>18</th>\n",
       "      <td>19</td>\n",
       "      <td>1</td>\n",
       "      <td>0.09</td>\n",
       "      <td>1127</td>\n",
       "      <td>99.91</td>\n",
       "    </tr>\n",
       "    <tr>\n",
       "      <th>19</th>\n",
       "      <td>20</td>\n",
       "      <td>0</td>\n",
       "      <td>0.00</td>\n",
       "      <td>1127</td>\n",
       "      <td>99.91</td>\n",
       "    </tr>\n",
       "    <tr>\n",
       "      <th>20</th>\n",
       "      <td>21</td>\n",
       "      <td>0</td>\n",
       "      <td>0.00</td>\n",
       "      <td>1127</td>\n",
       "      <td>99.91</td>\n",
       "    </tr>\n",
       "    <tr>\n",
       "      <th>21</th>\n",
       "      <td>22</td>\n",
       "      <td>1</td>\n",
       "      <td>0.09</td>\n",
       "      <td>1128</td>\n",
       "      <td>100.00</td>\n",
       "    </tr>\n",
       "    <tr>\n",
       "      <th>22</th>\n",
       "      <td>23</td>\n",
       "      <td>0</td>\n",
       "      <td>0.00</td>\n",
       "      <td>1128</td>\n",
       "      <td>100.00</td>\n",
       "    </tr>\n",
       "    <tr>\n",
       "      <th>23</th>\n",
       "      <td>24</td>\n",
       "      <td>0</td>\n",
       "      <td>0.00</td>\n",
       "      <td>1128</td>\n",
       "      <td>100.00</td>\n",
       "    </tr>\n",
       "    <tr>\n",
       "      <th>24</th>\n",
       "      <td>25</td>\n",
       "      <td>0</td>\n",
       "      <td>0.00</td>\n",
       "      <td>1128</td>\n",
       "      <td>100.00</td>\n",
       "    </tr>\n",
       "    <tr>\n",
       "      <th>25</th>\n",
       "      <td>26</td>\n",
       "      <td>0</td>\n",
       "      <td>0.00</td>\n",
       "      <td>1128</td>\n",
       "      <td>100.00</td>\n",
       "    </tr>\n",
       "    <tr>\n",
       "      <th>26</th>\n",
       "      <td>27</td>\n",
       "      <td>0</td>\n",
       "      <td>0.00</td>\n",
       "      <td>1128</td>\n",
       "      <td>100.00</td>\n",
       "    </tr>\n",
       "    <tr>\n",
       "      <th>27</th>\n",
       "      <td>28</td>\n",
       "      <td>0</td>\n",
       "      <td>0.00</td>\n",
       "      <td>1128</td>\n",
       "      <td>100.00</td>\n",
       "    </tr>\n",
       "    <tr>\n",
       "      <th>28</th>\n",
       "      <td>29</td>\n",
       "      <td>0</td>\n",
       "      <td>0.00</td>\n",
       "      <td>1128</td>\n",
       "      <td>100.00</td>\n",
       "    </tr>\n",
       "    <tr>\n",
       "      <th>29</th>\n",
       "      <td>30</td>\n",
       "      <td>0</td>\n",
       "      <td>0.00</td>\n",
       "      <td>1128</td>\n",
       "      <td>100.00</td>\n",
       "    </tr>\n",
       "    <tr>\n",
       "      <th>30</th>\n",
       "      <td>31</td>\n",
       "      <td>0</td>\n",
       "      <td>0.00</td>\n",
       "      <td>1128</td>\n",
       "      <td>100.00</td>\n",
       "    </tr>\n",
       "    <tr>\n",
       "      <th>31</th>\n",
       "      <td>32</td>\n",
       "      <td>0</td>\n",
       "      <td>0.00</td>\n",
       "      <td>1128</td>\n",
       "      <td>100.00</td>\n",
       "    </tr>\n",
       "    <tr>\n",
       "      <th>32</th>\n",
       "      <td>33</td>\n",
       "      <td>0</td>\n",
       "      <td>0.00</td>\n",
       "      <td>1128</td>\n",
       "      <td>100.00</td>\n",
       "    </tr>\n",
       "    <tr>\n",
       "      <th>33</th>\n",
       "      <td>34</td>\n",
       "      <td>0</td>\n",
       "      <td>0.00</td>\n",
       "      <td>1128</td>\n",
       "      <td>100.00</td>\n",
       "    </tr>\n",
       "  </tbody>\n",
       "</table>\n",
       "</div>"
      ],
      "text/plain": [
       "    start_grid_position  wins  win_rate  cumulative_wins  cumulative_win_rate\n",
       "0                     1   481     42.64              481                42.64\n",
       "1                     2   268     23.76              749                66.40\n",
       "2                     3   137     12.15              886                78.55\n",
       "3                     4    68      6.03              954                84.57\n",
       "4                     5    49      4.34             1003                88.92\n",
       "5                     6    40      3.55             1043                92.46\n",
       "6                     7    23      2.04             1066                94.50\n",
       "7                     8    17      1.51             1083                96.01\n",
       "8                     9     5      0.44             1088                96.45\n",
       "9                    10    12      1.06             1100                97.52\n",
       "10                   11     5      0.44             1105                97.96\n",
       "11                   12     3      0.27             1108                98.23\n",
       "12                   13     4      0.35             1112                98.58\n",
       "13                   14     7      0.62             1119                99.20\n",
       "14                   15     1      0.09             1120                99.29\n",
       "15                   16     2      0.18             1122                99.47\n",
       "16                   17     3      0.27             1125                99.73\n",
       "17                   18     1      0.09             1126                99.82\n",
       "18                   19     1      0.09             1127                99.91\n",
       "19                   20     0      0.00             1127                99.91\n",
       "20                   21     0      0.00             1127                99.91\n",
       "21                   22     1      0.09             1128               100.00\n",
       "22                   23     0      0.00             1128               100.00\n",
       "23                   24     0      0.00             1128               100.00\n",
       "24                   25     0      0.00             1128               100.00\n",
       "25                   26     0      0.00             1128               100.00\n",
       "26                   27     0      0.00             1128               100.00\n",
       "27                   28     0      0.00             1128               100.00\n",
       "28                   29     0      0.00             1128               100.00\n",
       "29                   30     0      0.00             1128               100.00\n",
       "30                   31     0      0.00             1128               100.00\n",
       "31                   32     0      0.00             1128               100.00\n",
       "32                   33     0      0.00             1128               100.00\n",
       "33                   34     0      0.00             1128               100.00"
      ]
     },
     "execution_count": 35,
     "metadata": {},
     "output_type": "execute_result"
    }
   ],
   "source": [
    "%%bigquery\n",
    "WITH win_data AS (\n",
    "  SELECT\n",
    "    start_grid_position,\n",
    "    SUM(wins) AS wins\n",
    "  FROM\n",
    "    `formula1.joined_results`\n",
    "  WHERE\n",
    "    start_grid_position != 0\n",
    "  GROUP BY\n",
    "    start_grid_position\n",
    "),\n",
    "total AS (\n",
    "  SELECT SUM(wins) AS total_wins FROM win_data\n",
    "),\n",
    "with_cumulative AS (\n",
    "  SELECT\n",
    "    w.start_grid_position,\n",
    "    w.wins,\n",
    "    SUM(w.wins) OVER (ORDER BY w.start_grid_position) AS cumulative_wins,\n",
    "    t.total_wins\n",
    "  FROM\n",
    "    win_data w, total t\n",
    ")\n",
    "\n",
    "SELECT\n",
    "  start_grid_position,\n",
    "  wins,\n",
    "  ROUND(100 * wins / total_wins, 2) AS win_rate,\n",
    "  cumulative_wins,\n",
    "  ROUND(100 * cumulative_wins / total_wins, 2) AS cumulative_win_rate\n",
    "FROM\n",
    "  with_cumulative\n",
    "ORDER BY\n",
    "  start_grid_position;"
   ]
  },
  {
   "cell_type": "markdown",
   "id": "fe5f684f-0a8d-4dce-a860-8c410815a59f",
   "metadata": {},
   "source": [
    "##### Export to Google Cloud Storage"
   ]
  },
  {
   "cell_type": "markdown",
   "id": "beab8b36-0978-4c86-9283-c40bd5e561fb",
   "metadata": {},
   "source": [
    "Export of \"joined_results\""
   ]
  },
  {
   "cell_type": "code",
   "execution_count": 36,
   "id": "dbb3aae8-2e25-46e3-8c76-295fb1788984",
   "metadata": {},
   "outputs": [],
   "source": [
    "from google.cloud import bigquery\n",
    "client = bigquery.Client()\n",
    "table_id = \"formula1.joined_results\"\n",
    "bucket_name = \"ccbd-exam-2025-risino111\"\n",
    "destination_path = f\"gs://{bucket_name}/exported_joined_results.csv\""
   ]
  },
  {
   "cell_type": "code",
   "execution_count": 37,
   "id": "3847d76a-bcd5-4b0d-ad07-1dc2bf8076b9",
   "metadata": {},
   "outputs": [
    {
     "name": "stdout",
     "output_type": "stream",
     "text": [
      "Export completed!\n"
     ]
    }
   ],
   "source": [
    "extract_job = client.extract_table(\n",
    "    table_id,\n",
    "    destination_path,\n",
    "    job_config=bigquery.ExtractJobConfig(print_header=True, field_delimiter=\",\"),\n",
    "    location=\"EU\"  \n",
    ")\n",
    "extract_job.result()  \n",
    "print(\"Export completed!\")"
   ]
  },
  {
   "cell_type": "markdown",
   "id": "434100c5-936d-4b6c-89ff-97e390ea0f94",
   "metadata": {},
   "source": [
    "Export of \"constructor_unusual_drivers\""
   ]
  },
  {
   "cell_type": "code",
   "execution_count": 38,
   "id": "4b8f197c-6777-416a-825a-3380e15c33b7",
   "metadata": {},
   "outputs": [],
   "source": [
    "from google.cloud import bigquery\n",
    "client = bigquery.Client()\n",
    "table_id2 = \"formula1.constructor_unusual_drivers\"\n",
    "bucket_name2 = \"ccbd-exam-2025-risino111\"\n",
    "destination_path2 = f\"gs://{bucket_name}/exported_constructor_unusual_drivers.csv\""
   ]
  },
  {
   "cell_type": "code",
   "execution_count": 39,
   "id": "7602da5a-090e-4b3c-97e7-8e430cde3b08",
   "metadata": {},
   "outputs": [
    {
     "name": "stdout",
     "output_type": "stream",
     "text": [
      "Export completed!\n"
     ]
    }
   ],
   "source": [
    "extract_job2 = client.extract_table(\n",
    "    table_id2,\n",
    "    destination_path2,\n",
    "    job_config=bigquery.ExtractJobConfig(print_header=True, field_delimiter=\",\"),\n",
    "    location=\"EU\"  \n",
    ")\n",
    "extract_job2.result()  \n",
    "print(\"Export completed!\")"
   ]
  },
  {
   "cell_type": "markdown",
   "id": "623c10fb-6eb9-424b-abc2-6653e09e3ba9",
   "metadata": {},
   "source": [
    "# 2. To visualize the details of the results click on the link below\n",
    "[Open my Looker Studio Dashboard](https://lookerstudio.google.com/s/jWUP7Mp3CDc)"
   ]
  },
  {
   "cell_type": "markdown",
   "id": "775f5a57-38f2-482f-a5b5-0a95cb0abf41",
   "metadata": {},
   "source": [
    "# 3. Data Enrichment\n",
    "[To see the Databricks side with the Machine Learning in-depth analysis click here](https://databricks-prod-cloudfront.cloud.databricks.com/public/4027ec902e239c93eaaa8714f173bcfc/3706853530635392/2578662843473137/2314117943557060/latest.html)"
   ]
  }
 ],
 "metadata": {
  "kernelspec": {
   "display_name": "Python 3 (ipykernel)",
   "language": "python",
   "name": "python3"
  },
  "language_info": {
   "codemirror_mode": {
    "name": "ipython",
    "version": 3
   },
   "file_extension": ".py",
   "mimetype": "text/x-python",
   "name": "python",
   "nbconvert_exporter": "python",
   "pygments_lexer": "ipython3",
   "version": "3.12.2"
  }
 },
 "nbformat": 4,
 "nbformat_minor": 5
}
